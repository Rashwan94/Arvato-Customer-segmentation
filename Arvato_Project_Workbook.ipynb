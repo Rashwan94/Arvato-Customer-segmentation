{
 "cells": [
  {
   "cell_type": "markdown",
   "metadata": {
    "colab_type": "text",
    "id": "mY_W94Fygtee"
   },
   "source": [
    "# Capstone Project: Create a Customer Segmentation Report for Arvato Financial Services\n",
    "\n",
    "In this project, you will analyze demographics data for customers of a mail-order sales company in Germany, comparing it against demographics information for the general population. You'll use unsupervised learning techniques to perform customer segmentation, identifying the parts of the population that best describe the core customer base of the company. Then, you'll apply what you've learned on a third dataset with demographics information for targets of a marketing campaign for the company, and use a model to predict which individuals are most likely to convert into becoming customers for the company. The data that you will use has been provided by our partners at Bertelsmann Arvato Analytics, and represents a real-life data science task.\n",
    "\n",
    "If you completed the first term of this program, you will be familiar with the first part of this project, from the unsupervised learning project. The versions of those two datasets used in this project will include many more features and has not been pre-cleaned. You are also free to choose whatever approach you'd like to analyzing the data rather than follow pre-determined steps. In your work on this project, make sure that you carefully document your steps and decisions, since your main deliverable for this project will be a blog post reporting your findings."
   ]
  },
  {
   "cell_type": "markdown",
   "metadata": {},
   "source": [
    "### this project was developed through google's colab notebooks"
   ]
  },
  {
   "cell_type": "code",
   "execution_count": 0,
   "metadata": {
    "colab": {
     "base_uri": "https://localhost:8080/",
     "height": 125
    },
    "colab_type": "code",
    "id": "Tk0Sa13To2IN",
    "outputId": "bb07b2fb-3ac0-4ac8-9d1a-d984fa333ef9"
   },
   "outputs": [
    {
     "name": "stdout",
     "output_type": "stream",
     "text": [
      "Go to this URL in a browser: https://accounts.google.com/o/oauth2/auth?client_id=947318989803-6bn6qk8qdgf4n4g3pfee6491hc0brc4i.apps.googleusercontent.com&redirect_uri=urn%3aietf%3awg%3aoauth%3a2.0%3aoob&response_type=code&scope=email%20https%3a%2f%2fwww.googleapis.com%2fauth%2fdocs.test%20https%3a%2f%2fwww.googleapis.com%2fauth%2fdrive%20https%3a%2f%2fwww.googleapis.com%2fauth%2fdrive.photos.readonly%20https%3a%2f%2fwww.googleapis.com%2fauth%2fpeopleapi.readonly\n",
      "\n",
      "Enter your authorization code:\n",
      "··········\n",
      "Mounted at /content/drive\n"
     ]
    }
   ],
   "source": [
    "#mounting drive to my google colab notebook to retrieve data stored in my google drive\n",
    "from google.colab import drive\n",
    "drive.mount('/content/drive')"
   ]
  },
  {
   "cell_type": "markdown",
   "metadata": {},
   "source": [
    "# Importing libraries"
   ]
  },
  {
   "cell_type": "code",
   "execution_count": 0,
   "metadata": {
    "colab": {
     "base_uri": "https://localhost:8080/",
     "height": 72
    },
    "colab_type": "code",
    "id": "bjmlSTBNgtey",
    "outputId": "8fc4c427-8ed3-4c5f-9d24-297d76ef995d"
   },
   "outputs": [
    {
     "name": "stderr",
     "output_type": "stream",
     "text": [
      "/usr/local/lib/python3.6/dist-packages/statsmodels/tools/_testing.py:19: FutureWarning: pandas.util.testing is deprecated. Use the functions in the public API at pandas.testing instead.\n",
      "  import pandas.util.testing as tm\n"
     ]
    }
   ],
   "source": [
    "# import libraries here; add more as necessary\n",
    "\n",
    "import numpy as np\n",
    "import pandas as pd\n",
    "import matplotlib.pyplot as plt\n",
    "import seaborn as sns\n",
    "import gc\n",
    "\n",
    "\n",
    "import time\n",
    "\n",
    "from sklearn.model_selection import train_test_split, GridSearchCV, cross_val_score, RandomizedSearchCV\n",
    "from sklearn.ensemble import RandomForestRegressor\n",
    "from sklearn.ensemble import GradientBoostingRegressor\n",
    "from xgboost.sklearn import XGBRegressor\n",
    "import lightgbm as lgb\n",
    "from sklearn import pipeline\n",
    "\n",
    "from sklearn import metrics\n",
    "from sklearn.metrics import roc_auc_score\n",
    "\n",
    "from sklearn.cluster import KMeans\n",
    "from sklearn.mixture import GaussianMixture\n",
    "from sklearn.metrics import silhouette_score\n",
    "\n",
    "import pickle\n",
    "\n",
    "from sklearn.decomposition import PCA\n",
    "from sklearn.preprocessing import RobustScaler\n",
    "from sklearn.preprocessing import LabelEncoder\n",
    "from sklearn.impute import SimpleImputer\n",
    "\n",
    "\n",
    "%matplotlib inline"
   ]
  },
  {
   "cell_type": "markdown",
   "metadata": {
    "colab_type": "text",
    "id": "8jSJbZ94gtfV"
   },
   "source": [
    "## Part 0: Get to Know the Data\n",
    "\n",
    "There are four data files associated with this project:\n",
    "\n",
    "- `Udacity_AZDIAS_052018.csv`: Demographics data for the general population of Germany; 891 211 persons (rows) x 366 features (columns).\n",
    "- `Udacity_CUSTOMERS_052018.csv`: Demographics data for customers of a mail-order company; 191 652 persons (rows) x 369 features (columns).\n",
    "- `Udacity_MAILOUT_052018_TRAIN.csv`: Demographics data for individuals who were targets of a marketing campaign; 42 982 persons (rows) x 367 (columns).\n",
    "- `Udacity_MAILOUT_052018_TEST.csv`: Demographics data for individuals who were targets of a marketing campaign; 42 833 persons (rows) x 366 (columns).\n",
    "\n",
    "Each row of the demographics files represents a single person, but also includes information outside of individuals, including information about their household, building, and neighborhood. Use the information from the first two files to figure out how customers (\"CUSTOMERS\") are similar to or differ from the general population at large (\"AZDIAS\"), then use your analysis to make predictions on the other two files (\"MAILOUT\"), predicting which recipients are most likely to become a customer for the mail-order company.\n",
    "\n",
    "The \"CUSTOMERS\" file contains three extra columns ('CUSTOMER_GROUP', 'ONLINE_PURCHASE', and 'PRODUCT_GROUP'), which provide broad information about the customers depicted in the file. The original \"MAILOUT\" file included one additional column, \"RESPONSE\", which indicated whether or not each recipient became a customer of the company. For the \"TRAIN\" subset, this column has been retained, but in the \"TEST\" subset it has been removed; it is against that withheld column that your final predictions will be assessed in the Kaggle competition.\n",
    "\n",
    "Otherwise, all of the remaining columns are the same between the three data files. For more information about the columns depicted in the files, you can refer to two Excel spreadsheets provided in the workspace. [One of them](./DIAS Information Levels - Attributes 2017.xlsx) is a top-level list of attributes and descriptions, organized by informational category. [The other](./DIAS Attributes - Values 2017.xlsx) is a detailed mapping of data values for each feature in alphabetical order.\n",
    "\n",
    "In the below cell, we've provided some initial code to load in the first two datasets. Note for all of the `.csv` data files in this project that they're semicolon (`;`) delimited, so an additional argument in the [`read_csv()`](https://pandas.pydata.org/pandas-docs/stable/generated/pandas.read_csv.html) call has been included to read in the data properly. Also, considering the size of the datasets, it may take some time for them to load completely.\n",
    "\n",
    "You'll notice when the data is loaded in that a warning message will immediately pop up. Before you really start digging into the modeling and analysis, you're going to need to perform some cleaning. Take some time to browse the structure of the data and look over the informational spreadsheets to understand the data values. Make some decisions on which features to keep, which features to drop, and if any revisions need to be made on data formats. It'll be a good idea to create a function with pre-processing steps, since you'll need to clean all of the datasets before you work with them."
   ]
  },
  {
   "cell_type": "markdown",
   "metadata": {},
   "source": [
    "### loading in the data and starting data exploration"
   ]
  },
  {
   "cell_type": "code",
   "execution_count": 0,
   "metadata": {
    "colab": {},
    "colab_type": "code",
    "id": "UO0tYSeigtfd"
   },
   "outputs": [],
   "source": [
    "# load in the data\n",
    "azdias = pd.read_csv('/content/drive/My Drive/data capstone/Udacity_AZDIAS_052018.csv', sep=';', low_memory=False)"
   ]
  },
  {
   "cell_type": "code",
   "execution_count": 0,
   "metadata": {
    "colab": {
     "base_uri": "https://localhost:8080/",
     "height": 246
    },
    "colab_type": "code",
    "id": "5OsygDJagtgT",
    "outputId": "fadd49ed-2e70-420b-b0e5-be6bb4abc196"
   },
   "outputs": [
    {
     "data": {
      "text/html": [
       "<div>\n",
       "<style scoped>\n",
       "    .dataframe tbody tr th:only-of-type {\n",
       "        vertical-align: middle;\n",
       "    }\n",
       "\n",
       "    .dataframe tbody tr th {\n",
       "        vertical-align: top;\n",
       "    }\n",
       "\n",
       "    .dataframe thead th {\n",
       "        text-align: right;\n",
       "    }\n",
       "</style>\n",
       "<table border=\"1\" class=\"dataframe\">\n",
       "  <thead>\n",
       "    <tr style=\"text-align: right;\">\n",
       "      <th></th>\n",
       "      <th>LNR</th>\n",
       "      <th>AGER_TYP</th>\n",
       "      <th>AKT_DAT_KL</th>\n",
       "      <th>ALTER_HH</th>\n",
       "      <th>ALTER_KIND1</th>\n",
       "      <th>ALTER_KIND2</th>\n",
       "      <th>ALTER_KIND3</th>\n",
       "      <th>ALTER_KIND4</th>\n",
       "      <th>ALTERSKATEGORIE_FEIN</th>\n",
       "      <th>ANZ_HAUSHALTE_AKTIV</th>\n",
       "      <th>ANZ_HH_TITEL</th>\n",
       "      <th>ANZ_KINDER</th>\n",
       "      <th>ANZ_PERSONEN</th>\n",
       "      <th>ANZ_STATISTISCHE_HAUSHALTE</th>\n",
       "      <th>ANZ_TITEL</th>\n",
       "      <th>ARBEIT</th>\n",
       "      <th>BALLRAUM</th>\n",
       "      <th>CAMEO_DEU_2015</th>\n",
       "      <th>CAMEO_DEUG_2015</th>\n",
       "      <th>CAMEO_INTL_2015</th>\n",
       "      <th>CJT_GESAMTTYP</th>\n",
       "      <th>CJT_KATALOGNUTZER</th>\n",
       "      <th>CJT_TYP_1</th>\n",
       "      <th>CJT_TYP_2</th>\n",
       "      <th>CJT_TYP_3</th>\n",
       "      <th>CJT_TYP_4</th>\n",
       "      <th>CJT_TYP_5</th>\n",
       "      <th>CJT_TYP_6</th>\n",
       "      <th>D19_BANKEN_ANZ_12</th>\n",
       "      <th>D19_BANKEN_ANZ_24</th>\n",
       "      <th>D19_BANKEN_DATUM</th>\n",
       "      <th>D19_BANKEN_DIREKT</th>\n",
       "      <th>D19_BANKEN_GROSS</th>\n",
       "      <th>D19_BANKEN_LOKAL</th>\n",
       "      <th>D19_BANKEN_OFFLINE_DATUM</th>\n",
       "      <th>D19_BANKEN_ONLINE_DATUM</th>\n",
       "      <th>D19_BANKEN_ONLINE_QUOTE_12</th>\n",
       "      <th>D19_BANKEN_REST</th>\n",
       "      <th>D19_BEKLEIDUNG_GEH</th>\n",
       "      <th>D19_BEKLEIDUNG_REST</th>\n",
       "      <th>...</th>\n",
       "      <th>REGIOTYP</th>\n",
       "      <th>RELAT_AB</th>\n",
       "      <th>RETOURTYP_BK_S</th>\n",
       "      <th>RT_KEIN_ANREIZ</th>\n",
       "      <th>RT_SCHNAEPPCHEN</th>\n",
       "      <th>RT_UEBERGROESSE</th>\n",
       "      <th>SEMIO_DOM</th>\n",
       "      <th>SEMIO_ERL</th>\n",
       "      <th>SEMIO_FAM</th>\n",
       "      <th>SEMIO_KAEM</th>\n",
       "      <th>SEMIO_KRIT</th>\n",
       "      <th>SEMIO_KULT</th>\n",
       "      <th>SEMIO_LUST</th>\n",
       "      <th>SEMIO_MAT</th>\n",
       "      <th>SEMIO_PFLICHT</th>\n",
       "      <th>SEMIO_RAT</th>\n",
       "      <th>SEMIO_REL</th>\n",
       "      <th>SEMIO_SOZ</th>\n",
       "      <th>SEMIO_TRADV</th>\n",
       "      <th>SEMIO_VERT</th>\n",
       "      <th>SHOPPER_TYP</th>\n",
       "      <th>SOHO_KZ</th>\n",
       "      <th>STRUKTURTYP</th>\n",
       "      <th>TITEL_KZ</th>\n",
       "      <th>UMFELD_ALT</th>\n",
       "      <th>UMFELD_JUNG</th>\n",
       "      <th>UNGLEICHENN_FLAG</th>\n",
       "      <th>VERDICHTUNGSRAUM</th>\n",
       "      <th>VERS_TYP</th>\n",
       "      <th>VHA</th>\n",
       "      <th>VHN</th>\n",
       "      <th>VK_DHT4A</th>\n",
       "      <th>VK_DISTANZ</th>\n",
       "      <th>VK_ZG11</th>\n",
       "      <th>W_KEIT_KIND_HH</th>\n",
       "      <th>WOHNDAUER_2008</th>\n",
       "      <th>WOHNLAGE</th>\n",
       "      <th>ZABEOTYP</th>\n",
       "      <th>ANREDE_KZ</th>\n",
       "      <th>ALTERSKATEGORIE_GROB</th>\n",
       "    </tr>\n",
       "  </thead>\n",
       "  <tbody>\n",
       "    <tr>\n",
       "      <th>0</th>\n",
       "      <td>910215</td>\n",
       "      <td>-1</td>\n",
       "      <td>NaN</td>\n",
       "      <td>NaN</td>\n",
       "      <td>NaN</td>\n",
       "      <td>NaN</td>\n",
       "      <td>NaN</td>\n",
       "      <td>NaN</td>\n",
       "      <td>NaN</td>\n",
       "      <td>NaN</td>\n",
       "      <td>NaN</td>\n",
       "      <td>NaN</td>\n",
       "      <td>NaN</td>\n",
       "      <td>NaN</td>\n",
       "      <td>NaN</td>\n",
       "      <td>NaN</td>\n",
       "      <td>NaN</td>\n",
       "      <td>NaN</td>\n",
       "      <td>NaN</td>\n",
       "      <td>NaN</td>\n",
       "      <td>2.0</td>\n",
       "      <td>5.0</td>\n",
       "      <td>1.0</td>\n",
       "      <td>1.0</td>\n",
       "      <td>5.0</td>\n",
       "      <td>5.0</td>\n",
       "      <td>5.0</td>\n",
       "      <td>5.0</td>\n",
       "      <td>0</td>\n",
       "      <td>0</td>\n",
       "      <td>10</td>\n",
       "      <td>0</td>\n",
       "      <td>0</td>\n",
       "      <td>0</td>\n",
       "      <td>10</td>\n",
       "      <td>10</td>\n",
       "      <td>NaN</td>\n",
       "      <td>0</td>\n",
       "      <td>0</td>\n",
       "      <td>0</td>\n",
       "      <td>...</td>\n",
       "      <td>NaN</td>\n",
       "      <td>NaN</td>\n",
       "      <td>5.0</td>\n",
       "      <td>1.0</td>\n",
       "      <td>4.0</td>\n",
       "      <td>1.0</td>\n",
       "      <td>6</td>\n",
       "      <td>3</td>\n",
       "      <td>6</td>\n",
       "      <td>6</td>\n",
       "      <td>7</td>\n",
       "      <td>3</td>\n",
       "      <td>5</td>\n",
       "      <td>5</td>\n",
       "      <td>5</td>\n",
       "      <td>4</td>\n",
       "      <td>7</td>\n",
       "      <td>2</td>\n",
       "      <td>3</td>\n",
       "      <td>1</td>\n",
       "      <td>-1</td>\n",
       "      <td>NaN</td>\n",
       "      <td>NaN</td>\n",
       "      <td>NaN</td>\n",
       "      <td>NaN</td>\n",
       "      <td>NaN</td>\n",
       "      <td>NaN</td>\n",
       "      <td>NaN</td>\n",
       "      <td>-1</td>\n",
       "      <td>NaN</td>\n",
       "      <td>NaN</td>\n",
       "      <td>NaN</td>\n",
       "      <td>NaN</td>\n",
       "      <td>NaN</td>\n",
       "      <td>NaN</td>\n",
       "      <td>NaN</td>\n",
       "      <td>NaN</td>\n",
       "      <td>3</td>\n",
       "      <td>1</td>\n",
       "      <td>2</td>\n",
       "    </tr>\n",
       "    <tr>\n",
       "      <th>1</th>\n",
       "      <td>910220</td>\n",
       "      <td>-1</td>\n",
       "      <td>9.0</td>\n",
       "      <td>0.0</td>\n",
       "      <td>NaN</td>\n",
       "      <td>NaN</td>\n",
       "      <td>NaN</td>\n",
       "      <td>NaN</td>\n",
       "      <td>21.0</td>\n",
       "      <td>11.0</td>\n",
       "      <td>0.0</td>\n",
       "      <td>0.0</td>\n",
       "      <td>2.0</td>\n",
       "      <td>12.0</td>\n",
       "      <td>0.0</td>\n",
       "      <td>3.0</td>\n",
       "      <td>6.0</td>\n",
       "      <td>8A</td>\n",
       "      <td>8</td>\n",
       "      <td>51</td>\n",
       "      <td>5.0</td>\n",
       "      <td>1.0</td>\n",
       "      <td>5.0</td>\n",
       "      <td>5.0</td>\n",
       "      <td>2.0</td>\n",
       "      <td>3.0</td>\n",
       "      <td>1.0</td>\n",
       "      <td>1.0</td>\n",
       "      <td>0</td>\n",
       "      <td>0</td>\n",
       "      <td>10</td>\n",
       "      <td>0</td>\n",
       "      <td>0</td>\n",
       "      <td>0</td>\n",
       "      <td>10</td>\n",
       "      <td>10</td>\n",
       "      <td>NaN</td>\n",
       "      <td>0</td>\n",
       "      <td>0</td>\n",
       "      <td>0</td>\n",
       "      <td>...</td>\n",
       "      <td>3.0</td>\n",
       "      <td>4.0</td>\n",
       "      <td>1.0</td>\n",
       "      <td>5.0</td>\n",
       "      <td>3.0</td>\n",
       "      <td>5.0</td>\n",
       "      <td>7</td>\n",
       "      <td>2</td>\n",
       "      <td>4</td>\n",
       "      <td>4</td>\n",
       "      <td>4</td>\n",
       "      <td>3</td>\n",
       "      <td>2</td>\n",
       "      <td>3</td>\n",
       "      <td>7</td>\n",
       "      <td>6</td>\n",
       "      <td>4</td>\n",
       "      <td>5</td>\n",
       "      <td>6</td>\n",
       "      <td>1</td>\n",
       "      <td>3</td>\n",
       "      <td>1.0</td>\n",
       "      <td>2.0</td>\n",
       "      <td>0.0</td>\n",
       "      <td>3.0</td>\n",
       "      <td>3.0</td>\n",
       "      <td>1.0</td>\n",
       "      <td>0.0</td>\n",
       "      <td>2</td>\n",
       "      <td>0.0</td>\n",
       "      <td>4.0</td>\n",
       "      <td>8.0</td>\n",
       "      <td>11.0</td>\n",
       "      <td>10.0</td>\n",
       "      <td>3.0</td>\n",
       "      <td>9.0</td>\n",
       "      <td>4.0</td>\n",
       "      <td>5</td>\n",
       "      <td>2</td>\n",
       "      <td>1</td>\n",
       "    </tr>\n",
       "    <tr>\n",
       "      <th>2</th>\n",
       "      <td>910225</td>\n",
       "      <td>-1</td>\n",
       "      <td>9.0</td>\n",
       "      <td>17.0</td>\n",
       "      <td>NaN</td>\n",
       "      <td>NaN</td>\n",
       "      <td>NaN</td>\n",
       "      <td>NaN</td>\n",
       "      <td>17.0</td>\n",
       "      <td>10.0</td>\n",
       "      <td>0.0</td>\n",
       "      <td>0.0</td>\n",
       "      <td>1.0</td>\n",
       "      <td>7.0</td>\n",
       "      <td>0.0</td>\n",
       "      <td>3.0</td>\n",
       "      <td>2.0</td>\n",
       "      <td>4C</td>\n",
       "      <td>4</td>\n",
       "      <td>24</td>\n",
       "      <td>3.0</td>\n",
       "      <td>2.0</td>\n",
       "      <td>4.0</td>\n",
       "      <td>4.0</td>\n",
       "      <td>1.0</td>\n",
       "      <td>3.0</td>\n",
       "      <td>2.0</td>\n",
       "      <td>2.0</td>\n",
       "      <td>0</td>\n",
       "      <td>0</td>\n",
       "      <td>10</td>\n",
       "      <td>0</td>\n",
       "      <td>0</td>\n",
       "      <td>0</td>\n",
       "      <td>10</td>\n",
       "      <td>10</td>\n",
       "      <td>0.0</td>\n",
       "      <td>0</td>\n",
       "      <td>0</td>\n",
       "      <td>0</td>\n",
       "      <td>...</td>\n",
       "      <td>2.0</td>\n",
       "      <td>2.0</td>\n",
       "      <td>3.0</td>\n",
       "      <td>5.0</td>\n",
       "      <td>4.0</td>\n",
       "      <td>5.0</td>\n",
       "      <td>7</td>\n",
       "      <td>6</td>\n",
       "      <td>1</td>\n",
       "      <td>7</td>\n",
       "      <td>7</td>\n",
       "      <td>3</td>\n",
       "      <td>4</td>\n",
       "      <td>3</td>\n",
       "      <td>3</td>\n",
       "      <td>4</td>\n",
       "      <td>3</td>\n",
       "      <td>4</td>\n",
       "      <td>3</td>\n",
       "      <td>4</td>\n",
       "      <td>2</td>\n",
       "      <td>0.0</td>\n",
       "      <td>3.0</td>\n",
       "      <td>0.0</td>\n",
       "      <td>2.0</td>\n",
       "      <td>5.0</td>\n",
       "      <td>0.0</td>\n",
       "      <td>1.0</td>\n",
       "      <td>1</td>\n",
       "      <td>0.0</td>\n",
       "      <td>2.0</td>\n",
       "      <td>9.0</td>\n",
       "      <td>9.0</td>\n",
       "      <td>6.0</td>\n",
       "      <td>3.0</td>\n",
       "      <td>9.0</td>\n",
       "      <td>2.0</td>\n",
       "      <td>5</td>\n",
       "      <td>2</td>\n",
       "      <td>3</td>\n",
       "    </tr>\n",
       "    <tr>\n",
       "      <th>3</th>\n",
       "      <td>910226</td>\n",
       "      <td>2</td>\n",
       "      <td>1.0</td>\n",
       "      <td>13.0</td>\n",
       "      <td>NaN</td>\n",
       "      <td>NaN</td>\n",
       "      <td>NaN</td>\n",
       "      <td>NaN</td>\n",
       "      <td>13.0</td>\n",
       "      <td>1.0</td>\n",
       "      <td>0.0</td>\n",
       "      <td>0.0</td>\n",
       "      <td>0.0</td>\n",
       "      <td>2.0</td>\n",
       "      <td>0.0</td>\n",
       "      <td>2.0</td>\n",
       "      <td>4.0</td>\n",
       "      <td>2A</td>\n",
       "      <td>2</td>\n",
       "      <td>12</td>\n",
       "      <td>2.0</td>\n",
       "      <td>3.0</td>\n",
       "      <td>2.0</td>\n",
       "      <td>2.0</td>\n",
       "      <td>4.0</td>\n",
       "      <td>4.0</td>\n",
       "      <td>5.0</td>\n",
       "      <td>3.0</td>\n",
       "      <td>0</td>\n",
       "      <td>0</td>\n",
       "      <td>10</td>\n",
       "      <td>0</td>\n",
       "      <td>0</td>\n",
       "      <td>0</td>\n",
       "      <td>10</td>\n",
       "      <td>10</td>\n",
       "      <td>0.0</td>\n",
       "      <td>0</td>\n",
       "      <td>0</td>\n",
       "      <td>0</td>\n",
       "      <td>...</td>\n",
       "      <td>0.0</td>\n",
       "      <td>3.0</td>\n",
       "      <td>2.0</td>\n",
       "      <td>3.0</td>\n",
       "      <td>2.0</td>\n",
       "      <td>3.0</td>\n",
       "      <td>4</td>\n",
       "      <td>7</td>\n",
       "      <td>1</td>\n",
       "      <td>5</td>\n",
       "      <td>4</td>\n",
       "      <td>4</td>\n",
       "      <td>4</td>\n",
       "      <td>1</td>\n",
       "      <td>4</td>\n",
       "      <td>3</td>\n",
       "      <td>2</td>\n",
       "      <td>5</td>\n",
       "      <td>4</td>\n",
       "      <td>4</td>\n",
       "      <td>1</td>\n",
       "      <td>0.0</td>\n",
       "      <td>1.0</td>\n",
       "      <td>0.0</td>\n",
       "      <td>4.0</td>\n",
       "      <td>5.0</td>\n",
       "      <td>0.0</td>\n",
       "      <td>0.0</td>\n",
       "      <td>1</td>\n",
       "      <td>1.0</td>\n",
       "      <td>0.0</td>\n",
       "      <td>7.0</td>\n",
       "      <td>10.0</td>\n",
       "      <td>11.0</td>\n",
       "      <td>NaN</td>\n",
       "      <td>9.0</td>\n",
       "      <td>7.0</td>\n",
       "      <td>3</td>\n",
       "      <td>2</td>\n",
       "      <td>4</td>\n",
       "    </tr>\n",
       "    <tr>\n",
       "      <th>4</th>\n",
       "      <td>910241</td>\n",
       "      <td>-1</td>\n",
       "      <td>1.0</td>\n",
       "      <td>20.0</td>\n",
       "      <td>NaN</td>\n",
       "      <td>NaN</td>\n",
       "      <td>NaN</td>\n",
       "      <td>NaN</td>\n",
       "      <td>14.0</td>\n",
       "      <td>3.0</td>\n",
       "      <td>0.0</td>\n",
       "      <td>0.0</td>\n",
       "      <td>4.0</td>\n",
       "      <td>3.0</td>\n",
       "      <td>0.0</td>\n",
       "      <td>4.0</td>\n",
       "      <td>2.0</td>\n",
       "      <td>6B</td>\n",
       "      <td>6</td>\n",
       "      <td>43</td>\n",
       "      <td>5.0</td>\n",
       "      <td>3.0</td>\n",
       "      <td>3.0</td>\n",
       "      <td>3.0</td>\n",
       "      <td>3.0</td>\n",
       "      <td>4.0</td>\n",
       "      <td>3.0</td>\n",
       "      <td>3.0</td>\n",
       "      <td>3</td>\n",
       "      <td>5</td>\n",
       "      <td>5</td>\n",
       "      <td>1</td>\n",
       "      <td>2</td>\n",
       "      <td>0</td>\n",
       "      <td>10</td>\n",
       "      <td>5</td>\n",
       "      <td>10.0</td>\n",
       "      <td>6</td>\n",
       "      <td>6</td>\n",
       "      <td>1</td>\n",
       "      <td>...</td>\n",
       "      <td>5.0</td>\n",
       "      <td>5.0</td>\n",
       "      <td>5.0</td>\n",
       "      <td>3.0</td>\n",
       "      <td>5.0</td>\n",
       "      <td>5.0</td>\n",
       "      <td>2</td>\n",
       "      <td>4</td>\n",
       "      <td>4</td>\n",
       "      <td>2</td>\n",
       "      <td>3</td>\n",
       "      <td>6</td>\n",
       "      <td>4</td>\n",
       "      <td>2</td>\n",
       "      <td>4</td>\n",
       "      <td>2</td>\n",
       "      <td>4</td>\n",
       "      <td>6</td>\n",
       "      <td>2</td>\n",
       "      <td>7</td>\n",
       "      <td>2</td>\n",
       "      <td>0.0</td>\n",
       "      <td>3.0</td>\n",
       "      <td>0.0</td>\n",
       "      <td>4.0</td>\n",
       "      <td>3.0</td>\n",
       "      <td>0.0</td>\n",
       "      <td>1.0</td>\n",
       "      <td>2</td>\n",
       "      <td>0.0</td>\n",
       "      <td>2.0</td>\n",
       "      <td>3.0</td>\n",
       "      <td>5.0</td>\n",
       "      <td>4.0</td>\n",
       "      <td>2.0</td>\n",
       "      <td>9.0</td>\n",
       "      <td>3.0</td>\n",
       "      <td>4</td>\n",
       "      <td>1</td>\n",
       "      <td>3</td>\n",
       "    </tr>\n",
       "  </tbody>\n",
       "</table>\n",
       "<p>5 rows × 366 columns</p>\n",
       "</div>"
      ],
      "text/plain": [
       "      LNR  AGER_TYP  AKT_DAT_KL  ...  ZABEOTYP  ANREDE_KZ  ALTERSKATEGORIE_GROB\n",
       "0  910215        -1         NaN  ...         3          1                     2\n",
       "1  910220        -1         9.0  ...         5          2                     1\n",
       "2  910225        -1         9.0  ...         5          2                     3\n",
       "3  910226         2         1.0  ...         3          2                     4\n",
       "4  910241        -1         1.0  ...         4          1                     3\n",
       "\n",
       "[5 rows x 366 columns]"
      ]
     },
     "execution_count": 4,
     "metadata": {
      "tags": []
     },
     "output_type": "execute_result"
    }
   ],
   "source": [
    "azdias.head()"
   ]
  },
  {
   "cell_type": "code",
   "execution_count": 0,
   "metadata": {
    "colab": {
     "base_uri": "https://localhost:8080/",
     "height": 34
    },
    "colab_type": "code",
    "id": "vEQqE34coQZd",
    "outputId": "fe11b352-850a-4505-9e92-82e8c953f1a3"
   },
   "outputs": [
    {
     "data": {
      "text/plain": [
       "(891221, 366)"
      ]
     },
     "execution_count": 5,
     "metadata": {
      "tags": []
     },
     "output_type": "execute_result"
    }
   ],
   "source": [
    "azdias.shape"
   ]
  },
  {
   "cell_type": "code",
   "execution_count": 0,
   "metadata": {
    "colab": {},
    "colab_type": "code",
    "id": "D-fjbIuRoQZv"
   },
   "outputs": [],
   "source": [
    "#set the LNR column as the index as it has a unique value for each row and will not help in the analysis\n",
    "azdias.set_index('LNR', inplace = True)"
   ]
  },
  {
   "cell_type": "code",
   "execution_count": 0,
   "metadata": {
    "colab": {
     "base_uri": "https://localhost:8080/",
     "height": 276
    },
    "colab_type": "code",
    "id": "xwbjlbVgoQZ6",
    "outputId": "783acb6f-ef93-4e89-a6ae-551b5399b66e"
   },
   "outputs": [
    {
     "data": {
      "text/html": [
       "<div>\n",
       "<style scoped>\n",
       "    .dataframe tbody tr th:only-of-type {\n",
       "        vertical-align: middle;\n",
       "    }\n",
       "\n",
       "    .dataframe tbody tr th {\n",
       "        vertical-align: top;\n",
       "    }\n",
       "\n",
       "    .dataframe thead th {\n",
       "        text-align: right;\n",
       "    }\n",
       "</style>\n",
       "<table border=\"1\" class=\"dataframe\">\n",
       "  <thead>\n",
       "    <tr style=\"text-align: right;\">\n",
       "      <th></th>\n",
       "      <th>AGER_TYP</th>\n",
       "      <th>AKT_DAT_KL</th>\n",
       "      <th>ALTER_HH</th>\n",
       "      <th>ALTER_KIND1</th>\n",
       "      <th>ALTER_KIND2</th>\n",
       "      <th>ALTER_KIND3</th>\n",
       "      <th>ALTER_KIND4</th>\n",
       "      <th>ALTERSKATEGORIE_FEIN</th>\n",
       "      <th>ANZ_HAUSHALTE_AKTIV</th>\n",
       "      <th>ANZ_HH_TITEL</th>\n",
       "      <th>ANZ_KINDER</th>\n",
       "      <th>ANZ_PERSONEN</th>\n",
       "      <th>ANZ_STATISTISCHE_HAUSHALTE</th>\n",
       "      <th>ANZ_TITEL</th>\n",
       "      <th>ARBEIT</th>\n",
       "      <th>BALLRAUM</th>\n",
       "      <th>CAMEO_DEU_2015</th>\n",
       "      <th>CAMEO_DEUG_2015</th>\n",
       "      <th>CAMEO_INTL_2015</th>\n",
       "      <th>CJT_GESAMTTYP</th>\n",
       "      <th>CJT_KATALOGNUTZER</th>\n",
       "      <th>CJT_TYP_1</th>\n",
       "      <th>CJT_TYP_2</th>\n",
       "      <th>CJT_TYP_3</th>\n",
       "      <th>CJT_TYP_4</th>\n",
       "      <th>CJT_TYP_5</th>\n",
       "      <th>CJT_TYP_6</th>\n",
       "      <th>D19_BANKEN_ANZ_12</th>\n",
       "      <th>D19_BANKEN_ANZ_24</th>\n",
       "      <th>D19_BANKEN_DATUM</th>\n",
       "      <th>D19_BANKEN_DIREKT</th>\n",
       "      <th>D19_BANKEN_GROSS</th>\n",
       "      <th>D19_BANKEN_LOKAL</th>\n",
       "      <th>D19_BANKEN_OFFLINE_DATUM</th>\n",
       "      <th>D19_BANKEN_ONLINE_DATUM</th>\n",
       "      <th>D19_BANKEN_ONLINE_QUOTE_12</th>\n",
       "      <th>D19_BANKEN_REST</th>\n",
       "      <th>D19_BEKLEIDUNG_GEH</th>\n",
       "      <th>D19_BEKLEIDUNG_REST</th>\n",
       "      <th>D19_BILDUNG</th>\n",
       "      <th>...</th>\n",
       "      <th>REGIOTYP</th>\n",
       "      <th>RELAT_AB</th>\n",
       "      <th>RETOURTYP_BK_S</th>\n",
       "      <th>RT_KEIN_ANREIZ</th>\n",
       "      <th>RT_SCHNAEPPCHEN</th>\n",
       "      <th>RT_UEBERGROESSE</th>\n",
       "      <th>SEMIO_DOM</th>\n",
       "      <th>SEMIO_ERL</th>\n",
       "      <th>SEMIO_FAM</th>\n",
       "      <th>SEMIO_KAEM</th>\n",
       "      <th>SEMIO_KRIT</th>\n",
       "      <th>SEMIO_KULT</th>\n",
       "      <th>SEMIO_LUST</th>\n",
       "      <th>SEMIO_MAT</th>\n",
       "      <th>SEMIO_PFLICHT</th>\n",
       "      <th>SEMIO_RAT</th>\n",
       "      <th>SEMIO_REL</th>\n",
       "      <th>SEMIO_SOZ</th>\n",
       "      <th>SEMIO_TRADV</th>\n",
       "      <th>SEMIO_VERT</th>\n",
       "      <th>SHOPPER_TYP</th>\n",
       "      <th>SOHO_KZ</th>\n",
       "      <th>STRUKTURTYP</th>\n",
       "      <th>TITEL_KZ</th>\n",
       "      <th>UMFELD_ALT</th>\n",
       "      <th>UMFELD_JUNG</th>\n",
       "      <th>UNGLEICHENN_FLAG</th>\n",
       "      <th>VERDICHTUNGSRAUM</th>\n",
       "      <th>VERS_TYP</th>\n",
       "      <th>VHA</th>\n",
       "      <th>VHN</th>\n",
       "      <th>VK_DHT4A</th>\n",
       "      <th>VK_DISTANZ</th>\n",
       "      <th>VK_ZG11</th>\n",
       "      <th>W_KEIT_KIND_HH</th>\n",
       "      <th>WOHNDAUER_2008</th>\n",
       "      <th>WOHNLAGE</th>\n",
       "      <th>ZABEOTYP</th>\n",
       "      <th>ANREDE_KZ</th>\n",
       "      <th>ALTERSKATEGORIE_GROB</th>\n",
       "    </tr>\n",
       "    <tr>\n",
       "      <th>LNR</th>\n",
       "      <th></th>\n",
       "      <th></th>\n",
       "      <th></th>\n",
       "      <th></th>\n",
       "      <th></th>\n",
       "      <th></th>\n",
       "      <th></th>\n",
       "      <th></th>\n",
       "      <th></th>\n",
       "      <th></th>\n",
       "      <th></th>\n",
       "      <th></th>\n",
       "      <th></th>\n",
       "      <th></th>\n",
       "      <th></th>\n",
       "      <th></th>\n",
       "      <th></th>\n",
       "      <th></th>\n",
       "      <th></th>\n",
       "      <th></th>\n",
       "      <th></th>\n",
       "      <th></th>\n",
       "      <th></th>\n",
       "      <th></th>\n",
       "      <th></th>\n",
       "      <th></th>\n",
       "      <th></th>\n",
       "      <th></th>\n",
       "      <th></th>\n",
       "      <th></th>\n",
       "      <th></th>\n",
       "      <th></th>\n",
       "      <th></th>\n",
       "      <th></th>\n",
       "      <th></th>\n",
       "      <th></th>\n",
       "      <th></th>\n",
       "      <th></th>\n",
       "      <th></th>\n",
       "      <th></th>\n",
       "      <th></th>\n",
       "      <th></th>\n",
       "      <th></th>\n",
       "      <th></th>\n",
       "      <th></th>\n",
       "      <th></th>\n",
       "      <th></th>\n",
       "      <th></th>\n",
       "      <th></th>\n",
       "      <th></th>\n",
       "      <th></th>\n",
       "      <th></th>\n",
       "      <th></th>\n",
       "      <th></th>\n",
       "      <th></th>\n",
       "      <th></th>\n",
       "      <th></th>\n",
       "      <th></th>\n",
       "      <th></th>\n",
       "      <th></th>\n",
       "      <th></th>\n",
       "      <th></th>\n",
       "      <th></th>\n",
       "      <th></th>\n",
       "      <th></th>\n",
       "      <th></th>\n",
       "      <th></th>\n",
       "      <th></th>\n",
       "      <th></th>\n",
       "      <th></th>\n",
       "      <th></th>\n",
       "      <th></th>\n",
       "      <th></th>\n",
       "      <th></th>\n",
       "      <th></th>\n",
       "      <th></th>\n",
       "      <th></th>\n",
       "      <th></th>\n",
       "      <th></th>\n",
       "      <th></th>\n",
       "      <th></th>\n",
       "    </tr>\n",
       "  </thead>\n",
       "  <tbody>\n",
       "    <tr>\n",
       "      <th>910215</th>\n",
       "      <td>-1</td>\n",
       "      <td>NaN</td>\n",
       "      <td>NaN</td>\n",
       "      <td>NaN</td>\n",
       "      <td>NaN</td>\n",
       "      <td>NaN</td>\n",
       "      <td>NaN</td>\n",
       "      <td>NaN</td>\n",
       "      <td>NaN</td>\n",
       "      <td>NaN</td>\n",
       "      <td>NaN</td>\n",
       "      <td>NaN</td>\n",
       "      <td>NaN</td>\n",
       "      <td>NaN</td>\n",
       "      <td>NaN</td>\n",
       "      <td>NaN</td>\n",
       "      <td>NaN</td>\n",
       "      <td>NaN</td>\n",
       "      <td>NaN</td>\n",
       "      <td>2.0</td>\n",
       "      <td>5.0</td>\n",
       "      <td>1.0</td>\n",
       "      <td>1.0</td>\n",
       "      <td>5.0</td>\n",
       "      <td>5.0</td>\n",
       "      <td>5.0</td>\n",
       "      <td>5.0</td>\n",
       "      <td>0</td>\n",
       "      <td>0</td>\n",
       "      <td>10</td>\n",
       "      <td>0</td>\n",
       "      <td>0</td>\n",
       "      <td>0</td>\n",
       "      <td>10</td>\n",
       "      <td>10</td>\n",
       "      <td>NaN</td>\n",
       "      <td>0</td>\n",
       "      <td>0</td>\n",
       "      <td>0</td>\n",
       "      <td>0</td>\n",
       "      <td>...</td>\n",
       "      <td>NaN</td>\n",
       "      <td>NaN</td>\n",
       "      <td>5.0</td>\n",
       "      <td>1.0</td>\n",
       "      <td>4.0</td>\n",
       "      <td>1.0</td>\n",
       "      <td>6</td>\n",
       "      <td>3</td>\n",
       "      <td>6</td>\n",
       "      <td>6</td>\n",
       "      <td>7</td>\n",
       "      <td>3</td>\n",
       "      <td>5</td>\n",
       "      <td>5</td>\n",
       "      <td>5</td>\n",
       "      <td>4</td>\n",
       "      <td>7</td>\n",
       "      <td>2</td>\n",
       "      <td>3</td>\n",
       "      <td>1</td>\n",
       "      <td>-1</td>\n",
       "      <td>NaN</td>\n",
       "      <td>NaN</td>\n",
       "      <td>NaN</td>\n",
       "      <td>NaN</td>\n",
       "      <td>NaN</td>\n",
       "      <td>NaN</td>\n",
       "      <td>NaN</td>\n",
       "      <td>-1</td>\n",
       "      <td>NaN</td>\n",
       "      <td>NaN</td>\n",
       "      <td>NaN</td>\n",
       "      <td>NaN</td>\n",
       "      <td>NaN</td>\n",
       "      <td>NaN</td>\n",
       "      <td>NaN</td>\n",
       "      <td>NaN</td>\n",
       "      <td>3</td>\n",
       "      <td>1</td>\n",
       "      <td>2</td>\n",
       "    </tr>\n",
       "    <tr>\n",
       "      <th>910220</th>\n",
       "      <td>-1</td>\n",
       "      <td>9.0</td>\n",
       "      <td>0.0</td>\n",
       "      <td>NaN</td>\n",
       "      <td>NaN</td>\n",
       "      <td>NaN</td>\n",
       "      <td>NaN</td>\n",
       "      <td>21.0</td>\n",
       "      <td>11.0</td>\n",
       "      <td>0.0</td>\n",
       "      <td>0.0</td>\n",
       "      <td>2.0</td>\n",
       "      <td>12.0</td>\n",
       "      <td>0.0</td>\n",
       "      <td>3.0</td>\n",
       "      <td>6.0</td>\n",
       "      <td>8A</td>\n",
       "      <td>8</td>\n",
       "      <td>51</td>\n",
       "      <td>5.0</td>\n",
       "      <td>1.0</td>\n",
       "      <td>5.0</td>\n",
       "      <td>5.0</td>\n",
       "      <td>2.0</td>\n",
       "      <td>3.0</td>\n",
       "      <td>1.0</td>\n",
       "      <td>1.0</td>\n",
       "      <td>0</td>\n",
       "      <td>0</td>\n",
       "      <td>10</td>\n",
       "      <td>0</td>\n",
       "      <td>0</td>\n",
       "      <td>0</td>\n",
       "      <td>10</td>\n",
       "      <td>10</td>\n",
       "      <td>NaN</td>\n",
       "      <td>0</td>\n",
       "      <td>0</td>\n",
       "      <td>0</td>\n",
       "      <td>0</td>\n",
       "      <td>...</td>\n",
       "      <td>3.0</td>\n",
       "      <td>4.0</td>\n",
       "      <td>1.0</td>\n",
       "      <td>5.0</td>\n",
       "      <td>3.0</td>\n",
       "      <td>5.0</td>\n",
       "      <td>7</td>\n",
       "      <td>2</td>\n",
       "      <td>4</td>\n",
       "      <td>4</td>\n",
       "      <td>4</td>\n",
       "      <td>3</td>\n",
       "      <td>2</td>\n",
       "      <td>3</td>\n",
       "      <td>7</td>\n",
       "      <td>6</td>\n",
       "      <td>4</td>\n",
       "      <td>5</td>\n",
       "      <td>6</td>\n",
       "      <td>1</td>\n",
       "      <td>3</td>\n",
       "      <td>1.0</td>\n",
       "      <td>2.0</td>\n",
       "      <td>0.0</td>\n",
       "      <td>3.0</td>\n",
       "      <td>3.0</td>\n",
       "      <td>1.0</td>\n",
       "      <td>0.0</td>\n",
       "      <td>2</td>\n",
       "      <td>0.0</td>\n",
       "      <td>4.0</td>\n",
       "      <td>8.0</td>\n",
       "      <td>11.0</td>\n",
       "      <td>10.0</td>\n",
       "      <td>3.0</td>\n",
       "      <td>9.0</td>\n",
       "      <td>4.0</td>\n",
       "      <td>5</td>\n",
       "      <td>2</td>\n",
       "      <td>1</td>\n",
       "    </tr>\n",
       "    <tr>\n",
       "      <th>910225</th>\n",
       "      <td>-1</td>\n",
       "      <td>9.0</td>\n",
       "      <td>17.0</td>\n",
       "      <td>NaN</td>\n",
       "      <td>NaN</td>\n",
       "      <td>NaN</td>\n",
       "      <td>NaN</td>\n",
       "      <td>17.0</td>\n",
       "      <td>10.0</td>\n",
       "      <td>0.0</td>\n",
       "      <td>0.0</td>\n",
       "      <td>1.0</td>\n",
       "      <td>7.0</td>\n",
       "      <td>0.0</td>\n",
       "      <td>3.0</td>\n",
       "      <td>2.0</td>\n",
       "      <td>4C</td>\n",
       "      <td>4</td>\n",
       "      <td>24</td>\n",
       "      <td>3.0</td>\n",
       "      <td>2.0</td>\n",
       "      <td>4.0</td>\n",
       "      <td>4.0</td>\n",
       "      <td>1.0</td>\n",
       "      <td>3.0</td>\n",
       "      <td>2.0</td>\n",
       "      <td>2.0</td>\n",
       "      <td>0</td>\n",
       "      <td>0</td>\n",
       "      <td>10</td>\n",
       "      <td>0</td>\n",
       "      <td>0</td>\n",
       "      <td>0</td>\n",
       "      <td>10</td>\n",
       "      <td>10</td>\n",
       "      <td>0.0</td>\n",
       "      <td>0</td>\n",
       "      <td>0</td>\n",
       "      <td>0</td>\n",
       "      <td>6</td>\n",
       "      <td>...</td>\n",
       "      <td>2.0</td>\n",
       "      <td>2.0</td>\n",
       "      <td>3.0</td>\n",
       "      <td>5.0</td>\n",
       "      <td>4.0</td>\n",
       "      <td>5.0</td>\n",
       "      <td>7</td>\n",
       "      <td>6</td>\n",
       "      <td>1</td>\n",
       "      <td>7</td>\n",
       "      <td>7</td>\n",
       "      <td>3</td>\n",
       "      <td>4</td>\n",
       "      <td>3</td>\n",
       "      <td>3</td>\n",
       "      <td>4</td>\n",
       "      <td>3</td>\n",
       "      <td>4</td>\n",
       "      <td>3</td>\n",
       "      <td>4</td>\n",
       "      <td>2</td>\n",
       "      <td>0.0</td>\n",
       "      <td>3.0</td>\n",
       "      <td>0.0</td>\n",
       "      <td>2.0</td>\n",
       "      <td>5.0</td>\n",
       "      <td>0.0</td>\n",
       "      <td>1.0</td>\n",
       "      <td>1</td>\n",
       "      <td>0.0</td>\n",
       "      <td>2.0</td>\n",
       "      <td>9.0</td>\n",
       "      <td>9.0</td>\n",
       "      <td>6.0</td>\n",
       "      <td>3.0</td>\n",
       "      <td>9.0</td>\n",
       "      <td>2.0</td>\n",
       "      <td>5</td>\n",
       "      <td>2</td>\n",
       "      <td>3</td>\n",
       "    </tr>\n",
       "    <tr>\n",
       "      <th>910226</th>\n",
       "      <td>2</td>\n",
       "      <td>1.0</td>\n",
       "      <td>13.0</td>\n",
       "      <td>NaN</td>\n",
       "      <td>NaN</td>\n",
       "      <td>NaN</td>\n",
       "      <td>NaN</td>\n",
       "      <td>13.0</td>\n",
       "      <td>1.0</td>\n",
       "      <td>0.0</td>\n",
       "      <td>0.0</td>\n",
       "      <td>0.0</td>\n",
       "      <td>2.0</td>\n",
       "      <td>0.0</td>\n",
       "      <td>2.0</td>\n",
       "      <td>4.0</td>\n",
       "      <td>2A</td>\n",
       "      <td>2</td>\n",
       "      <td>12</td>\n",
       "      <td>2.0</td>\n",
       "      <td>3.0</td>\n",
       "      <td>2.0</td>\n",
       "      <td>2.0</td>\n",
       "      <td>4.0</td>\n",
       "      <td>4.0</td>\n",
       "      <td>5.0</td>\n",
       "      <td>3.0</td>\n",
       "      <td>0</td>\n",
       "      <td>0</td>\n",
       "      <td>10</td>\n",
       "      <td>0</td>\n",
       "      <td>0</td>\n",
       "      <td>0</td>\n",
       "      <td>10</td>\n",
       "      <td>10</td>\n",
       "      <td>0.0</td>\n",
       "      <td>0</td>\n",
       "      <td>0</td>\n",
       "      <td>0</td>\n",
       "      <td>0</td>\n",
       "      <td>...</td>\n",
       "      <td>0.0</td>\n",
       "      <td>3.0</td>\n",
       "      <td>2.0</td>\n",
       "      <td>3.0</td>\n",
       "      <td>2.0</td>\n",
       "      <td>3.0</td>\n",
       "      <td>4</td>\n",
       "      <td>7</td>\n",
       "      <td>1</td>\n",
       "      <td>5</td>\n",
       "      <td>4</td>\n",
       "      <td>4</td>\n",
       "      <td>4</td>\n",
       "      <td>1</td>\n",
       "      <td>4</td>\n",
       "      <td>3</td>\n",
       "      <td>2</td>\n",
       "      <td>5</td>\n",
       "      <td>4</td>\n",
       "      <td>4</td>\n",
       "      <td>1</td>\n",
       "      <td>0.0</td>\n",
       "      <td>1.0</td>\n",
       "      <td>0.0</td>\n",
       "      <td>4.0</td>\n",
       "      <td>5.0</td>\n",
       "      <td>0.0</td>\n",
       "      <td>0.0</td>\n",
       "      <td>1</td>\n",
       "      <td>1.0</td>\n",
       "      <td>0.0</td>\n",
       "      <td>7.0</td>\n",
       "      <td>10.0</td>\n",
       "      <td>11.0</td>\n",
       "      <td>NaN</td>\n",
       "      <td>9.0</td>\n",
       "      <td>7.0</td>\n",
       "      <td>3</td>\n",
       "      <td>2</td>\n",
       "      <td>4</td>\n",
       "    </tr>\n",
       "    <tr>\n",
       "      <th>910241</th>\n",
       "      <td>-1</td>\n",
       "      <td>1.0</td>\n",
       "      <td>20.0</td>\n",
       "      <td>NaN</td>\n",
       "      <td>NaN</td>\n",
       "      <td>NaN</td>\n",
       "      <td>NaN</td>\n",
       "      <td>14.0</td>\n",
       "      <td>3.0</td>\n",
       "      <td>0.0</td>\n",
       "      <td>0.0</td>\n",
       "      <td>4.0</td>\n",
       "      <td>3.0</td>\n",
       "      <td>0.0</td>\n",
       "      <td>4.0</td>\n",
       "      <td>2.0</td>\n",
       "      <td>6B</td>\n",
       "      <td>6</td>\n",
       "      <td>43</td>\n",
       "      <td>5.0</td>\n",
       "      <td>3.0</td>\n",
       "      <td>3.0</td>\n",
       "      <td>3.0</td>\n",
       "      <td>3.0</td>\n",
       "      <td>4.0</td>\n",
       "      <td>3.0</td>\n",
       "      <td>3.0</td>\n",
       "      <td>3</td>\n",
       "      <td>5</td>\n",
       "      <td>5</td>\n",
       "      <td>1</td>\n",
       "      <td>2</td>\n",
       "      <td>0</td>\n",
       "      <td>10</td>\n",
       "      <td>5</td>\n",
       "      <td>10.0</td>\n",
       "      <td>6</td>\n",
       "      <td>6</td>\n",
       "      <td>1</td>\n",
       "      <td>6</td>\n",
       "      <td>...</td>\n",
       "      <td>5.0</td>\n",
       "      <td>5.0</td>\n",
       "      <td>5.0</td>\n",
       "      <td>3.0</td>\n",
       "      <td>5.0</td>\n",
       "      <td>5.0</td>\n",
       "      <td>2</td>\n",
       "      <td>4</td>\n",
       "      <td>4</td>\n",
       "      <td>2</td>\n",
       "      <td>3</td>\n",
       "      <td>6</td>\n",
       "      <td>4</td>\n",
       "      <td>2</td>\n",
       "      <td>4</td>\n",
       "      <td>2</td>\n",
       "      <td>4</td>\n",
       "      <td>6</td>\n",
       "      <td>2</td>\n",
       "      <td>7</td>\n",
       "      <td>2</td>\n",
       "      <td>0.0</td>\n",
       "      <td>3.0</td>\n",
       "      <td>0.0</td>\n",
       "      <td>4.0</td>\n",
       "      <td>3.0</td>\n",
       "      <td>0.0</td>\n",
       "      <td>1.0</td>\n",
       "      <td>2</td>\n",
       "      <td>0.0</td>\n",
       "      <td>2.0</td>\n",
       "      <td>3.0</td>\n",
       "      <td>5.0</td>\n",
       "      <td>4.0</td>\n",
       "      <td>2.0</td>\n",
       "      <td>9.0</td>\n",
       "      <td>3.0</td>\n",
       "      <td>4</td>\n",
       "      <td>1</td>\n",
       "      <td>3</td>\n",
       "    </tr>\n",
       "  </tbody>\n",
       "</table>\n",
       "<p>5 rows × 365 columns</p>\n",
       "</div>"
      ],
      "text/plain": [
       "        AGER_TYP  AKT_DAT_KL  ...  ANREDE_KZ  ALTERSKATEGORIE_GROB\n",
       "LNR                           ...                                 \n",
       "910215        -1         NaN  ...          1                     2\n",
       "910220        -1         9.0  ...          2                     1\n",
       "910225        -1         9.0  ...          2                     3\n",
       "910226         2         1.0  ...          2                     4\n",
       "910241        -1         1.0  ...          1                     3\n",
       "\n",
       "[5 rows x 365 columns]"
      ]
     },
     "execution_count": 7,
     "metadata": {
      "tags": []
     },
     "output_type": "execute_result"
    }
   ],
   "source": [
    "azdias.head()"
   ]
  },
  {
   "cell_type": "code",
   "execution_count": 0,
   "metadata": {
    "colab": {
     "base_uri": "https://localhost:8080/",
     "height": 34
    },
    "colab_type": "code",
    "id": "FdBa_sojoQaL",
    "outputId": "bbf2c5e6-0b1f-4bfc-de43-6d0e4f8d9133"
   },
   "outputs": [
    {
     "data": {
      "text/plain": [
       "(891221, 365)"
      ]
     },
     "execution_count": 8,
     "metadata": {
      "tags": []
     },
     "output_type": "execute_result"
    }
   ],
   "source": [
    "azdias.shape"
   ]
  },
  {
   "cell_type": "markdown",
   "metadata": {},
   "source": [
    "### read the excel file that contains the feature and values attributes"
   ]
  },
  {
   "cell_type": "code",
   "execution_count": 0,
   "metadata": {
    "colab": {},
    "colab_type": "code",
    "id": "rJtnd-5NoQah"
   },
   "outputs": [],
   "source": [
    "#read the excel file\n",
    "feat_info = pd.read_excel('/content/drive/My Drive/data capstone/DIAS Attributes - Values 2017.xlsx', sep=';',\n",
    "                          columns = ['Attribute','Description','Value','Meaning'])\n",
    "\n",
    "#getting rid of the first blank column\n",
    "feat_info = feat_info.iloc[:,1:]\n",
    "\n",
    "#setting first row as the dataframe columns as it contained the column names\n",
    "feat_info.columns = feat_info.iloc[0]\n",
    "\n",
    "#getting rid of a blank column\n",
    "feat_info = feat_info.drop(0).reset_index()"
   ]
  },
  {
   "cell_type": "code",
   "execution_count": 0,
   "metadata": {
    "colab": {
     "base_uri": "https://localhost:8080/",
     "height": 347
    },
    "colab_type": "code",
    "id": "PvFwPPJGoQau",
    "outputId": "a5abafc0-73de-4c1d-ded4-fc2adab46274",
    "scrolled": true
   },
   "outputs": [
    {
     "data": {
      "text/html": [
       "<div>\n",
       "<style scoped>\n",
       "    .dataframe tbody tr th:only-of-type {\n",
       "        vertical-align: middle;\n",
       "    }\n",
       "\n",
       "    .dataframe tbody tr th {\n",
       "        vertical-align: top;\n",
       "    }\n",
       "\n",
       "    .dataframe thead th {\n",
       "        text-align: right;\n",
       "    }\n",
       "</style>\n",
       "<table border=\"1\" class=\"dataframe\">\n",
       "  <thead>\n",
       "    <tr style=\"text-align: right;\">\n",
       "      <th></th>\n",
       "      <th>index</th>\n",
       "      <th>Attribute</th>\n",
       "      <th>Description</th>\n",
       "      <th>Value</th>\n",
       "      <th>Meaning</th>\n",
       "    </tr>\n",
       "  </thead>\n",
       "  <tbody>\n",
       "    <tr>\n",
       "      <th>0</th>\n",
       "      <td>1</td>\n",
       "      <td>AGER_TYP</td>\n",
       "      <td>best-ager typology</td>\n",
       "      <td>-1</td>\n",
       "      <td>unknown</td>\n",
       "    </tr>\n",
       "    <tr>\n",
       "      <th>1</th>\n",
       "      <td>2</td>\n",
       "      <td>NaN</td>\n",
       "      <td>NaN</td>\n",
       "      <td>0</td>\n",
       "      <td>no classification possible</td>\n",
       "    </tr>\n",
       "    <tr>\n",
       "      <th>2</th>\n",
       "      <td>3</td>\n",
       "      <td>NaN</td>\n",
       "      <td>NaN</td>\n",
       "      <td>1</td>\n",
       "      <td>passive elderly</td>\n",
       "    </tr>\n",
       "    <tr>\n",
       "      <th>3</th>\n",
       "      <td>4</td>\n",
       "      <td>NaN</td>\n",
       "      <td>NaN</td>\n",
       "      <td>2</td>\n",
       "      <td>cultural elderly</td>\n",
       "    </tr>\n",
       "    <tr>\n",
       "      <th>4</th>\n",
       "      <td>5</td>\n",
       "      <td>NaN</td>\n",
       "      <td>NaN</td>\n",
       "      <td>3</td>\n",
       "      <td>experience-driven elderly</td>\n",
       "    </tr>\n",
       "    <tr>\n",
       "      <th>5</th>\n",
       "      <td>6</td>\n",
       "      <td>ALTERSKATEGORIE_GROB</td>\n",
       "      <td>age classification through prename analysis</td>\n",
       "      <td>-1, 0</td>\n",
       "      <td>unknown</td>\n",
       "    </tr>\n",
       "    <tr>\n",
       "      <th>6</th>\n",
       "      <td>7</td>\n",
       "      <td>NaN</td>\n",
       "      <td>NaN</td>\n",
       "      <td>1</td>\n",
       "      <td>&lt; 30 years</td>\n",
       "    </tr>\n",
       "    <tr>\n",
       "      <th>7</th>\n",
       "      <td>8</td>\n",
       "      <td>NaN</td>\n",
       "      <td>NaN</td>\n",
       "      <td>2</td>\n",
       "      <td>30 - 45 years</td>\n",
       "    </tr>\n",
       "    <tr>\n",
       "      <th>8</th>\n",
       "      <td>9</td>\n",
       "      <td>NaN</td>\n",
       "      <td>NaN</td>\n",
       "      <td>3</td>\n",
       "      <td>46 - 60 years</td>\n",
       "    </tr>\n",
       "    <tr>\n",
       "      <th>9</th>\n",
       "      <td>10</td>\n",
       "      <td>NaN</td>\n",
       "      <td>NaN</td>\n",
       "      <td>4</td>\n",
       "      <td>&gt; 60 years</td>\n",
       "    </tr>\n",
       "  </tbody>\n",
       "</table>\n",
       "</div>"
      ],
      "text/plain": [
       "0  index             Attribute  ...  Value                     Meaning\n",
       "0      1              AGER_TYP  ...     -1                     unknown\n",
       "1      2                   NaN  ...      0  no classification possible\n",
       "2      3                   NaN  ...      1             passive elderly\n",
       "3      4                   NaN  ...      2            cultural elderly\n",
       "4      5                   NaN  ...      3   experience-driven elderly\n",
       "5      6  ALTERSKATEGORIE_GROB  ...  -1, 0                     unknown\n",
       "6      7                   NaN  ...      1                  < 30 years\n",
       "7      8                   NaN  ...      2               30 - 45 years\n",
       "8      9                   NaN  ...      3               46 - 60 years\n",
       "9     10                   NaN  ...      4                  > 60 years\n",
       "\n",
       "[10 rows x 5 columns]"
      ]
     },
     "execution_count": 10,
     "metadata": {
      "tags": []
     },
     "output_type": "execute_result"
    }
   ],
   "source": [
    "#display head of the data\n",
    "feat_info.head(10)"
   ]
  },
  {
   "cell_type": "markdown",
   "metadata": {},
   "source": [
    "### querying rows that have unknown in the meaning column indicating that value should be NaN"
   ]
  },
  {
   "cell_type": "code",
   "execution_count": 0,
   "metadata": {
    "colab": {},
    "colab_type": "code",
    "id": "Q9QxY40AoQa6"
   },
   "outputs": [],
   "source": [
    "#querying rows that have unknown in the meaning column indicating that value should be NaN\n",
    "feat_info = feat_info.loc[feat_info['Meaning'] == 'unknown']"
   ]
  },
  {
   "cell_type": "code",
   "execution_count": 0,
   "metadata": {
    "colab": {
     "base_uri": "https://localhost:8080/",
     "height": 34
    },
    "colab_type": "code",
    "id": "y07I-zw_oQbK",
    "outputId": "a1d96101-6ae1-45dd-8905-838db0ceb2c5"
   },
   "outputs": [
    {
     "data": {
      "text/plain": [
       "(232, 5)"
      ]
     },
     "execution_count": 12,
     "metadata": {
      "tags": []
     },
     "output_type": "execute_result"
    }
   ],
   "source": [
    "#checking shape of features dataframe\n",
    "feat_info.shape"
   ]
  },
  {
   "cell_type": "code",
   "execution_count": 0,
   "metadata": {
    "colab": {
     "base_uri": "https://localhost:8080/",
     "height": 197
    },
    "colab_type": "code",
    "id": "sDzplVP_oQbY",
    "outputId": "c7e4895d-48d4-4a22-8dde-882434033ab1"
   },
   "outputs": [
    {
     "data": {
      "text/html": [
       "<div>\n",
       "<style scoped>\n",
       "    .dataframe tbody tr th:only-of-type {\n",
       "        vertical-align: middle;\n",
       "    }\n",
       "\n",
       "    .dataframe tbody tr th {\n",
       "        vertical-align: top;\n",
       "    }\n",
       "\n",
       "    .dataframe thead th {\n",
       "        text-align: right;\n",
       "    }\n",
       "</style>\n",
       "<table border=\"1\" class=\"dataframe\">\n",
       "  <thead>\n",
       "    <tr style=\"text-align: right;\">\n",
       "      <th></th>\n",
       "      <th>index</th>\n",
       "      <th>Attribute</th>\n",
       "      <th>Description</th>\n",
       "      <th>Value</th>\n",
       "      <th>Meaning</th>\n",
       "    </tr>\n",
       "  </thead>\n",
       "  <tbody>\n",
       "    <tr>\n",
       "      <th>0</th>\n",
       "      <td>1</td>\n",
       "      <td>AGER_TYP</td>\n",
       "      <td>best-ager typology</td>\n",
       "      <td>-1</td>\n",
       "      <td>unknown</td>\n",
       "    </tr>\n",
       "    <tr>\n",
       "      <th>5</th>\n",
       "      <td>6</td>\n",
       "      <td>ALTERSKATEGORIE_GROB</td>\n",
       "      <td>age classification through prename analysis</td>\n",
       "      <td>-1, 0</td>\n",
       "      <td>unknown</td>\n",
       "    </tr>\n",
       "    <tr>\n",
       "      <th>33</th>\n",
       "      <td>34</td>\n",
       "      <td>ANREDE_KZ</td>\n",
       "      <td>gender</td>\n",
       "      <td>-1, 0</td>\n",
       "      <td>unknown</td>\n",
       "    </tr>\n",
       "    <tr>\n",
       "      <th>40</th>\n",
       "      <td>41</td>\n",
       "      <td>BALLRAUM</td>\n",
       "      <td>distance to next urban centre</td>\n",
       "      <td>-1</td>\n",
       "      <td>unknown</td>\n",
       "    </tr>\n",
       "    <tr>\n",
       "      <th>48</th>\n",
       "      <td>49</td>\n",
       "      <td>BIP_FLAG</td>\n",
       "      <td>business-flag indicating companies in the buil...</td>\n",
       "      <td>-1</td>\n",
       "      <td>unknown</td>\n",
       "    </tr>\n",
       "  </tbody>\n",
       "</table>\n",
       "</div>"
      ],
      "text/plain": [
       "0   index             Attribute  ...  Value  Meaning\n",
       "0       1              AGER_TYP  ...     -1  unknown\n",
       "5       6  ALTERSKATEGORIE_GROB  ...  -1, 0  unknown\n",
       "33     34             ANREDE_KZ  ...  -1, 0  unknown\n",
       "40     41              BALLRAUM  ...     -1  unknown\n",
       "48     49              BIP_FLAG  ...     -1  unknown\n",
       "\n",
       "[5 rows x 5 columns]"
      ]
     },
     "execution_count": 13,
     "metadata": {
      "tags": []
     },
     "output_type": "execute_result"
    }
   ],
   "source": [
    "feat_info.head()"
   ]
  },
  {
   "cell_type": "code",
   "execution_count": 0,
   "metadata": {
    "colab": {},
    "colab_type": "code",
    "id": "_n8Lqg39oQbl"
   },
   "outputs": [],
   "source": [
    "#setting datatype to str\n",
    "feat_info.Value = feat_info.Value.astype('str')"
   ]
  },
  {
   "cell_type": "code",
   "execution_count": 0,
   "metadata": {
    "colab": {},
    "colab_type": "code",
    "id": "HUrkShoRoQbu"
   },
   "outputs": [],
   "source": [
    "#splitting values by ',' therefore creating a list of values in each column and getting rid of the ',''\n",
    "feat_info.Value = feat_info.Value.str.split(',') "
   ]
  },
  {
   "cell_type": "code",
   "execution_count": 0,
   "metadata": {
    "colab": {
     "base_uri": "https://localhost:8080/",
     "height": 197
    },
    "colab_type": "code",
    "id": "OdZzRLfwoQb9",
    "outputId": "756dde6d-158b-4379-c0ad-9a8379626282",
    "scrolled": true
   },
   "outputs": [
    {
     "data": {
      "text/html": [
       "<div>\n",
       "<style scoped>\n",
       "    .dataframe tbody tr th:only-of-type {\n",
       "        vertical-align: middle;\n",
       "    }\n",
       "\n",
       "    .dataframe tbody tr th {\n",
       "        vertical-align: top;\n",
       "    }\n",
       "\n",
       "    .dataframe thead th {\n",
       "        text-align: right;\n",
       "    }\n",
       "</style>\n",
       "<table border=\"1\" class=\"dataframe\">\n",
       "  <thead>\n",
       "    <tr style=\"text-align: right;\">\n",
       "      <th></th>\n",
       "      <th>index</th>\n",
       "      <th>Attribute</th>\n",
       "      <th>Description</th>\n",
       "      <th>Value</th>\n",
       "      <th>Meaning</th>\n",
       "    </tr>\n",
       "  </thead>\n",
       "  <tbody>\n",
       "    <tr>\n",
       "      <th>0</th>\n",
       "      <td>1</td>\n",
       "      <td>AGER_TYP</td>\n",
       "      <td>best-ager typology</td>\n",
       "      <td>[-1]</td>\n",
       "      <td>unknown</td>\n",
       "    </tr>\n",
       "    <tr>\n",
       "      <th>5</th>\n",
       "      <td>6</td>\n",
       "      <td>ALTERSKATEGORIE_GROB</td>\n",
       "      <td>age classification through prename analysis</td>\n",
       "      <td>[-1,  0]</td>\n",
       "      <td>unknown</td>\n",
       "    </tr>\n",
       "    <tr>\n",
       "      <th>33</th>\n",
       "      <td>34</td>\n",
       "      <td>ANREDE_KZ</td>\n",
       "      <td>gender</td>\n",
       "      <td>[-1,  0]</td>\n",
       "      <td>unknown</td>\n",
       "    </tr>\n",
       "    <tr>\n",
       "      <th>40</th>\n",
       "      <td>41</td>\n",
       "      <td>BALLRAUM</td>\n",
       "      <td>distance to next urban centre</td>\n",
       "      <td>[-1]</td>\n",
       "      <td>unknown</td>\n",
       "    </tr>\n",
       "    <tr>\n",
       "      <th>48</th>\n",
       "      <td>49</td>\n",
       "      <td>BIP_FLAG</td>\n",
       "      <td>business-flag indicating companies in the buil...</td>\n",
       "      <td>[-1]</td>\n",
       "      <td>unknown</td>\n",
       "    </tr>\n",
       "  </tbody>\n",
       "</table>\n",
       "</div>"
      ],
      "text/plain": [
       "0   index             Attribute  ...     Value  Meaning\n",
       "0       1              AGER_TYP  ...      [-1]  unknown\n",
       "5       6  ALTERSKATEGORIE_GROB  ...  [-1,  0]  unknown\n",
       "33     34             ANREDE_KZ  ...  [-1,  0]  unknown\n",
       "40     41              BALLRAUM  ...      [-1]  unknown\n",
       "48     49              BIP_FLAG  ...      [-1]  unknown\n",
       "\n",
       "[5 rows x 5 columns]"
      ]
     },
     "execution_count": 16,
     "metadata": {
      "tags": []
     },
     "output_type": "execute_result"
    }
   ],
   "source": [
    "feat_info.head()"
   ]
  },
  {
   "cell_type": "markdown",
   "metadata": {},
   "source": [
    "### Identify missing or unknown data values and convert them to NaNs."
   ]
  },
  {
   "cell_type": "code",
   "execution_count": 0,
   "metadata": {
    "colab": {},
    "colab_type": "code",
    "id": "7jZ4HTTSoQcV"
   },
   "outputs": [],
   "source": [
    "def replace_unknown_with_nan(df, feat_df, feat_name, feat_missing_value):\n",
    "    \"\"\"\n",
    "    objective : \n",
    "    \n",
    "        replaces unknown values in a dataframe with NaN\n",
    "    \n",
    "    input:\n",
    "    \n",
    "        df: dataframe to replace unknown values with NaN in \n",
    "        \n",
    "        feat_df: features dataframe to map values needed to be replaces\n",
    "        \n",
    "        feat_name: name of Attribute column in feat_df to map columns in df to search and replace\n",
    "        \n",
    "        feat_missing_value: name of value column in feat_df to map columns in df to search and replace\n",
    "        \n",
    "        \n",
    "    output:\n",
    "        \n",
    "        returns: \n",
    "        \n",
    "            dataframe with after rplacing unknown values with NaN\n",
    "    \n",
    "    \"\"\"\n",
    "    # For each mapper_df row definition\n",
    "    for index, row in feat_df.iterrows():\n",
    "        # Omit rows with no NaNs or with lists without values\n",
    "        if len(row[feat_missing_value]) > 0 and row[feat_missing_value] != ['']:\n",
    "            try:\n",
    "                # For each column definition\n",
    "                # build a list of nan_indicators\n",
    "                masked_values = []\n",
    "                for nan_indicator in row[feat_missing_value]:\n",
    "                    \n",
    "                    masked_values.append(int(nan_indicator))\n",
    "                \n",
    "                #print(replace_mask)\n",
    "                # Replace masked values with NaN\n",
    "                df[row[feat_name]] = df[row[feat_name]].replace(masked_values, np.nan)\n",
    "                \n",
    "            except Exception as e:\n",
    "                #print('Exception: {} -> {} --> {}'.format(row[feat_name], str(e), nan_indicator))\n",
    "                continue\n",
    "                \n",
    "    return df"
   ]
  },
  {
   "cell_type": "code",
   "execution_count": 0,
   "metadata": {
    "colab": {},
    "colab_type": "code",
    "id": "dOKfFCHxoQce"
   },
   "outputs": [],
   "source": [
    "#apply cleaning function on the azdias dataframe\n",
    "azdias = replace_unknown_with_nan(azdias, feat_info, 'Attribute', 'Value')"
   ]
  },
  {
   "cell_type": "code",
   "execution_count": 0,
   "metadata": {
    "colab": {
     "base_uri": "https://localhost:8080/",
     "height": 34
    },
    "colab_type": "code",
    "id": "U5L1VucDoQcp",
    "outputId": "ada88026-e0d1-4656-de20-48b5a3b7c7ac"
   },
   "outputs": [
    {
     "data": {
      "text/plain": [
       "4707"
      ]
     },
     "execution_count": 20,
     "metadata": {
      "tags": []
     },
     "output_type": "execute_result"
    }
   ],
   "source": [
    "#clean up memory\n",
    "gc.collect()"
   ]
  },
  {
   "cell_type": "markdown",
   "metadata": {},
   "source": [
    "### assessing missing data\n"
   ]
  },
  {
   "cell_type": "code",
   "execution_count": 0,
   "metadata": {
    "colab": {},
    "colab_type": "code",
    "id": "EuR7w5Oxgthc"
   },
   "outputs": [],
   "source": [
    "#creating dataframe that holds column names and their respective missing values\n",
    "\n",
    "#create a series of null values in the dataframe\n",
    "total_azdias = azdias.isnull().sum().sort_values(ascending=False)\n",
    "\n",
    "#create a series of null values percentage in the dataframe\n",
    "percent_azdias = (azdias.isnull().sum()/azdias.isnull().count()).sort_values(ascending=False)\n",
    "\n",
    "#combining both series together to create one dataframe\n",
    "missing_data_azdias = pd.concat([total_azdias, percent_azdias], axis=1, keys=['Total', 'Percent']) "
   ]
  },
  {
   "cell_type": "code",
   "execution_count": 0,
   "metadata": {
    "colab": {
     "base_uri": "https://localhost:8080/",
     "height": 347
    },
    "colab_type": "code",
    "id": "neT1uBbIoQc_",
    "outputId": "f639167b-62e0-469c-fbfe-4d2de4ebe53e"
   },
   "outputs": [
    {
     "data": {
      "text/html": [
       "<div>\n",
       "<style scoped>\n",
       "    .dataframe tbody tr th:only-of-type {\n",
       "        vertical-align: middle;\n",
       "    }\n",
       "\n",
       "    .dataframe tbody tr th {\n",
       "        vertical-align: top;\n",
       "    }\n",
       "\n",
       "    .dataframe thead th {\n",
       "        text-align: right;\n",
       "    }\n",
       "</style>\n",
       "<table border=\"1\" class=\"dataframe\">\n",
       "  <thead>\n",
       "    <tr style=\"text-align: right;\">\n",
       "      <th></th>\n",
       "      <th>Total</th>\n",
       "      <th>Percent</th>\n",
       "    </tr>\n",
       "  </thead>\n",
       "  <tbody>\n",
       "    <tr>\n",
       "      <th>ALTER_KIND4</th>\n",
       "      <td>890016</td>\n",
       "      <td>0.998648</td>\n",
       "    </tr>\n",
       "    <tr>\n",
       "      <th>TITEL_KZ</th>\n",
       "      <td>889061</td>\n",
       "      <td>0.997576</td>\n",
       "    </tr>\n",
       "    <tr>\n",
       "      <th>ALTER_KIND3</th>\n",
       "      <td>885051</td>\n",
       "      <td>0.993077</td>\n",
       "    </tr>\n",
       "    <tr>\n",
       "      <th>ALTER_KIND2</th>\n",
       "      <td>861722</td>\n",
       "      <td>0.966900</td>\n",
       "    </tr>\n",
       "    <tr>\n",
       "      <th>ALTER_KIND1</th>\n",
       "      <td>810163</td>\n",
       "      <td>0.909048</td>\n",
       "    </tr>\n",
       "    <tr>\n",
       "      <th>AGER_TYP</th>\n",
       "      <td>677503</td>\n",
       "      <td>0.760196</td>\n",
       "    </tr>\n",
       "    <tr>\n",
       "      <th>EXTSEL992</th>\n",
       "      <td>654153</td>\n",
       "      <td>0.733996</td>\n",
       "    </tr>\n",
       "    <tr>\n",
       "      <th>KK_KUNDENTYP</th>\n",
       "      <td>584612</td>\n",
       "      <td>0.655967</td>\n",
       "    </tr>\n",
       "    <tr>\n",
       "      <th>KBA05_BAUMAX</th>\n",
       "      <td>476524</td>\n",
       "      <td>0.534687</td>\n",
       "    </tr>\n",
       "    <tr>\n",
       "      <th>ALTERSKATEGORIE_FEIN</th>\n",
       "      <td>262947</td>\n",
       "      <td>0.295041</td>\n",
       "    </tr>\n",
       "  </tbody>\n",
       "</table>\n",
       "</div>"
      ],
      "text/plain": [
       "                       Total   Percent\n",
       "ALTER_KIND4           890016  0.998648\n",
       "TITEL_KZ              889061  0.997576\n",
       "ALTER_KIND3           885051  0.993077\n",
       "ALTER_KIND2           861722  0.966900\n",
       "ALTER_KIND1           810163  0.909048\n",
       "AGER_TYP              677503  0.760196\n",
       "EXTSEL992             654153  0.733996\n",
       "KK_KUNDENTYP          584612  0.655967\n",
       "KBA05_BAUMAX          476524  0.534687\n",
       "ALTERSKATEGORIE_FEIN  262947  0.295041"
      ]
     },
     "execution_count": 22,
     "metadata": {
      "tags": []
     },
     "output_type": "execute_result"
    }
   ],
   "source": [
    "missing_data_azdias.head(10)"
   ]
  },
  {
   "cell_type": "markdown",
   "metadata": {},
   "source": [
    "### dropping rows with high null values at a threshold of 70% \n",
    "### and rows at a threshold of 75%"
   ]
  },
  {
   "cell_type": "code",
   "execution_count": 0,
   "metadata": {
    "colab": {},
    "colab_type": "code",
    "id": "n2kdfHO_9FRc"
   },
   "outputs": [],
   "source": [
    "# storing rows to be dropped in a list to be used later in the cleaning function\n",
    "columns_to_drop= ['ALTER_KIND4', 'TITEL_KZ', 'ALTER_KIND3', 'ALTER_KIND2',\n",
    "                  'ALTER_KIND1','AGER_TYP', 'EXTSEL992', 'KK_KUNDENTYP', 'KBA05_BAUMAX']"
   ]
  },
  {
   "cell_type": "code",
   "execution_count": 0,
   "metadata": {
    "colab": {
     "base_uri": "https://localhost:8080/",
     "height": 52
    },
    "colab_type": "code",
    "id": "uUFfoxvSgti1",
    "outputId": "c2fde176-c3a9-4aed-ec9b-4e1032d5394a"
   },
   "outputs": [
    {
     "name": "stdout",
     "output_type": "stream",
     "text": [
      "(orig) azdias rows, cols:  (891221, 365)\n",
      "(dropped) azdias rows, cols:  (785302, 356)\n"
     ]
    }
   ],
   "source": [
    "#drop colums with 30% or more missing data\n",
    "#drop rows with 25% or more missing data\n",
    "\n",
    "print('(orig) azdias rows, cols: ', azdias.shape)\n",
    "\n",
    "azdias.drop(columns_to_drop, axis=1, inplace=True)\n",
    "azdias.dropna(axis=0, thresh = 0.75 * azdias.shape[1], inplace=True)\n",
    "\n",
    "print('(dropped) azdias rows, cols: ', azdias.shape)\n"
   ]
  },
  {
   "cell_type": "markdown",
   "metadata": {},
   "source": [
    "### investigating categorical features"
   ]
  },
  {
   "cell_type": "code",
   "execution_count": 0,
   "metadata": {
    "colab": {
     "base_uri": "https://localhost:8080/",
     "height": 34
    },
    "colab_type": "code",
    "id": "auqM9rPPgtji",
    "outputId": "1ad4fe68-cb9f-409c-e9dd-a73a88f4ce7b"
   },
   "outputs": [
    {
     "data": {
      "text/plain": [
       "[11, 12, 13, 55, 91, 308]"
      ]
     },
     "execution_count": 25,
     "metadata": {
      "tags": []
     },
     "output_type": "execute_result"
    }
   ],
   "source": [
    "#investigate categorical columns indices\n",
    "\n",
    "lst_azdias = []\n",
    "for idx, typ in enumerate(azdias.dtypes.tolist()):\n",
    "    if typ == 'O':\n",
    "        lst_azdias.append(idx)\n",
    "    \n",
    "lst_azdias"
   ]
  },
  {
   "cell_type": "code",
   "execution_count": 0,
   "metadata": {
    "colab": {
     "base_uri": "https://localhost:8080/",
     "height": 141
    },
    "colab_type": "code",
    "id": "4jpqFpa8gtkF",
    "outputId": "89d0b604-95dd-42ae-c07f-78c342533e03"
   },
   "outputs": [
    {
     "data": {
      "text/plain": [
       "CAMEO_DEU_2015                3648\n",
       "CAMEO_DEUG_2015               3648\n",
       "CAMEO_INTL_2015               3648\n",
       "D19_LETZTER_KAUF_BRANCHE    175105\n",
       "EINGEFUEGT_AM                    0\n",
       "OST_WEST_KZ                      0\n",
       "dtype: int64"
      ]
     },
     "execution_count": 26,
     "metadata": {
      "tags": []
     },
     "output_type": "execute_result"
    }
   ],
   "source": [
    "#investigate missing data in categorical data \n",
    "\n",
    "azdias.iloc[:,lst_azdias].isnull().sum()"
   ]
  },
  {
   "cell_type": "code",
   "execution_count": 0,
   "metadata": {
    "colab": {
     "base_uri": "https://localhost:8080/",
     "height": 227
    },
    "colab_type": "code",
    "id": "sORrzfy1oQeA",
    "outputId": "65e3dc0f-ae4b-4071-839f-ca5cda71ce04",
    "scrolled": true
   },
   "outputs": [
    {
     "data": {
      "text/html": [
       "<div>\n",
       "<style scoped>\n",
       "    .dataframe tbody tr th:only-of-type {\n",
       "        vertical-align: middle;\n",
       "    }\n",
       "\n",
       "    .dataframe tbody tr th {\n",
       "        vertical-align: top;\n",
       "    }\n",
       "\n",
       "    .dataframe thead th {\n",
       "        text-align: right;\n",
       "    }\n",
       "</style>\n",
       "<table border=\"1\" class=\"dataframe\">\n",
       "  <thead>\n",
       "    <tr style=\"text-align: right;\">\n",
       "      <th></th>\n",
       "      <th>CAMEO_DEU_2015</th>\n",
       "      <th>CAMEO_DEUG_2015</th>\n",
       "      <th>CAMEO_INTL_2015</th>\n",
       "      <th>D19_LETZTER_KAUF_BRANCHE</th>\n",
       "      <th>EINGEFUEGT_AM</th>\n",
       "      <th>OST_WEST_KZ</th>\n",
       "    </tr>\n",
       "    <tr>\n",
       "      <th>LNR</th>\n",
       "      <th></th>\n",
       "      <th></th>\n",
       "      <th></th>\n",
       "      <th></th>\n",
       "      <th></th>\n",
       "      <th></th>\n",
       "    </tr>\n",
       "  </thead>\n",
       "  <tbody>\n",
       "    <tr>\n",
       "      <th>910220</th>\n",
       "      <td>8A</td>\n",
       "      <td>8</td>\n",
       "      <td>51</td>\n",
       "      <td>NaN</td>\n",
       "      <td>1992-02-10 00:00:00</td>\n",
       "      <td>W</td>\n",
       "    </tr>\n",
       "    <tr>\n",
       "      <th>910225</th>\n",
       "      <td>4C</td>\n",
       "      <td>4</td>\n",
       "      <td>24</td>\n",
       "      <td>D19_UNBEKANNT</td>\n",
       "      <td>1992-02-12 00:00:00</td>\n",
       "      <td>W</td>\n",
       "    </tr>\n",
       "    <tr>\n",
       "      <th>910226</th>\n",
       "      <td>2A</td>\n",
       "      <td>2</td>\n",
       "      <td>12</td>\n",
       "      <td>D19_UNBEKANNT</td>\n",
       "      <td>1997-04-21 00:00:00</td>\n",
       "      <td>W</td>\n",
       "    </tr>\n",
       "    <tr>\n",
       "      <th>910241</th>\n",
       "      <td>6B</td>\n",
       "      <td>6</td>\n",
       "      <td>43</td>\n",
       "      <td>D19_SCHUHE</td>\n",
       "      <td>1992-02-12 00:00:00</td>\n",
       "      <td>W</td>\n",
       "    </tr>\n",
       "    <tr>\n",
       "      <th>910244</th>\n",
       "      <td>8C</td>\n",
       "      <td>8</td>\n",
       "      <td>54</td>\n",
       "      <td>D19_ENERGIE</td>\n",
       "      <td>1992-02-12 00:00:00</td>\n",
       "      <td>W</td>\n",
       "    </tr>\n",
       "  </tbody>\n",
       "</table>\n",
       "</div>"
      ],
      "text/plain": [
       "       CAMEO_DEU_2015 CAMEO_DEUG_2015  ...        EINGEFUEGT_AM OST_WEST_KZ\n",
       "LNR                                    ...                                 \n",
       "910220             8A               8  ...  1992-02-10 00:00:00           W\n",
       "910225             4C               4  ...  1992-02-12 00:00:00           W\n",
       "910226             2A               2  ...  1997-04-21 00:00:00           W\n",
       "910241             6B               6  ...  1992-02-12 00:00:00           W\n",
       "910244             8C               8  ...  1992-02-12 00:00:00           W\n",
       "\n",
       "[5 rows x 6 columns]"
      ]
     },
     "execution_count": 27,
     "metadata": {
      "tags": []
     },
     "output_type": "execute_result"
    }
   ],
   "source": [
    "#show head of categorical columns\n",
    "azdias.iloc[:,lst_azdias].head()"
   ]
  },
  {
   "cell_type": "markdown",
   "metadata": {},
   "source": [
    "### after investigating the head columns ['CAMEO_DEUG_2015', 'CAMEO_INTL_2015'] however look like numerical data "
   ]
  },
  {
   "cell_type": "code",
   "execution_count": 0,
   "metadata": {
    "colab": {
     "base_uri": "https://localhost:8080/",
     "height": 230
    },
    "colab_type": "code",
    "id": "8fqw3zCwoQeO",
    "outputId": "f3cbc2dc-d88d-4f5d-c28d-90024a8d67b2"
   },
   "outputs": [
    {
     "data": {
      "text/plain": [
       "8      132939\n",
       "9      106292\n",
       "6      104749\n",
       "4      102591\n",
       "3       85412\n",
       "2       82314\n",
       "7       76807\n",
       "5       54338\n",
       "1       35865\n",
       "NaN      3648\n",
       "X         347\n",
       "Name: CAMEO_DEUG_2015, dtype: int64"
      ]
     },
     "execution_count": 28,
     "metadata": {
      "tags": []
     },
     "output_type": "execute_result"
    }
   ],
   "source": [
    "\n",
    "#investigate 'CAMEO_DEUG_2015' values\n",
    "\n",
    "azdias['CAMEO_DEUG_2015'].value_counts(dropna = False)\n",
    "\n",
    "#it seems there is a string 'X' in the data with 347 occurances"
   ]
  },
  {
   "cell_type": "markdown",
   "metadata": {},
   "source": [
    "### it appears that it contained string values 'X' \n",
    "### will be changed to NaN"
   ]
  },
  {
   "cell_type": "code",
   "execution_count": 0,
   "metadata": {
    "colab": {},
    "colab_type": "code",
    "id": "vCWf4f5egtkz"
   },
   "outputs": [],
   "source": [
    "#replace str values in a numerical column with nan\n",
    "azdias['CAMEO_DEUG_2015']= pd.to_numeric(azdias.CAMEO_DEUG_2015.astype(str).str.replace('.',''), errors='coerce')"
   ]
  },
  {
   "cell_type": "code",
   "execution_count": 0,
   "metadata": {
    "colab": {
     "base_uri": "https://localhost:8080/",
     "height": 212
    },
    "colab_type": "code",
    "id": "hgGGIJpUoQet",
    "outputId": "c0765246-8894-441b-c143-53b109e74152",
    "scrolled": true
   },
   "outputs": [
    {
     "data": {
      "text/plain": [
       "8.0    132939\n",
       "9.0    106292\n",
       "6.0    104749\n",
       "4.0    102591\n",
       "3.0     85412\n",
       "2.0     82314\n",
       "7.0     76807\n",
       "5.0     54338\n",
       "1.0     35865\n",
       "NaN      3995\n",
       "Name: CAMEO_DEUG_2015, dtype: int64"
      ]
     },
     "execution_count": 30,
     "metadata": {
      "tags": []
     },
     "output_type": "execute_result"
    }
   ],
   "source": [
    "azdias['CAMEO_DEUG_2015'].value_counts(dropna = False)"
   ]
  },
  {
   "cell_type": "code",
   "execution_count": 0,
   "metadata": {
    "colab": {
     "base_uri": "https://localhost:8080/",
     "height": 443
    },
    "colab_type": "code",
    "id": "KKMs2YDyoQe3",
    "outputId": "ff07a58d-255b-4d08-d810-7d9606034030"
   },
   "outputs": [
    {
     "data": {
      "text/plain": [
       "51     131868\n",
       "41      90978\n",
       "24      90116\n",
       "14      62197\n",
       "43      56070\n",
       "54      44852\n",
       "25      39237\n",
       "22      32649\n",
       "13      26019\n",
       "23      26001\n",
       "45      25888\n",
       "55      23367\n",
       "52      20393\n",
       "31      18577\n",
       "34      18213\n",
       "15      16853\n",
       "44      14646\n",
       "12      13110\n",
       "35      10254\n",
       "32      10240\n",
       "33       9779\n",
       "NaN      3648\n",
       "XX        347\n",
       "Name: CAMEO_INTL_2015, dtype: int64"
      ]
     },
     "execution_count": 31,
     "metadata": {
      "tags": []
     },
     "output_type": "execute_result"
    }
   ],
   "source": [
    "#investigating 'CAMEO_INTL_2015' values\n",
    "\n",
    "azdias['CAMEO_INTL_2015'].value_counts(dropna = False)\n",
    "\n",
    "#it seems there is a string 'XX' in the data with 347 occurances\n"
   ]
  },
  {
   "cell_type": "code",
   "execution_count": 0,
   "metadata": {
    "colab": {},
    "colab_type": "code",
    "id": "alSdTkEFgtlH"
   },
   "outputs": [],
   "source": [
    "#replace str values in a numerical column with nan\n",
    "azdias['CAMEO_INTL_2015'] = pd.to_numeric(azdias.CAMEO_INTL_2015.astype(str).str.replace('.',''), errors='coerce')"
   ]
  },
  {
   "cell_type": "code",
   "execution_count": 0,
   "metadata": {
    "colab": {
     "base_uri": "https://localhost:8080/",
     "height": 425
    },
    "colab_type": "code",
    "id": "wVl-IUQ1oQfQ",
    "outputId": "2ba23b6c-0fe8-488e-9755-4911d41220ea"
   },
   "outputs": [
    {
     "data": {
      "text/plain": [
       "51.0    131868\n",
       "41.0     90978\n",
       "24.0     90116\n",
       "14.0     62197\n",
       "43.0     56070\n",
       "54.0     44852\n",
       "25.0     39237\n",
       "22.0     32649\n",
       "13.0     26019\n",
       "23.0     26001\n",
       "45.0     25888\n",
       "55.0     23367\n",
       "52.0     20393\n",
       "31.0     18577\n",
       "34.0     18213\n",
       "15.0     16853\n",
       "44.0     14646\n",
       "12.0     13110\n",
       "35.0     10254\n",
       "32.0     10240\n",
       "33.0      9779\n",
       "NaN       3995\n",
       "Name: CAMEO_INTL_2015, dtype: int64"
      ]
     },
     "execution_count": 33,
     "metadata": {
      "tags": []
     },
     "output_type": "execute_result"
    }
   ],
   "source": [
    "azdias['CAMEO_INTL_2015'].value_counts(dropna = False)"
   ]
  },
  {
   "cell_type": "code",
   "execution_count": 0,
   "metadata": {
    "colab": {
     "base_uri": "https://localhost:8080/",
     "height": 852
    },
    "colab_type": "code",
    "id": "vhwRVNC6oQfY",
    "outputId": "2ccecfe4-a470-485b-8eec-86f909c3fd6c",
    "scrolled": true
   },
   "outputs": [
    {
     "data": {
      "text/plain": [
       "6B     56070\n",
       "8A     51915\n",
       "4C     47252\n",
       "2D     34715\n",
       "3C     34372\n",
       "7A     33997\n",
       "3D     33970\n",
       "8B     32849\n",
       "4A     32649\n",
       "8C     30754\n",
       "9D     28090\n",
       "9B     27287\n",
       "9C     24576\n",
       "7B     24132\n",
       "9A     20393\n",
       "2C     19192\n",
       "8D     17421\n",
       "6E     15970\n",
       "2B     15297\n",
       "5D     14689\n",
       "6C     14646\n",
       "2A     13110\n",
       "5A     11870\n",
       "1D     11844\n",
       "1A     10722\n",
       "5B     10240\n",
       "3A     10080\n",
       "5C      9779\n",
       "4B      8931\n",
       "7C      8899\n",
       "4D      8492\n",
       "3B      6990\n",
       "6A      6707\n",
       "6D      6018\n",
       "9E      5946\n",
       "6F      5338\n",
       "4E      5267\n",
       "7D      5199\n",
       "1E      5009\n",
       "7E      4580\n",
       "1C      4263\n",
       "5F      4236\n",
       "1B      4027\n",
       "NaN     3648\n",
       "5E      3524\n",
       "XX       347\n",
       "Name: CAMEO_DEU_2015, dtype: int64"
      ]
     },
     "execution_count": 34,
     "metadata": {
      "tags": []
     },
     "output_type": "execute_result"
    }
   ],
   "source": [
    "#investigating 'CAMEO_DEU_2015' values\n",
    "azdias['CAMEO_DEU_2015'].value_counts(dropna=False)\n",
    "\n",
    "#appears to have 'XX' values\n",
    "#shall be converted into NaN"
   ]
  },
  {
   "cell_type": "code",
   "execution_count": 0,
   "metadata": {
    "colab": {},
    "colab_type": "code",
    "id": "YEPM9vyYoQfk"
   },
   "outputs": [],
   "source": [
    "#Convert 'XX' values into NaN\n",
    "azdias['CAMEO_DEU_2015']  = azdias['CAMEO_DEU_2015'].replace('XX',np.nan)"
   ]
  },
  {
   "cell_type": "code",
   "execution_count": 0,
   "metadata": {
    "colab": {
     "base_uri": "https://localhost:8080/",
     "height": 834
    },
    "colab_type": "code",
    "id": "Jqj_7WusoQf1",
    "outputId": "02cd4fcf-8f83-4bd9-fca9-de166642e09a",
    "scrolled": true
   },
   "outputs": [
    {
     "data": {
      "text/plain": [
       "6B     56070\n",
       "8A     51915\n",
       "4C     47252\n",
       "2D     34715\n",
       "3C     34372\n",
       "7A     33997\n",
       "3D     33970\n",
       "8B     32849\n",
       "4A     32649\n",
       "8C     30754\n",
       "9D     28090\n",
       "9B     27287\n",
       "9C     24576\n",
       "7B     24132\n",
       "9A     20393\n",
       "2C     19192\n",
       "8D     17421\n",
       "6E     15970\n",
       "2B     15297\n",
       "5D     14689\n",
       "6C     14646\n",
       "2A     13110\n",
       "5A     11870\n",
       "1D     11844\n",
       "1A     10722\n",
       "5B     10240\n",
       "3A     10080\n",
       "5C      9779\n",
       "4B      8931\n",
       "7C      8899\n",
       "4D      8492\n",
       "3B      6990\n",
       "6A      6707\n",
       "6D      6018\n",
       "9E      5946\n",
       "6F      5338\n",
       "4E      5267\n",
       "7D      5199\n",
       "1E      5009\n",
       "7E      4580\n",
       "1C      4263\n",
       "5F      4236\n",
       "1B      4027\n",
       "NaN     3995\n",
       "5E      3524\n",
       "Name: CAMEO_DEU_2015, dtype: int64"
      ]
     },
     "execution_count": 36,
     "metadata": {
      "tags": []
     },
     "output_type": "execute_result"
    }
   ],
   "source": [
    "#investigating 'CAMEO_DEU_2015' values\n",
    "azdias['CAMEO_DEU_2015'].value_counts(dropna=False)"
   ]
  },
  {
   "cell_type": "code",
   "execution_count": 0,
   "metadata": {
    "colab": {
     "base_uri": "https://localhost:8080/",
     "height": 656
    },
    "colab_type": "code",
    "id": "3IrLG1GYgtoX",
    "outputId": "1f8f4ad1-7c9f-473f-e133-d665cad0ba7c"
   },
   "outputs": [
    {
     "data": {
      "text/plain": [
       "D19_UNBEKANNT             188135\n",
       "D19_VERSICHERUNGEN         55651\n",
       "D19_SONSTIGE               43044\n",
       "D19_VOLLSORTIMENT          33454\n",
       "D19_SCHUHE                 31204\n",
       "D19_BUCH_CD                27735\n",
       "D19_VERSAND_REST           25057\n",
       "D19_DROGERIEARTIKEL        23136\n",
       "D19_BANKEN_DIREKT          22395\n",
       "D19_BEKLEIDUNG_REST        20888\n",
       "D19_HAUS_DEKO              20097\n",
       "D19_TELKO_MOBILE           13904\n",
       "D19_ENERGIE                11676\n",
       "D19_TELKO_REST             11064\n",
       "D19_BANKEN_GROSS           10140\n",
       "D19_BEKLEIDUNG_GEH          9859\n",
       "D19_KINDERARTIKEL           6978\n",
       "D19_FREIZEIT                6964\n",
       "D19_TECHNIK                 6730\n",
       "D19_LEBENSMITTEL            6210\n",
       "D19_BANKEN_REST             5041\n",
       "D19_RATGEBER                4744\n",
       "D19_NAHRUNGSERGAENZUNG      3932\n",
       "D19_DIGIT_SERV              3453\n",
       "D19_REISEN                  2999\n",
       "D19_TIERARTIKEL             2480\n",
       "D19_SAMMELARTIKEL           2349\n",
       "D19_HANDWERK                2150\n",
       "D19_WEIN_FEINKOST           2087\n",
       "D19_GARTEN                  1578\n",
       "D19_BANKEN_LOKAL            1391\n",
       "D19_BIO_OEKO                1175\n",
       "D19_BILDUNG                  937\n",
       "D19_LOTTO                    799\n",
       "D19_KOSMETIK                 761\n",
       "Name: D19_LETZTER_KAUF_BRANCHE, dtype: int64"
      ]
     },
     "execution_count": 37,
     "metadata": {
      "tags": []
     },
     "output_type": "execute_result"
    }
   ],
   "source": [
    "#investigating 'D19_LETZTER_KAUF_BRANCHE'\n",
    "\n",
    "azdias['D19_LETZTER_KAUF_BRANCHE'].value_counts()\n",
    "\n"
   ]
  },
  {
   "cell_type": "markdown",
   "metadata": {},
   "source": [
    "### since this column refers to only the LAST purchase made\n",
    "### since there are columns in the data frame for every category in this column\n",
    "### since this column is not refrenced in the values excell sheet provided in the project\n",
    "### since around 25% of this column's values are under \"D19_UNBEKANNT\" which means \n",
    "### that we cannot derive the category of the purchase\n",
    "### this column will be omitted from the analysis  "
   ]
  },
  {
   "cell_type": "code",
   "execution_count": 0,
   "metadata": {
    "colab": {
     "base_uri": "https://localhost:8080/",
     "height": 230
    },
    "colab_type": "code",
    "id": "BegWLMbloQgP",
    "outputId": "70fe6eb4-8e32-464f-f5cc-91c5461b480b"
   },
   "outputs": [
    {
     "data": {
      "text/plain": [
       "1992-02-10 00:00:00    380331\n",
       "1992-02-12 00:00:00    190718\n",
       "1995-02-07 00:00:00     11125\n",
       "2005-12-16 00:00:00      6199\n",
       "2003-11-18 00:00:00      5958\n",
       "                        ...  \n",
       "2005-12-11 00:00:00         1\n",
       "2001-01-29 00:00:00         1\n",
       "2011-07-27 00:00:00         1\n",
       "2009-12-21 00:00:00         1\n",
       "2007-10-14 00:00:00         1\n",
       "Name: EINGEFUEGT_AM, Length: 4464, dtype: int64"
      ]
     },
     "execution_count": 38,
     "metadata": {
      "tags": []
     },
     "output_type": "execute_result"
    }
   ],
   "source": [
    "#investigating 'EINGEFUEGT_AM'\n",
    "azdias['EINGEFUEGT_AM'].value_counts()\n",
    "\n"
   ]
  },
  {
   "cell_type": "markdown",
   "metadata": {},
   "source": [
    "### date values\n",
    "### almost 50% of the data is concentared on 2 dates that are 2 only days apart \n",
    "### also , is not mentioned in the values excel sheet provided in the project\n",
    "### will not be included in the analysis"
   ]
  },
  {
   "cell_type": "code",
   "execution_count": 0,
   "metadata": {
    "colab": {},
    "colab_type": "code",
    "id": "26-s2VS5LNGq"
   },
   "outputs": [],
   "source": [
    "#dropping columns\n",
    "azdias.drop(columns = ['D19_LETZTER_KAUF_BRANCHE','EINGEFUEGT_AM'], inplace = True)"
   ]
  },
  {
   "cell_type": "code",
   "execution_count": 0,
   "metadata": {
    "colab": {
     "base_uri": "https://localhost:8080/",
     "height": 34
    },
    "colab_type": "code",
    "id": "CizE07d9oQgp",
    "outputId": "441cb284-fdc9-4c90-c9ce-031a3fefe602"
   },
   "outputs": [
    {
     "data": {
      "text/plain": [
       "[11, 306]"
      ]
     },
     "execution_count": 40,
     "metadata": {
      "tags": []
     },
     "output_type": "execute_result"
    }
   ],
   "source": [
    "#further investigate categorical columns indices\n",
    "\n",
    "lst_azdias = []\n",
    "for idx, typ in enumerate(azdias.dtypes.tolist()):\n",
    "    if typ == 'O':\n",
    "        lst_azdias.append(idx)\n",
    "    \n",
    "lst_azdias"
   ]
  },
  {
   "cell_type": "code",
   "execution_count": 0,
   "metadata": {
    "colab": {
     "base_uri": "https://localhost:8080/",
     "height": 377
    },
    "colab_type": "code",
    "id": "jxQM1KhQgtlk",
    "outputId": "4750aac7-1bd7-498d-c18b-9d231d6c1d49",
    "scrolled": false
   },
   "outputs": [
    {
     "data": {
      "text/html": [
       "<div>\n",
       "<style scoped>\n",
       "    .dataframe tbody tr th:only-of-type {\n",
       "        vertical-align: middle;\n",
       "    }\n",
       "\n",
       "    .dataframe tbody tr th {\n",
       "        vertical-align: top;\n",
       "    }\n",
       "\n",
       "    .dataframe thead th {\n",
       "        text-align: right;\n",
       "    }\n",
       "</style>\n",
       "<table border=\"1\" class=\"dataframe\">\n",
       "  <thead>\n",
       "    <tr style=\"text-align: right;\">\n",
       "      <th></th>\n",
       "      <th>CAMEO_DEU_2015</th>\n",
       "      <th>OST_WEST_KZ</th>\n",
       "    </tr>\n",
       "    <tr>\n",
       "      <th>LNR</th>\n",
       "      <th></th>\n",
       "      <th></th>\n",
       "    </tr>\n",
       "  </thead>\n",
       "  <tbody>\n",
       "    <tr>\n",
       "      <th>910220</th>\n",
       "      <td>8A</td>\n",
       "      <td>W</td>\n",
       "    </tr>\n",
       "    <tr>\n",
       "      <th>910225</th>\n",
       "      <td>4C</td>\n",
       "      <td>W</td>\n",
       "    </tr>\n",
       "    <tr>\n",
       "      <th>910226</th>\n",
       "      <td>2A</td>\n",
       "      <td>W</td>\n",
       "    </tr>\n",
       "    <tr>\n",
       "      <th>910241</th>\n",
       "      <td>6B</td>\n",
       "      <td>W</td>\n",
       "    </tr>\n",
       "    <tr>\n",
       "      <th>910244</th>\n",
       "      <td>8C</td>\n",
       "      <td>W</td>\n",
       "    </tr>\n",
       "    <tr>\n",
       "      <th>910248</th>\n",
       "      <td>4A</td>\n",
       "      <td>W</td>\n",
       "    </tr>\n",
       "    <tr>\n",
       "      <th>910261</th>\n",
       "      <td>2D</td>\n",
       "      <td>W</td>\n",
       "    </tr>\n",
       "    <tr>\n",
       "      <th>645145</th>\n",
       "      <td>1A</td>\n",
       "      <td>W</td>\n",
       "    </tr>\n",
       "    <tr>\n",
       "      <th>645153</th>\n",
       "      <td>1E</td>\n",
       "      <td>W</td>\n",
       "    </tr>\n",
       "    <tr>\n",
       "      <th>645165</th>\n",
       "      <td>9D</td>\n",
       "      <td>W</td>\n",
       "    </tr>\n",
       "  </tbody>\n",
       "</table>\n",
       "</div>"
      ],
      "text/plain": [
       "       CAMEO_DEU_2015 OST_WEST_KZ\n",
       "LNR                              \n",
       "910220             8A           W\n",
       "910225             4C           W\n",
       "910226             2A           W\n",
       "910241             6B           W\n",
       "910244             8C           W\n",
       "910248             4A           W\n",
       "910261             2D           W\n",
       "645145             1A           W\n",
       "645153             1E           W\n",
       "645165             9D           W"
      ]
     },
     "execution_count": 41,
     "metadata": {
      "tags": []
     },
     "output_type": "execute_result"
    }
   ],
   "source": [
    "azdias.iloc[:,lst_azdias].head(10)"
   ]
  },
  {
   "cell_type": "code",
   "execution_count": 0,
   "metadata": {
    "colab": {
     "base_uri": "https://localhost:8080/",
     "height": 34
    },
    "colab_type": "code",
    "id": "4aYrQ2-KRsCm",
    "outputId": "6dc531ab-6101-47d7-9f2f-544f717e14da",
    "scrolled": true
   },
   "outputs": [
    {
     "data": {
      "text/plain": [
       "(785302, 354)"
      ]
     },
     "execution_count": 42,
     "metadata": {
      "tags": []
     },
     "output_type": "execute_result"
    }
   ],
   "source": [
    "azdias.shape"
   ]
  },
  {
   "cell_type": "markdown",
   "metadata": {},
   "source": [
    "### re encoding categorical features"
   ]
  },
  {
   "cell_type": "code",
   "execution_count": 0,
   "metadata": {
    "colab": {
     "base_uri": "https://localhost:8080/",
     "height": 70
    },
    "colab_type": "code",
    "id": "0UG2rc0lKTlE",
    "outputId": "01988591-2365-4416-8d20-7b3abb8a9ab6"
   },
   "outputs": [
    {
     "data": {
      "text/plain": [
       "W    619190\n",
       "O    166112\n",
       "Name: OST_WEST_KZ, dtype: int64"
      ]
     },
     "execution_count": 43,
     "metadata": {
      "tags": []
     },
     "output_type": "execute_result"
    }
   ],
   "source": [
    "#investigating 'OST_WEST_KZ' values\n",
    "azdias['OST_WEST_KZ'].value_counts(dropna=False)"
   ]
  },
  {
   "cell_type": "code",
   "execution_count": 0,
   "metadata": {
    "colab": {},
    "colab_type": "code",
    "id": "P0fo0hWiKTgZ"
   },
   "outputs": [],
   "source": [
    "#instantiate a LabelEncoder object to re-enncode categorical features\n",
    "le = LabelEncoder()"
   ]
  },
  {
   "cell_type": "code",
   "execution_count": 0,
   "metadata": {
    "colab": {},
    "colab_type": "code",
    "id": "ON1jdLY8oQhm"
   },
   "outputs": [],
   "source": [
    "#re-ecnoding categorical column 'OST_WEST_KZ' to binary i.e [0,1]\n",
    "azdias['OST_WEST_KZ'] = le.fit_transform(azdias['OST_WEST_KZ'].astype('str'))"
   ]
  },
  {
   "cell_type": "code",
   "execution_count": 0,
   "metadata": {
    "colab": {
     "base_uri": "https://localhost:8080/",
     "height": 70
    },
    "colab_type": "code",
    "id": "fB-J89SAKTb5",
    "outputId": "c7f195b5-2164-467a-905b-d71739e80769"
   },
   "outputs": [
    {
     "data": {
      "text/plain": [
       "1    619190\n",
       "0    166112\n",
       "Name: OST_WEST_KZ, dtype: int64"
      ]
     },
     "execution_count": 46,
     "metadata": {
      "tags": []
     },
     "output_type": "execute_result"
    }
   ],
   "source": [
    "#check values after re-encoding\n",
    "azdias['OST_WEST_KZ'].value_counts()"
   ]
  },
  {
   "cell_type": "code",
   "execution_count": 0,
   "metadata": {
    "colab": {
     "base_uri": "https://localhost:8080/",
     "height": 834
    },
    "colab_type": "code",
    "id": "L1irE20goQiB",
    "outputId": "5e8a1ab7-0d79-41a2-8c82-90ce57966a52"
   },
   "outputs": [
    {
     "data": {
      "text/plain": [
       "6B     56070\n",
       "8A     51915\n",
       "4C     47252\n",
       "2D     34715\n",
       "3C     34372\n",
       "7A     33997\n",
       "3D     33970\n",
       "8B     32849\n",
       "4A     32649\n",
       "8C     30754\n",
       "9D     28090\n",
       "9B     27287\n",
       "9C     24576\n",
       "7B     24132\n",
       "9A     20393\n",
       "2C     19192\n",
       "8D     17421\n",
       "6E     15970\n",
       "2B     15297\n",
       "5D     14689\n",
       "6C     14646\n",
       "2A     13110\n",
       "5A     11870\n",
       "1D     11844\n",
       "1A     10722\n",
       "5B     10240\n",
       "3A     10080\n",
       "5C      9779\n",
       "4B      8931\n",
       "7C      8899\n",
       "4D      8492\n",
       "3B      6990\n",
       "6A      6707\n",
       "6D      6018\n",
       "9E      5946\n",
       "6F      5338\n",
       "4E      5267\n",
       "7D      5199\n",
       "1E      5009\n",
       "7E      4580\n",
       "1C      4263\n",
       "5F      4236\n",
       "1B      4027\n",
       "NaN     3995\n",
       "5E      3524\n",
       "Name: CAMEO_DEU_2015, dtype: int64"
      ]
     },
     "execution_count": 47,
     "metadata": {
      "tags": []
     },
     "output_type": "execute_result"
    }
   ],
   "source": [
    "#investigating 'CAMEO_DEU_2015' values\n",
    "azdias['CAMEO_DEU_2015'].value_counts(dropna=False)"
   ]
  },
  {
   "cell_type": "markdown",
   "metadata": {},
   "source": [
    "#### missing values have to be imputed before re-enconding as LabelEncoder will encode NaN values\n",
    "#### strategy will be imputing the NaN values with the most occuring value as this is the most common practice to impute categorical data"
   ]
  },
  {
   "cell_type": "code",
   "execution_count": 0,
   "metadata": {
    "colab": {},
    "colab_type": "code",
    "id": "zlXZTPHGoQiN"
   },
   "outputs": [],
   "source": [
    "#imputing missing values with value most occuring\n",
    "azdias['CAMEO_DEU_2015'] = azdias['CAMEO_DEU_2015'].fillna(azdias['CAMEO_DEU_2015'].value_counts().index[0])"
   ]
  },
  {
   "cell_type": "code",
   "execution_count": 0,
   "metadata": {
    "colab": {
     "base_uri": "https://localhost:8080/",
     "height": 34
    },
    "colab_type": "code",
    "id": "LvIJYWWroQiV",
    "outputId": "e0141aa7-0a1b-4bbe-ffea-e938cc448283"
   },
   "outputs": [
    {
     "data": {
      "text/plain": [
       "44"
      ]
     },
     "execution_count": 49,
     "metadata": {
      "tags": []
     },
     "output_type": "execute_result"
    }
   ],
   "source": [
    "azdias['CAMEO_DEU_2015'].value_counts().count()"
   ]
  },
  {
   "cell_type": "code",
   "execution_count": 0,
   "metadata": {
    "colab": {},
    "colab_type": "code",
    "id": "ObI_vVDQKTQI"
   },
   "outputs": [],
   "source": [
    "#re-encoding 'CAMEO_DEU_2015' into numbers instead of categories\n",
    "azdias['CAMEO_DEU_2015'] = le.fit_transform(azdias['CAMEO_DEU_2015'].astype('str'))"
   ]
  },
  {
   "cell_type": "code",
   "execution_count": 0,
   "metadata": {
    "colab": {
     "base_uri": "https://localhost:8080/",
     "height": 34
    },
    "colab_type": "code",
    "id": "60nXIqmyoQin",
    "outputId": "293509c9-f759-4fc4-bd21-595ea2c3da39",
    "scrolled": true
   },
   "outputs": [
    {
     "data": {
      "text/plain": [
       "44"
      ]
     },
     "execution_count": 51,
     "metadata": {
      "tags": []
     },
     "output_type": "execute_result"
    }
   ],
   "source": [
    "azdias['CAMEO_DEU_2015'].value_counts().count()"
   ]
  },
  {
   "cell_type": "code",
   "execution_count": 0,
   "metadata": {
    "colab": {
     "base_uri": "https://localhost:8080/",
     "height": 70
    },
    "colab_type": "code",
    "id": "n7UFipFroQix",
    "outputId": "d28718eb-358c-4423-e5be-b2ed1d271590",
    "scrolled": false
   },
   "outputs": [
    {
     "data": {
      "text/plain": [
       "2.0    389009\n",
       "1.0    360215\n",
       "Name: VERS_TYP, dtype: int64"
      ]
     },
     "execution_count": 52,
     "metadata": {
      "tags": []
     },
     "output_type": "execute_result"
    }
   ],
   "source": [
    "#investigating binary columns ['VERS_TYP']\n",
    "azdias['VERS_TYP'].value_counts()"
   ]
  },
  {
   "cell_type": "code",
   "execution_count": 0,
   "metadata": {
    "colab": {
     "base_uri": "https://localhost:8080/",
     "height": 70
    },
    "colab_type": "code",
    "id": "ojREb1VooQjO",
    "outputId": "ef1b457c-f14f-4257-df64-2165e84768e6",
    "scrolled": false
   },
   "outputs": [
    {
     "data": {
      "text/plain": [
       "2    409631\n",
       "1    375671\n",
       "Name: ANREDE_KZ, dtype: int64"
      ]
     },
     "execution_count": 53,
     "metadata": {
      "tags": []
     },
     "output_type": "execute_result"
    }
   ],
   "source": [
    "# investigating binary column ['ANREDE_KZ']\n",
    "azdias['ANREDE_KZ'].value_counts()"
   ]
  },
  {
   "cell_type": "code",
   "execution_count": 0,
   "metadata": {
    "colab": {},
    "colab_type": "code",
    "id": "-tMvXFNvoQja"
   },
   "outputs": [],
   "source": [
    "#standardizing binary into 0,1\n",
    "azdias['VERS_TYP'].replace([2.0, 1.0], [1, 0], inplace=True)\n",
    "azdias['ANREDE_KZ'].replace([2, 1], [1, 0], inplace=True)"
   ]
  },
  {
   "cell_type": "code",
   "execution_count": 0,
   "metadata": {
    "colab": {
     "base_uri": "https://localhost:8080/",
     "height": 70
    },
    "colab_type": "code",
    "id": "R5ChyPMAoQjr",
    "outputId": "09d2914c-1cdb-4d9d-ab94-59c501b573c6",
    "scrolled": false
   },
   "outputs": [
    {
     "data": {
      "text/plain": [
       "1.0    389009\n",
       "0.0    360215\n",
       "Name: VERS_TYP, dtype: int64"
      ]
     },
     "execution_count": 55,
     "metadata": {
      "tags": []
     },
     "output_type": "execute_result"
    }
   ],
   "source": [
    "#checking results \n",
    "azdias['VERS_TYP'].value_counts()"
   ]
  },
  {
   "cell_type": "code",
   "execution_count": 0,
   "metadata": {
    "colab": {
     "base_uri": "https://localhost:8080/",
     "height": 70
    },
    "colab_type": "code",
    "id": "MrJ-NOGgoQj4",
    "outputId": "1821398d-3d36-4c99-f7af-8e2399040c73",
    "scrolled": false
   },
   "outputs": [
    {
     "data": {
      "text/plain": [
       "1    409631\n",
       "0    375671\n",
       "Name: ANREDE_KZ, dtype: int64"
      ]
     },
     "execution_count": 56,
     "metadata": {
      "tags": []
     },
     "output_type": "execute_result"
    }
   ],
   "source": [
    "azdias['ANREDE_KZ'].value_counts()"
   ]
  },
  {
   "cell_type": "code",
   "execution_count": 0,
   "metadata": {
    "colab": {
     "base_uri": "https://localhost:8080/",
     "height": 34
    },
    "colab_type": "code",
    "id": "qB00QckCoQj_",
    "outputId": "6fe62adc-04c5-4a1b-9adb-e297bf2d8e3b"
   },
   "outputs": [
    {
     "data": {
      "text/plain": [
       "0"
      ]
     },
     "execution_count": 57,
     "metadata": {
      "tags": []
     },
     "output_type": "execute_result"
    }
   ],
   "source": [
    "gc.collect()"
   ]
  },
  {
   "cell_type": "code",
   "execution_count": 0,
   "metadata": {
    "colab": {
     "base_uri": "https://localhost:8080/",
     "height": 34
    },
    "colab_type": "code",
    "id": "MzVCnB2zoQkH",
    "outputId": "8754c5ba-374c-4c0b-d264-a15865404550"
   },
   "outputs": [
    {
     "data": {
      "text/plain": [
       "(785302, 354)"
      ]
     },
     "execution_count": 58,
     "metadata": {
      "tags": []
     },
     "output_type": "execute_result"
    }
   ],
   "source": [
    "azdias.shape"
   ]
  },
  {
   "cell_type": "markdown",
   "metadata": {},
   "source": [
    "### Remove redundancies\n",
    "#### in the attribute llist I have noticed duplicated attributes with suffixes _FEIN and _GROB\n",
    "#### with values similar and redundant \n",
    "#### investigating these attributes ['LP_STATUS_GROB','LP_FAMILIE_GROB','LP_LEBENSPHASE_GROB','ALTERSKATEGORIE_GROB']\n",
    "#### and their potential duplicates ['LP_STATUS_FEIN','LP_FAMILIE_FEIN','LP_LEBENSPHASE_FEIN','ALTERSKATEGORIE_FEIN']"
   ]
  },
  {
   "cell_type": "code",
   "execution_count": 0,
   "metadata": {
    "colab": {
     "base_uri": "https://localhost:8080/",
     "height": 1000
    },
    "colab_type": "code",
    "id": "ntC6KsURoQkY",
    "outputId": "dd541616-21ca-49b4-b6b8-4b6915241ae7",
    "scrolled": true
   },
   "outputs": [
    {
     "data": {
      "image/png": "[encoded data removed]",
      "text/plain": [
       "<Figure size 1440x432 with 2 Axes>"
      ]
     },
     "metadata": {
      "tags": []
     },
     "output_type": "display_data"
    },
    {
     "data": {
      "image/png": "[encoded data removed]",
      "text/plain": [
       "<Figure size 1440x432 with 2 Axes>"
      ]
     },
     "metadata": {
      "tags": []
     },
     "output_type": "display_data"
    },
    {
     "data": {
      "image/png": "[encoded data removed]",
      "text/plain": [
       "<Figure size 1440x432 with 2 Axes>"
      ]
     },
     "metadata": {
      "tags": []
     },
     "output_type": "display_data"
    },
    {
     "data": {
      "image/png": "[encoded data removed]",
      "text/plain": [
       "<Figure size 1440x432 with 2 Axes>"
      ]
     },
     "metadata": {
      "tags": []
     },
     "output_type": "display_data"
    }
   ],
   "source": [
    "#visualising said features\n",
    "\n",
    "\n",
    "#creating list of features to visualize\n",
    "columns = [['LP_STATUS_GROB','LP_STATUS_FEIN'], ['LP_FAMILIE_GROB','LP_FAMILIE_FEIN'],\n",
    "           ['LP_LEBENSPHASE_GROB','LP_LEBENSPHASE_FEIN'],['ALTERSKATEGORIE_GROB','ALTERSKATEGORIE_FEIN']]\n",
    "\n",
    "\n",
    "#iterating over values in columns list and plotting them\n",
    "for group in columns:\n",
    "    \n",
    "    fig = plt.figure(figsize=(20, 6))\n",
    "    \n",
    "    ax1 = fig.add_subplot(121)\n",
    "    sns.countplot(azdias[group[0]],order=azdias[group[0]].value_counts().index)\n",
    "\n",
    "    ax2 = fig.add_subplot(122)\n",
    "    sns.countplot(azdias[group[1]],order=azdias[group[1]].value_counts().index)\n",
    "\n",
    "    plt.show();\n",
    "\n"
   ]
  },
  {
   "cell_type": "markdown",
   "metadata": {},
   "source": [
    "#### as seen from above count plots and as inspected from the attribute sheet given by the project \n",
    "#### both the _GROB and the _FEIN describe the same thing except the _FEIN column is more fine grained\n",
    "#### keeping one of them is enough\n",
    "#### I have decided to drop ['LP_STATUS_GROB' ,LP_FAMILIE_GROB, 'LP_LEBENSPHASE_GROB'] as theoir respective columns suffice\n",
    "#### and ['ALTERSKATEGORIE_FEIN'] as it is not it is not described in the attribute sheet"
   ]
  },
  {
   "cell_type": "code",
   "execution_count": 0,
   "metadata": {
    "colab": {},
    "colab_type": "code",
    "id": "ggvLn_MmoQkj"
   },
   "outputs": [],
   "source": [
    "#dropping said columns\n",
    "azdias.drop(['LP_STATUS_GROB' ,'LP_FAMILIE_GROB', 'LP_LEBENSPHASE_GROB', 'ALTERSKATEGORIE_FEIN'], axis=1, inplace=True)\n"
   ]
  },
  {
   "cell_type": "markdown",
   "metadata": {},
   "source": [
    "### outlier removal"
   ]
  },
  {
   "cell_type": "code",
   "execution_count": 0,
   "metadata": {
    "colab": {
     "base_uri": "https://localhost:8080/",
     "height": 230
    },
    "colab_type": "code",
    "id": "dctEg5vkoQks",
    "outputId": "6b1a6727-da39-42aa-c64e-dd07c2260603",
    "scrolled": true
   },
   "outputs": [
    {
     "data": {
      "text/plain": [
       "0       304715\n",
       "1967     10749\n",
       "1965     10685\n",
       "1966     10542\n",
       "1970     10478\n",
       "         ...  \n",
       "1908         6\n",
       "1904         5\n",
       "1907         3\n",
       "1900         3\n",
       "1902         1\n",
       "Name: GEBURTSJAHR, Length: 117, dtype: int64"
      ]
     },
     "execution_count": 62,
     "metadata": {
      "tags": []
     },
     "output_type": "execute_result"
    }
   ],
   "source": [
    "#investigate ['GEBURTSJAHR']\n",
    "azdias['GEBURTSJAHR'].value_counts()"
   ]
  },
  {
   "cell_type": "code",
   "execution_count": 0,
   "metadata": {
    "colab": {
     "base_uri": "https://localhost:8080/",
     "height": 390
    },
    "colab_type": "code",
    "id": "HndJtxbPoQkz",
    "outputId": "f2587a8c-6627-4b44-acc5-bf0de501ef05",
    "scrolled": false
   },
   "outputs": [
    {
     "data": {
      "image/png": "[encoded data removed]",
      "text/plain": [
       "<Figure size 1440x432 with 2 Axes>"
      ]
     },
     "metadata": {
      "tags": []
     },
     "output_type": "display_data"
    }
   ],
   "source": [
    "#visualizing values of ['GEBURTSJAHR'] (year of birth)\n",
    "\n",
    "fig = plt.figure(figsize=(20, 6))\n",
    "\n",
    "ax1 = fig.add_subplot(121)\n",
    "azdias[\"GEBURTSJAHR\"].hist(bins=10)\n",
    "ax1.title.set_text('Before removing 0 values')\n",
    "\n",
    "ax2 = fig.add_subplot(122)\n",
    "azdias[\"GEBURTSJAHR\"].replace(0,np.nan).hist()\n",
    "ax2.title.set_text('After removing 0 values')\n",
    "\n",
    "\n",
    "#there seems to be almost 40% '0' values in yeard of birth column"
   ]
  },
  {
   "cell_type": "markdown",
   "metadata": {},
   "source": [
    "#### there seems to be almost 40% '0' values in yeard of birth column which is unreasonable , will re-encode them to NaN values"
   ]
  },
  {
   "cell_type": "code",
   "execution_count": 0,
   "metadata": {
    "colab": {},
    "colab_type": "code",
    "id": "gqf6S1nyoQk7"
   },
   "outputs": [],
   "source": [
    "#re-encoding '0' values with NaN\n",
    "azdias[\"GEBURTSJAHR\"] = azdias[\"GEBURTSJAHR\"].replace(0,np.nan)\n"
   ]
  },
  {
   "cell_type": "code",
   "execution_count": 0,
   "metadata": {
    "colab": {
     "base_uri": "https://localhost:8080/",
     "height": 52
    },
    "colab_type": "code",
    "id": "yt8yn9maoQlE",
    "outputId": "231360c5-5d7d-49b8-c134-fa349de46396"
   },
   "outputs": [
    {
     "name": "stdout",
     "output_type": "stream",
     "text": [
      "minimum value is: 1900.0\n",
      "percentage of null vaues is : 38.802269700064436\n"
     ]
    }
   ],
   "source": [
    "#check that there is no unreasonable year of birth\n",
    "print('minimum value is:',azdias[\"GEBURTSJAHR\"].min())\n",
    "\n",
    "#calculating null values percentage in the column\n",
    "null_percentage = azdias[\"GEBURTSJAHR\"].isnull().sum() /len(azdias[\"GEBURTSJAHR\"]) *100\n",
    "print('percentage of null vaues is :',null_percentage)\n"
   ]
  },
  {
   "cell_type": "markdown",
   "metadata": {},
   "source": [
    "#### however that would excceed the threshold set for columns with missing values and while the year of birth is obviously important to a customer satistical analysis , the values of birth years are almost normal disturbuted and  imputing such a high percentage of missing values will introduce bias, Therefore, will be dropped"
   ]
  },
  {
   "cell_type": "code",
   "execution_count": 0,
   "metadata": {
    "colab": {
     "base_uri": "https://localhost:8080/",
     "height": 34
    },
    "colab_type": "code",
    "id": "q7lfBbKvoQlM",
    "outputId": "d366b58f-c041-4edb-b51d-5df9ecd55e49"
   },
   "outputs": [
    {
     "data": {
      "text/plain": [
       "29476"
      ]
     },
     "execution_count": 66,
     "metadata": {
      "tags": []
     },
     "output_type": "execute_result"
    }
   ],
   "source": [
    "#clear memory\n",
    "del null_percentage\n",
    "gc.collect()"
   ]
  },
  {
   "cell_type": "code",
   "execution_count": 0,
   "metadata": {
    "colab": {},
    "colab_type": "code",
    "id": "9FL2Ub_roQla"
   },
   "outputs": [],
   "source": [
    "#dropping ['GEBURTSJAHR'] column\n",
    "azdias.drop('GEBURTSJAHR', axis=1, inplace=True)"
   ]
  },
  {
   "cell_type": "code",
   "execution_count": 0,
   "metadata": {
    "colab": {
     "base_uri": "https://localhost:8080/",
     "height": 34
    },
    "colab_type": "code",
    "id": "OX6vPjkroQll",
    "outputId": "3b7ef93f-206d-4ae9-85dd-62b76e3826db"
   },
   "outputs": [
    {
     "data": {
      "text/plain": [
       "(785302, 349)"
      ]
     },
     "execution_count": 68,
     "metadata": {
      "tags": []
     },
     "output_type": "execute_result"
    }
   ],
   "source": [
    "azdias.shape"
   ]
  },
  {
   "cell_type": "code",
   "execution_count": 0,
   "metadata": {
    "colab": {
     "base_uri": "https://localhost:8080/",
     "height": 34
    },
    "colab_type": "code",
    "id": "rZ8GcI-eoQls",
    "outputId": "bb86720c-8128-4eaa-e5ac-3482f7c7df43",
    "scrolled": false
   },
   "outputs": [
    {
     "data": {
      "text/plain": [
       "0"
      ]
     },
     "execution_count": 69,
     "metadata": {
      "tags": []
     },
     "output_type": "execute_result"
    }
   ],
   "source": [
    "gc.collect()"
   ]
  },
  {
   "cell_type": "markdown",
   "metadata": {
    "colab": {},
    "colab_type": "code",
    "id": "kGFrsOrIoQoD"
   },
   "source": [
    "### engineer mixed types"
   ]
  },
  {
   "cell_type": "markdown",
   "metadata": {},
   "source": [
    "#### Investigate CAMEO_INTL_2015 and engineer two new variables"
   ]
  },
  {
   "cell_type": "code",
   "execution_count": 0,
   "metadata": {
    "colab": {
     "base_uri": "https://localhost:8080/",
     "height": 282
    },
    "colab_type": "code",
    "id": "Jdo0ho5Fk8QQ",
    "outputId": "6b482327-aa86-446e-b69a-9efbbce0fab9"
   },
   "outputs": [
    {
     "data": {
      "text/plain": [
       "<matplotlib.axes._subplots.AxesSubplot at 0x7fd9302ee1d0>"
      ]
     },
     "execution_count": 73,
     "metadata": {
      "tags": []
     },
     "output_type": "execute_result"
    },
    {
     "data": {
      "image/png": "[encoded data removed]",
      "text/plain": [
       "<Figure size 432x288 with 1 Axes>"
      ]
     },
     "metadata": {
      "tags": []
     },
     "output_type": "display_data"
    }
   ],
   "source": [
    "azdias['CAMEO_INTL_2015'].hist()"
   ]
  },
  {
   "cell_type": "code",
   "execution_count": 0,
   "metadata": {
    "colab": {
     "base_uri": "https://localhost:8080/",
     "height": 34
    },
    "colab_type": "code",
    "id": "sS35irfRgm2v",
    "outputId": "2375d274-7551-44ea-8d54-239918eef691"
   },
   "outputs": [
    {
     "data": {
      "text/plain": [
       "(785302, 349)"
      ]
     },
     "execution_count": 72,
     "metadata": {
      "tags": []
     },
     "output_type": "execute_result"
    }
   ],
   "source": [
    "azdias.shape"
   ]
  },
  {
   "cell_type": "code",
   "execution_count": 0,
   "metadata": {
    "colab": {},
    "colab_type": "code",
    "id": "ZLbe-tfBoQoI"
   },
   "outputs": [],
   "source": [
    "\n",
    "\n",
    "#household wealth dictionary to map values in column with new re-encoded value \n",
    "households= {0: [11,12,13,14,15], #wealthy households\n",
    "            1: [21,22,23,24,25], #properous households\n",
    "            2: [31,32,33,34,35], #comfrotable households\n",
    "            3: [41,42,43,44,45], # Less Affluent households\n",
    "            4: [51,52,53,54,550] #poorer households\n",
    "            }\n",
    "\n",
    "#create function to replace values in the column with encoded household wealth level\n",
    "def classify_household(value):\n",
    "    try:\n",
    "        for key, values in households.items():\n",
    "            if value in values:\n",
    "                return key\n",
    "    # In case value is NaN\n",
    "    except ValueError:\n",
    "        return np.nan\n",
    "\n",
    "#stage dictionary to map values in column with new re-encoded value \n",
    "stages = {0: [11,21,31,41,51],#Pre-Family Couples & Singles\n",
    "         1: [12,22,32,42,52], #Young Couples With Children\n",
    "         2: [13,23,33,43,53], #Families With School Age Children\n",
    "         3: [14,24,34,44,54], #Older Families &  Mature Couples\n",
    "         4: [15,25,35,45,55]# Elders In Retirement\n",
    "         }\n",
    "\n",
    "#create function to replace values in the column with encoded stage level\n",
    "def classify_stage(value):\n",
    "    try:\n",
    "        for key, values in stages.items():\n",
    "            if value in values:\n",
    "                return key\n",
    "    # In case value is NaN\n",
    "    except ValueError:\n",
    "        return np.nan"
   ]
  },
  {
   "cell_type": "code",
   "execution_count": 0,
   "metadata": {
    "colab": {},
    "colab_type": "code",
    "id": "NarBW57jfwhl"
   },
   "outputs": [],
   "source": [
    "#create new column for household\n",
    "azdias['CAMEO_INTL_2015_household']= azdias['CAMEO_INTL_2015'].apply(classify_household)\n",
    "\n",
    "#create new column for stage\n",
    "azdias['CAMEO_INTL_2015_stage']= azdias['CAMEO_INTL_2015'].apply(classify_stage)"
   ]
  },
  {
   "cell_type": "code",
   "execution_count": 0,
   "metadata": {
    "colab": {
     "base_uri": "https://localhost:8080/",
     "height": 34
    },
    "colab_type": "code",
    "id": "122X7cbSgpfh",
    "outputId": "fb489942-5a6a-4833-d623-7efb3d6428b0"
   },
   "outputs": [
    {
     "data": {
      "text/plain": [
       "(785302, 351)"
      ]
     },
     "execution_count": 75,
     "metadata": {
      "tags": []
     },
     "output_type": "execute_result"
    }
   ],
   "source": [
    "azdias.shape"
   ]
  },
  {
   "cell_type": "code",
   "execution_count": 0,
   "metadata": {
    "colab": {
     "base_uri": "https://localhost:8080/",
     "height": 390
    },
    "colab_type": "code",
    "id": "yOhRUCwzl1aS",
    "outputId": "42c930d9-3bc0-44fd-c3e2-1c911e8c6c6a"
   },
   "outputs": [
    {
     "data": {
      "image/png": "[encoded data removed]",
      "text/plain": [
       "<Figure size 1440x432 with 2 Axes>"
      ]
     },
     "metadata": {
      "tags": []
     },
     "output_type": "display_data"
    }
   ],
   "source": [
    "#visualizing newly created columns\n",
    "fig = plt.figure(figsize=(20, 6))\n",
    "\n",
    "ax1 = fig.add_subplot(121)\n",
    "azdias[\"CAMEO_INTL_2015_household\"].hist(bins=10)\n",
    "ax1.title.set_text('CAMEO_INTL_2015_household')\n",
    "\n",
    "ax2 = fig.add_subplot(122)\n",
    "azdias[\"CAMEO_INTL_2015_stage\"].hist()\n",
    "ax2.title.set_text('CAMEO_INTL_2015_stage')\n",
    "\n"
   ]
  },
  {
   "cell_type": "code",
   "execution_count": 0,
   "metadata": {
    "colab": {},
    "colab_type": "code",
    "id": "zsU69QnagWPO"
   },
   "outputs": [],
   "source": [
    "#drop orginal 'CAMEO_INTL_2015' column to evade multicollinearity \n",
    "azdias.drop('CAMEO_INTL_2015', axis=1, inplace=True)"
   ]
  },
  {
   "cell_type": "code",
   "execution_count": 0,
   "metadata": {
    "colab": {
     "base_uri": "https://localhost:8080/",
     "height": 34
    },
    "colab_type": "code",
    "id": "EyVsZRpgm00y",
    "outputId": "6c299699-de62-4bab-e771-54eaf3a16826"
   },
   "outputs": [
    {
     "data": {
      "text/plain": [
       "(785302, 350)"
      ]
     },
     "execution_count": 78,
     "metadata": {
      "tags": []
     },
     "output_type": "execute_result"
    }
   ],
   "source": [
    "azdias.shape"
   ]
  },
  {
   "cell_type": "markdown",
   "metadata": {},
   "source": [
    "####  Investigate \"PRAEGENDE_JUGENDJAHRE\" and engineer two new variables."
   ]
  },
  {
   "cell_type": "code",
   "execution_count": 0,
   "metadata": {
    "colab": {},
    "colab_type": "code",
    "id": "0M2oDYOroQoP",
    "scrolled": true
   },
   "outputs": [],
   "source": [
    "\n",
    "\n",
    "# Generation \n",
    "generations = {0: [1, 2], # 40s\n",
    "               1: [3, 4], # 50s\n",
    "               2: [5, 6, 7], # 60s\n",
    "               3: [8, 9], # 70s\n",
    "               4: [10, 11, 12, 13], # 80s\n",
    "               5:[14, 15]} # 90s\n",
    "\n",
    "def classify_generation(value):\n",
    "    try:\n",
    "        for key, values in generations.items():\n",
    "            if value in values:\n",
    "                return key\n",
    "    # In case value is NaN\n",
    "    except ValueError:\n",
    "        return np.nan\n",
    "\n",
    "# Movement \n",
    "mainstream = [1, 3, 5, 8, 10, 12, 14]\n",
    "\n",
    "def classify_movement(value):\n",
    "    try:\n",
    "        if value in mainstream:\n",
    "            return 1\n",
    "        else:\n",
    "            return 0\n",
    "    # In case value is NaN\n",
    "    except ValueError:\n",
    "        return np.nan"
   ]
  },
  {
   "cell_type": "code",
   "execution_count": 0,
   "metadata": {
    "colab": {},
    "colab_type": "code",
    "id": "-dWDbvo0oQoX"
   },
   "outputs": [],
   "source": [
    "# Engineer generation column\n",
    "azdias['PRAEGENDE_JUGENDJAHRE_GEN'] = azdias['PRAEGENDE_JUGENDJAHRE'].apply(classify_generation)\n",
    "\n",
    "# Engineer movement column\n",
    "azdias['PRAEGENDE_JUGENDJAHRE_MOV'] = azdias['PRAEGENDE_JUGENDJAHRE'].apply(classify_movement)"
   ]
  },
  {
   "cell_type": "code",
   "execution_count": 0,
   "metadata": {
    "colab": {
     "base_uri": "https://localhost:8080/",
     "height": 390
    },
    "colab_type": "code",
    "id": "ECgelfK-nZqE",
    "outputId": "de911eab-adba-4fc1-c1f7-5ea2ccb7373e"
   },
   "outputs": [
    {
     "data": {
      "image/png": "[encoded data removed]",
      "text/plain": [
       "<Figure size 1440x432 with 2 Axes>"
      ]
     },
     "metadata": {
      "tags": []
     },
     "output_type": "display_data"
    }
   ],
   "source": [
    "#visualizing two new columns\n",
    "\n",
    "fig = plt.figure(figsize=(20, 6))\n",
    "\n",
    "ax1 = fig.add_subplot(121)\n",
    "azdias[\"PRAEGENDE_JUGENDJAHRE_GEN\"].hist(bins=10)\n",
    "ax1.title.set_text('PRAEGENDE_JUGENDJAHRE_GEN')\n",
    "\n",
    "ax2 = fig.add_subplot(122)\n",
    "azdias[\"PRAEGENDE_JUGENDJAHRE_MOV\"].hist()\n",
    "ax2.title.set_text('PRAEGENDE_JUGENDJAHRE_MOV')\n"
   ]
  },
  {
   "cell_type": "code",
   "execution_count": 0,
   "metadata": {
    "colab": {},
    "colab_type": "code",
    "id": "TWAg9HBRnw7N"
   },
   "outputs": [],
   "source": [
    "#drop originnal 'PRAEGENDE_JUGENDJAHRE' column\n",
    "azdias.drop('PRAEGENDE_JUGENDJAHRE', axis=1, inplace=True)"
   ]
  },
  {
   "cell_type": "code",
   "execution_count": 0,
   "metadata": {
    "colab": {
     "base_uri": "https://localhost:8080/",
     "height": 34
    },
    "colab_type": "code",
    "id": "6cxGWUPfn3E2",
    "outputId": "2298f8fc-fc80-4949-fb8c-9fa865717921"
   },
   "outputs": [
    {
     "data": {
      "text/plain": [
       "(785302, 351)"
      ]
     },
     "execution_count": 83,
     "metadata": {
      "tags": []
     },
     "output_type": "execute_result"
    }
   ],
   "source": [
    "azdias.shape"
   ]
  },
  {
   "cell_type": "markdown",
   "metadata": {},
   "source": [
    "#### Investigate 'LP_LEBENSPHASE_FEIN' and create two new ordinals features, one for life stage and other for scale"
   ]
  },
  {
   "cell_type": "code",
   "execution_count": 0,
   "metadata": {
    "colab": {},
    "colab_type": "code",
    "id": "bWDey8DvoQol"
   },
   "outputs": [],
   "source": [
    "\n",
    "\n",
    "\n",
    "#encoding life stages\n",
    "life_stage = {1: 'younger_age', 2: 'middle_age', 3: 'younger_age',\n",
    "              4: 'middle_age', 5: 'advanced_age', 6: 'retirement_age',\n",
    "              7: 'advanced_age', 8: 'retirement_age', 9: 'middle_age',\n",
    "              10: 'middle_age', 11: 'advanced_age', 12: 'retirement_age',\n",
    "              13: 'advanced_age', 14: 'younger_age', 15: 'advanced_age',\n",
    "              16: 'advanced_age', 17: 'middle_age', 18: 'younger_age',\n",
    "              19: 'advanced_age', 20: 'advanced_age', 21: 'middle_age',\n",
    "              22: 'middle_age', 23: 'middle_age', 24: 'middle_age',\n",
    "              25: 'middle_age', 26: 'middle_age', 27: 'middle_age',\n",
    "              28: 'middle_age', 29: 'younger_age', 30: 'younger_age',\n",
    "              31: 'advanced_age', 32: 'advanced_age', 33: 'younger_age',\n",
    "              34: 'younger_age', 35: 'younger_age', 36: 'advanced_age',\n",
    "              37: 'advanced_age', 38: 'retirement_age', 39: 'middle_age',\n",
    "              40: 'retirement_age'}\n",
    "\n",
    "#encoding fine scales\n",
    "scale = {1: 'low', 2: 'low', 3: 'average', 4: 'average', 5: 'low', 6: 'low',\n",
    "              7: 'average', 8: 'average', 9: 'average', 10: 'wealthy', 11: 'average',\n",
    "              12: 'average', 13: 'top', 14: 'average', 15: 'low', 16: 'average',\n",
    "              17: 'average', 18: 'wealthy', 19: 'wealthy', 20: 'top', 21: 'low',\n",
    "              22: 'average', 23: 'wealthy', 24: 'low', 25: 'average', 26: 'average',\n",
    "              27: 'average', 28: 'top', 29: 'low', 30: 'average', 31: 'low',\n",
    "              32: 'average', 33: 'average', 34: 'average', 35: 'top', 36: 'average',\n",
    "              37: 'average', 38: 'average', 39: 'top', 40: 'top'}\n",
    "\n",
    "\n",
    "\n"
   ]
  },
  {
   "cell_type": "code",
   "execution_count": 0,
   "metadata": {
    "colab": {},
    "colab_type": "code",
    "id": "lt4PS2Jj1HjD"
   },
   "outputs": [],
   "source": [
    "#mapping stages with codes\n",
    "azdias['LP_LEBENSPHASE_FEIN_STAGE'] = azdias['LP_LEBENSPHASE_FEIN'].map(life_stage)\n",
    "azdias['LP_LEBENSPHASE_FEIN_SCALE'] = azdias['LP_LEBENSPHASE_FEIN'].map(scale)\n",
    "\n",
    "\n",
    "\n",
    "#drop orginal 'LP_LEBENSPHASE_FEIN'\n",
    "azdias.drop('LP_LEBENSPHASE_FEIN', axis=1, inplace=True)"
   ]
  },
  {
   "cell_type": "code",
   "execution_count": 0,
   "metadata": {
    "colab": {},
    "colab_type": "code",
    "id": "ssFoLjblnhn5"
   },
   "outputs": [],
   "source": [
    "# Re-encode 'LP_LEBENSPHASE_FEIN_STAGE' and 'LP_LEBENSPHASE_FEIN_SCALE' as ordinal\n",
    "dict_life_stage = {'younger_age': 1, 'middle_age': 2, 'advanced_age': 3,\n",
    "            'retirement_age': 4}\n",
    "dict_scale = {'low': 1, 'average': 2, 'wealthy': 3, 'top': 4}"
   ]
  },
  {
   "cell_type": "code",
   "execution_count": 0,
   "metadata": {
    "colab": {},
    "colab_type": "code",
    "id": "ijK_LE1f1OtF"
   },
   "outputs": [],
   "source": [
    "#mapping values in columns with ordinal dictionaries\n",
    "azdias['LP_LEBENSPHASE_FEIN_STAGE'] = azdias['LP_LEBENSPHASE_FEIN_STAGE'].map(dict_life_stage)\n",
    "azdias['LP_LEBENSPHASE_FEIN_SCALE'] = azdias['LP_LEBENSPHASE_FEIN_SCALE'].map(dict_scale)"
   ]
  },
  {
   "cell_type": "code",
   "execution_count": 0,
   "metadata": {
    "colab": {
     "base_uri": "https://localhost:8080/",
     "height": 34
    },
    "colab_type": "code",
    "id": "WgoamNk8s-A7",
    "outputId": "58ffb0ec-6057-49d6-e426-e88b16fdd93e"
   },
   "outputs": [
    {
     "data": {
      "text/plain": [
       "(785302, 352)"
      ]
     },
     "execution_count": 88,
     "metadata": {
      "tags": []
     },
     "output_type": "execute_result"
    }
   ],
   "source": [
    "azdias.shape"
   ]
  },
  {
   "cell_type": "markdown",
   "metadata": {
    "colab": {},
    "colab_type": "code",
    "id": "pljMzwXtoQl6"
   },
   "source": [
    "### Imputing missing data\n",
    "#### strategy will be to impute missing data with the most occuring value as most of the data in the dataframe are either binary or ordinal imputing with mean or median wil introduce complications and missinterpretation"
   ]
  },
  {
   "cell_type": "code",
   "execution_count": 0,
   "metadata": {
    "colab": {},
    "colab_type": "code",
    "id": "ZINF868wgtpR"
   },
   "outputs": [],
   "source": [
    "#creating SimpleImputer object\n",
    "imputer = SimpleImputer(missing_values= np.nan , strategy= 'most_frequent')"
   ]
  },
  {
   "cell_type": "code",
   "execution_count": 0,
   "metadata": {
    "colab": {
     "base_uri": "https://localhost:8080/",
     "height": 34
    },
    "colab_type": "code",
    "id": "ync-icNEoQmi",
    "outputId": "f5a33f69-80d6-43e7-8813-0d16605481e4"
   },
   "outputs": [
    {
     "data": {
      "text/plain": [
       "12604"
      ]
     },
     "execution_count": 93,
     "metadata": {
      "tags": []
     },
     "output_type": "execute_result"
    }
   ],
   "source": [
    "gc.collect()"
   ]
  },
  {
   "cell_type": "code",
   "execution_count": null,
   "metadata": {},
   "outputs": [],
   "source": [
    "#imputing missing values in azdias dataframe\n",
    "azdias = pd.DataFrame(imputer.fit_transform(azdias.values), columns= azdias.columns)"
   ]
  },
  {
   "cell_type": "code",
   "execution_count": 0,
   "metadata": {
    "colab": {},
    "colab_type": "code",
    "id": "b4Jjqs3xEMnw"
   },
   "outputs": [],
   "source": [
    "#creating a new csv file for the imputed dataframe as the imputation was computationaly extensive\n",
    "#azdias.to_csv('/content/drive/My Drive/data capstone/mode_imputed_azdias.csv',sep=',', columns=azdias.columns)"
   ]
  },
  {
   "cell_type": "code",
   "execution_count": 0,
   "metadata": {
    "colab": {},
    "colab_type": "code",
    "id": "zPmuIY6hETeP"
   },
   "outputs": [],
   "source": [
    "#loading in saved imputed dataframe\n",
    "#azdias = pd.read_csv('/content/drive/My Drive/data capstone/mode_imputed_azdias.csv',sep=',')"
   ]
  },
  {
   "cell_type": "code",
   "execution_count": 0,
   "metadata": {
    "colab": {},
    "colab_type": "code",
    "id": "vGiI-KKYnjfA"
   },
   "outputs": [],
   "source": [
    "#create cleaning function\n",
    "\n",
    "def clean_data(df,feat_df,drop_rows=True):\n",
    "\n",
    "    #set the LNR column as the index as it has a unique value for each row and will not help in the analysis\n",
    "    df.set_index('LNR', inplace = True)\n",
    "\n",
    "    #replace unkown values with NaN\n",
    "    df = replace_unknown_with_nan(df, feat_df, 'Attribute', 'Value')\n",
    "\n",
    "    #drop columns with 30% missing values or more\n",
    "    df.drop(columns_to_drop, axis=1, inplace=True)\n",
    "    #drop rows with 25% missing values or more if specified\n",
    "    if drop_rows:\n",
    "        df.dropna(axis=0, thresh = 0.75 * df.shape[1], inplace=True)\n",
    "    \n",
    "    #replace str values in a numerical column with nan\n",
    "    df['CAMEO_DEUG_2015']= pd.to_numeric(df.CAMEO_DEUG_2015.astype(str).str.replace('.',''), errors='coerce')\n",
    "    df['CAMEO_INTL_2015'] = pd.to_numeric(df.CAMEO_INTL_2015.astype(str).str.replace('.',''), errors='coerce')\n",
    "\n",
    "    #Convert 'XX' values into NaN\n",
    "    df['CAMEO_DEU_2015']  = df['CAMEO_DEU_2015'].replace('XX',np.nan)\n",
    "    df.drop(columns = ['D19_LETZTER_KAUF_BRANCHE','EINGEFUEGT_AM'], inplace = True)\n",
    "\n",
    "    #re-ecnoding categorical column 'OST_WEST_KZ' to binary i.e [0,1]\n",
    "    df['OST_WEST_KZ'] = le.fit_transform(df['OST_WEST_KZ'].astype('str'))\n",
    "\n",
    "    #missing values have to be imputed before re-enconding as LabelEncoder will encode NaN values\n",
    "    #strategy will be imputing the NaN values with the most occuring value \n",
    "    df['CAMEO_DEU_2015'] = df['CAMEO_DEU_2015'].fillna(df['CAMEO_DEU_2015'].value_counts().index[0])\n",
    "\n",
    "    #encoding 'CAMEO_DEU_2015' into numbers instead of categories\n",
    "    df['CAMEO_DEU_2015'] = le.fit_transform(df['CAMEO_DEU_2015'].astype('str'))\n",
    "\n",
    "    #standardizing binary into 0,1\n",
    "    df['VERS_TYP'].replace([2.0, 1.0], [1, 0], inplace=True)\n",
    "    df['ANREDE_KZ'].replace([2, 1], [1, 0], inplace=True)\n",
    "\n",
    "    #removing redundancies\n",
    "    df.drop(['LP_STATUS_GROB' ,'LP_FAMILIE_GROB', 'LP_LEBENSPHASE_GROB', 'ALTERSKATEGORIE_FEIN'], axis=1, inplace=True)\n",
    "\n",
    "    #dropping ['GEBURTSJAHR'] column as contains around 40% missing values\n",
    "    df.drop('GEBURTSJAHR', axis=1, inplace=True)\n",
    "\n",
    "\n",
    "    #create new column for household\n",
    "    df['CAMEO_INTL_2015_household']= df['CAMEO_INTL_2015'].apply(classify_household)\n",
    "    #create new column for stage\n",
    "    df['CAMEO_INTL_2015_stage']= df['CAMEO_INTL_2015'].apply(classify_stage)\n",
    "    #drop orginal 'CAMEO_INTL_2015' column to evade multicollinearity \n",
    "    df.drop('CAMEO_INTL_2015', axis=1, inplace=True)\n",
    "\n",
    "    #Engineer generation column\n",
    "    df['PRAEGENDE_JUGENDJAHRE_GEN'] = df['PRAEGENDE_JUGENDJAHRE'].apply(classify_generation)\n",
    "    #Engineer movement column\n",
    "    df['PRAEGENDE_JUGENDJAHRE_MOV'] = df['PRAEGENDE_JUGENDJAHRE'].apply(classify_movement)  \n",
    "    #drop originnal 'PRAEGENDE_JUGENDJAHRE' column\n",
    "    df.drop('PRAEGENDE_JUGENDJAHRE', axis=1, inplace=True)\n",
    "\n",
    "    #mapping stages with codes\n",
    "    df['LP_LEBENSPHASE_FEIN_STAGE'] = df['LP_LEBENSPHASE_FEIN'].map(life_stage)\n",
    "    df['LP_LEBENSPHASE_FEIN_SCALE'] = df['LP_LEBENSPHASE_FEIN'].map(scale)\n",
    "    # Re-encode 'LP_LEBENSPHASE_FEIN_STAGE' and 'LP_LEBENSPHASE_FEIN_SCALE' as ordinal\n",
    "    df['LP_LEBENSPHASE_FEIN_STAGE'] = df['LP_LEBENSPHASE_FEIN_STAGE'].map(dict_life_stage)\n",
    "    df['LP_LEBENSPHASE_FEIN_SCALE'] = df['LP_LEBENSPHASE_FEIN_SCALE'].map(dict_scale)\n",
    "    #drop orginal 'LP_LEBENSPHASE_FEIN'\n",
    "    df.drop('LP_LEBENSPHASE_FEIN', axis=1, inplace=True)\n",
    "\n",
    "    #creating a dataframe of the imputed data\n",
    "    df = pd.DataFrame(imputer.fit_transform(df.values), columns = df.columns)\n",
    "    \n",
    "\n",
    "    return df\n"
   ]
  },
  {
   "cell_type": "code",
   "execution_count": 0,
   "metadata": {
    "colab": {},
    "colab_type": "code",
    "id": "DM3cLTw7xVKk"
   },
   "outputs": [],
   "source": [
    "#testing cleaning function\n",
    "\n",
    "# load in original raw data\n",
    "azdias = pd.read_csv('/content/drive/My Drive/data capstone/Udacity_AZDIAS_052018.csv', sep=';', low_memory=False)"
   ]
  },
  {
   "cell_type": "code",
   "execution_count": 0,
   "metadata": {
    "colab": {},
    "colab_type": "code",
    "id": "add3_cAO_SkV"
   },
   "outputs": [],
   "source": [
    "#applying cleaning function \n",
    "clean_azdias= clean_data(azdias, feat_info)"
   ]
  },
  {
   "cell_type": "code",
   "execution_count": 0,
   "metadata": {
    "colab": {
     "base_uri": "https://localhost:8080/",
     "height": 105
    },
    "colab_type": "code",
    "id": "rUkDZT2gAXHM",
    "outputId": "57ebc73a-27a8-4377-bf72-248c0bc1177a"
   },
   "outputs": [
    {
     "name": "stdout",
     "output_type": "stream",
     "text": [
      "<class 'pandas.core.frame.DataFrame'>\n",
      "RangeIndex: 785302 entries, 0 to 785301\n",
      "Columns: 352 entries, AKT_DAT_KL to LP_LEBENSPHASE_FEIN_SCALE\n",
      "dtypes: float64(352)\n",
      "memory usage: 2.1 GB\n"
     ]
    }
   ],
   "source": [
    "clean_azdias.info()"
   ]
  },
  {
   "cell_type": "code",
   "execution_count": 0,
   "metadata": {
    "colab": {
     "base_uri": "https://localhost:8080/",
     "height": 34
    },
    "colab_type": "code",
    "id": "QytiXEreCLoo",
    "outputId": "869f434c-c038-4d5b-9461-560708caeaa8"
   },
   "outputs": [
    {
     "data": {
      "text/plain": [
       "22"
      ]
     },
     "execution_count": 101,
     "metadata": {
      "tags": []
     },
     "output_type": "execute_result"
    }
   ],
   "source": [
    "#clean memory\n",
    "del azdias\n",
    "gc.collect()"
   ]
  },
  {
   "cell_type": "markdown",
   "metadata": {
    "colab": {},
    "colab_type": "code",
    "id": "l9vheLlyoQpv"
   },
   "source": [
    "### Data scaling"
   ]
  },
  {
   "cell_type": "code",
   "execution_count": 0,
   "metadata": {
    "colab": {},
    "colab_type": "code",
    "id": "lLrIMt4hgtrL"
   },
   "outputs": [],
   "source": [
    "#Robustscaler was chosen as it deals well with outliers\n",
    "\n",
    "scaler = RobustScaler()"
   ]
  },
  {
   "cell_type": "code",
   "execution_count": 0,
   "metadata": {
    "colab": {},
    "colab_type": "code",
    "id": "eNFykqJsoQqe"
   },
   "outputs": [],
   "source": [
    "# scaling data and fitting to dataframe\n",
    "scaled_azdias = pd.DataFrame(scaler.fit_transform(clean_azdias.values),\n",
    "                          columns=clean_azdias.columns)"
   ]
  },
  {
   "cell_type": "code",
   "execution_count": 0,
   "metadata": {
    "colab": {
     "base_uri": "https://localhost:8080/",
     "height": 34
    },
    "colab_type": "code",
    "id": "s31OGXwVCP1o",
    "outputId": "fdc97d4a-335e-4e61-cb7a-f0c27bbb7920"
   },
   "outputs": [
    {
     "data": {
      "text/plain": [
       "0"
      ]
     },
     "execution_count": 106,
     "metadata": {
      "tags": []
     },
     "output_type": "execute_result"
    }
   ],
   "source": [
    "del clean_azdias\n",
    "gc.collect()"
   ]
  },
  {
   "cell_type": "markdown",
   "metadata": {},
   "source": [
    "### Dimensionality Reduction"
   ]
  },
  {
   "cell_type": "code",
   "execution_count": 0,
   "metadata": {
    "colab": {},
    "colab_type": "code",
    "id": "daNVR4P1gtrY"
   },
   "outputs": [],
   "source": [
    "#creating PCA object\n",
    "pca = PCA()\n",
    "\n",
    "#applying PCA and transforming dataframe\n",
    "azdias_pca = pca.fit_transform(scaled_azdias)"
   ]
  },
  {
   "cell_type": "code",
   "execution_count": 0,
   "metadata": {
    "colab": {},
    "colab_type": "code",
    "id": "JNiUZtSboQrL"
   },
   "outputs": [],
   "source": [
    "#create scree plot to visualize variance in data\n",
    "\n",
    "def scree_plot(pca):\n",
    "    '''\n",
    "    Creates a scree plot associated with the principal components\n",
    "    \n",
    "    INPUT:\n",
    "        pca - result of PCA on the dataframe\n",
    "            \n",
    "    OUTPUT:\n",
    "        None\n",
    "    '''\n",
    "    num_components = len(pca.explained_variance_ratio_)\n",
    "    ind = np.arange(num_components)\n",
    "    vals = pca.explained_variance_ratio_\n",
    " \n",
    "    plt.figure(figsize=(16, 10))\n",
    "    ax = plt.subplot(111)\n",
    "    cumvals = np.cumsum(vals)\n",
    "    ax.bar(ind, vals)\n",
    "    ax.plot(ind, cumvals)\n",
    "    for i in range(num_components):\n",
    "        ax.annotate(r\"%s%%\" % ((str(vals[i]*100)[:4])), (ind[i]+0.2, vals[i]),\n",
    "                    va=\"bottom\", ha=\"center\", fontsize=12)\n",
    " \n",
    "    ax.xaxis.set_tick_params(width=0)\n",
    "    ax.yaxis.set_tick_params(width=2, length=12)\n",
    " \n",
    "    ax.set_xlabel(\"Principal Component\")\n",
    "    ax.set_ylabel(\"Variance Explained (%)\")\n",
    "    plt.title('Explained Variance Per Principal Component')"
   ]
  },
  {
   "cell_type": "code",
   "execution_count": 0,
   "metadata": {
    "colab": {
     "base_uri": "https://localhost:8080/",
     "height": 621
    },
    "colab_type": "code",
    "id": "Q3-qMCAMOutW",
    "outputId": "e77cd011-a659-447d-92e8-33c2712c5c94"
   },
   "outputs": [
    {
     "data": {
      "image/png": "[encoded data removed]",
      "text/plain": [
       "<Figure size 1152x720 with 1 Axes>"
      ]
     },
     "metadata": {
      "tags": []
     },
     "output_type": "display_data"
    }
   ],
   "source": [
    "## Investigate the variance\n",
    "scree_plot(pca)"
   ]
  },
  {
   "cell_type": "code",
   "execution_count": 0,
   "metadata": {
    "colab": {
     "base_uri": "https://localhost:8080/",
     "height": 283
    },
    "colab_type": "code",
    "id": "4TnLJDCVPdXw",
    "outputId": "256bb2a0-17a7-4a60-8757-ea69a85be7be"
   },
   "outputs": [
    {
     "name": "stdout",
     "output_type": "stream",
     "text": [
      "10 components explain 0.3634786012831484 of variance.\n",
      "20 components explain 0.4950193071500208 of variance.\n",
      "30 components explain 0.5912295405055974 of variance.\n",
      "40 components explain 0.6646059341342521 of variance.\n",
      "50 components explain 0.7219406888375272 of variance.\n",
      "60 components explain 0.7680312603388463 of variance.\n",
      "70 components explain 0.8059399829782563 of variance.\n",
      "80 components explain 0.8356532932791838 of variance.\n",
      "90 components explain 0.859074212908534 of variance.\n",
      "100 components explain 0.8782656082774222 of variance.\n",
      "110 components explain 0.8943102576676499 of variance.\n",
      "120 components explain 0.9078097488522909 of variance.\n",
      "130 components explain 0.9193271630108535 of variance.\n",
      "140 components explain 0.929455158703063 of variance.\n",
      "150 components explain 0.938297454458408 of variance.\n"
     ]
    }
   ],
   "source": [
    "for i in np.arange(10, 151, 10):\n",
    "    print('{} components explain {} of variance.'.format(i, pca.explained_variance_ratio_[:i].sum()))"
   ]
  },
  {
   "cell_type": "code",
   "execution_count": 0,
   "metadata": {
    "colab": {
     "base_uri": "https://localhost:8080/",
     "height": 34
    },
    "colab_type": "code",
    "id": "KjHs03mQR1-P",
    "outputId": "391fd7cf-8da7-49ae-dc2b-3ff07e87ef30"
   },
   "outputs": [
    {
     "name": "stdout",
     "output_type": "stream",
     "text": [
      "150 components explain 0.9012719012572511 of variance.\n"
     ]
    }
   ],
   "source": [
    "print('{} components explain {} of variance.'.format(i, pca.explained_variance_ratio_[:115].sum()))"
   ]
  },
  {
   "cell_type": "markdown",
   "metadata": {},
   "source": [
    "#### selected 90 components which captures almost 86% of variance"
   ]
  },
  {
   "cell_type": "code",
   "execution_count": 0,
   "metadata": {
    "colab": {},
    "colab_type": "code",
    "id": "o5cimEwSROh3"
   },
   "outputs": [],
   "source": [
    "#re-do the pca process with the newly selected number of components\n",
    "pca = PCA(n_components=90)\n",
    "\n",
    "#applying pca to dataframe\n",
    "azdias_pca = pca.fit_transform(scaled_azdias)"
   ]
  },
  {
   "cell_type": "markdown",
   "metadata": {},
   "source": [
    "### Apply same steps to Customer data "
   ]
  },
  {
   "cell_type": "code",
   "execution_count": 0,
   "metadata": {
    "colab": {},
    "colab_type": "code",
    "id": "r6mcGm6sgW19"
   },
   "outputs": [],
   "source": [
    "#load in customers data\n",
    "customers = pd.read_csv('/content/drive/My Drive/data capstone/Udacity_CUSTOMERS_052018.csv', sep=';', low_memory=False)\n",
    "customers.head()"
   ]
  },
  {
   "cell_type": "code",
   "execution_count": 0,
   "metadata": {
    "colab": {},
    "colab_type": "code",
    "id": "-SBAJM9GgWmp"
   },
   "outputs": [],
   "source": [
    "customers.shape"
   ]
  },
  {
   "cell_type": "code",
   "execution_count": 0,
   "metadata": {
    "colab": {},
    "colab_type": "code",
    "id": "RQRorBEl4sKd"
   },
   "outputs": [],
   "source": [
    "#save and drop the extra columns not in azdias dataframe\n",
    "extra_columns = customers[['PRODUCT_GROUP','CUSTOMER_GROUP','ONLINE_PURCHASE']]\n",
    "customers.drop(extra_columns,axis=1, inplace=True)"
   ]
  },
  {
   "cell_type": "code",
   "execution_count": 0,
   "metadata": {
    "colab": {},
    "colab_type": "code",
    "id": "i4JIeTKd5XXM"
   },
   "outputs": [],
   "source": [
    "customers.shape"
   ]
  },
  {
   "cell_type": "code",
   "execution_count": 0,
   "metadata": {
    "colab": {},
    "colab_type": "code",
    "id": "dPydMg0KgWen"
   },
   "outputs": [],
   "source": [
    "#clean customers dataframe\n",
    "clean_customers= clean_data(customers, feat_info)"
   ]
  },
  {
   "cell_type": "code",
   "execution_count": 0,
   "metadata": {
    "colab": {},
    "colab_type": "code",
    "id": "hCP6o9L92stm"
   },
   "outputs": [],
   "source": [
    "clean_customers.shape"
   ]
  },
  {
   "cell_type": "code",
   "execution_count": 0,
   "metadata": {
    "colab": {},
    "colab_type": "code",
    "id": "u3QkIqTAPDDm"
   },
   "outputs": [],
   "source": [
    "#storing clean_customers dataframe to be reused later\n",
    "\n",
    "#clean_customers.to_csv('/content/drive/My Drive/data capstone/uncorr_clean_customers.csv',sep=',', columns=clean_customers.columns)"
   ]
  },
  {
   "cell_type": "code",
   "execution_count": 0,
   "metadata": {
    "colab": {},
    "colab_type": "code",
    "id": "wqefeMHfgWFO"
   },
   "outputs": [],
   "source": [
    "#scale customers values\n",
    "scaled_customers= pd.DataFrame(scaler.transform(clean_customers.values), columns= clean_customers.columns)"
   ]
  },
  {
   "cell_type": "code",
   "execution_count": 0,
   "metadata": {
    "colab": {},
    "colab_type": "code",
    "id": "v52y3S1AHqgQ"
   },
   "outputs": [],
   "source": [
    "#apply pca \n",
    "customer_pca = pca.transform(scaled_customers)"
   ]
  },
  {
   "cell_type": "markdown",
   "metadata": {
    "colab_type": "text",
    "id": "Kv0FU3Dtgtrr"
   },
   "source": [
    "## Part 1: Customer Segmentation Report\n",
    "\n",
    "The main bulk of your analysis will come in this part of the project. Here, you should use unsupervised learning techniques to describe the relationship between the demographics of the company's existing customers and the general population of Germany. By the end of this part, you should be able to describe parts of the general population that are more likely to be part of the mail-order company's main customer base, and which parts of the general population are less so."
   ]
  },
  {
   "cell_type": "markdown",
   "metadata": {
    "colab": {},
    "colab_type": "code",
    "id": "5P_QC2yoZSxV"
   },
   "source": [
    "### Clustering and segmentation\n",
    "\n",
    "#### Two clustering algorithims(Kmeans, GaussianMixtureModel) will be used and compared and best performance will be chosen"
   ]
  },
  {
   "cell_type": "markdown",
   "metadata": {},
   "source": [
    "### Apply Kmeans"
   ]
  },
  {
   "cell_type": "code",
   "execution_count": 0,
   "metadata": {
    "colab": {},
    "colab_type": "code",
    "id": "bMQzqOTSgtru"
   },
   "outputs": [],
   "source": [
    "# Compute the average within-cluster distances.\n",
    "\n",
    "\n",
    "def get_kmeans_score(data, center):\n",
    "    '''\n",
    "    returns the kmeans score regarding SSE for points to centers\n",
    "    INPUT:\n",
    "        data - the dataset you want to fit kmeans to\n",
    "        center - the number of centers you want (the k value)\n",
    "    OUTPUT:\n",
    "        score - the SSE score for the kmeans model fit to the data\n",
    "    '''\n",
    "    # instantiate kmeans\n",
    "    kmeans = KMeans(n_clusters=center, random_state=42, n_jobs=-1)\n",
    "\n",
    "    # Then fit the model to your data using the fit method\n",
    "    model = kmeans.fit(data)\n",
    "    \n",
    "    # Obtain a score related to the model fit\n",
    "    score = np.abs(model.score(data))\n",
    "    \n",
    "    return score"
   ]
  },
  {
   "cell_type": "code",
   "execution_count": 0,
   "metadata": {
    "colab": {
     "base_uri": "https://localhost:8080/",
     "height": 34
    },
    "colab_type": "code",
    "id": "vMXFeNo5eAjq",
    "outputId": "b96a8668-8344-4071-df27-f689b1a2ff44"
   },
   "outputs": [
    {
     "data": {
      "text/plain": [
       "28586"
      ]
     },
     "execution_count": 125,
     "metadata": {
      "tags": []
     },
     "output_type": "execute_result"
    }
   ],
   "source": [
    "gc.collect()"
   ]
  },
  {
   "cell_type": "code",
   "execution_count": 0,
   "metadata": {
    "colab": {},
    "colab_type": "code",
    "id": "-jt5-0aCZJPa"
   },
   "outputs": [],
   "source": [
    "# Apply the elbow method\n",
    "score_list = []\n",
    "centers = np.arange(2, 15, 1)\n",
    "\n",
    "\n",
    "for center in centers: \n",
    "    # Append score to score_list\n",
    "    score_list.append(get_kmeans_score(azdias_pca, center))"
   ]
  },
  {
   "cell_type": "code",
   "execution_count": 0,
   "metadata": {
    "colab": {
     "base_uri": "https://localhost:8080/",
     "height": 660
    },
    "colab_type": "code",
    "id": "EGuduJoyZORn",
    "outputId": "bef9ecb4-cbd9-43d3-da89-2c07cca84115"
   },
   "outputs": [
    {
     "data": {
      "image/png": "[encoded data removed]",
      "text/plain": [
       "<Figure size 864x720 with 1 Axes>"
      ]
     },
     "metadata": {
      "tags": []
     },
     "output_type": "display_data"
    }
   ],
   "source": [
    "#create a figure for visualization \n",
    "plt.figure(figsize=(12, 10)) \n",
    "plt.plot(centers, score_list, linestyle='--', marker='o', color='b');\n",
    "plt.xlabel('K', fontsize=20)\n",
    "plt.ylabel('SSE', fontsize=20)\n",
    "plt.title('SSE vs. K', fontsize=20)\n",
    "plt.show()"
   ]
  },
  {
   "cell_type": "code",
   "execution_count": 0,
   "metadata": {
    "colab": {
     "base_uri": "https://localhost:8080/",
     "height": 70
    },
    "colab_type": "code",
    "id": "81YfKFvAdxjT",
    "outputId": "f97b15d1-8603-409c-f25e-bbf075f4ebbc"
   },
   "outputs": [
    {
     "data": {
      "text/plain": [
       "KMeans(algorithm='auto', copy_x=True, init='k-means++', max_iter=300,\n",
       "       n_clusters=6, n_init=10, n_jobs=-1, precompute_distances='auto',\n",
       "       random_state=42, tol=0.0001, verbose=0)"
      ]
     },
     "execution_count": 58,
     "metadata": {
      "tags": []
     },
     "output_type": "execute_result"
    }
   ],
   "source": [
    "#using elbow rule k = 8 was chosen \n",
    "\n",
    "\n",
    "# importing pickle library so we could store our model for later\n",
    "\n",
    "\n",
    "#creating new kmeans model with k=8\n",
    "km_model = KMeans(n_clusters=6, random_state=42, n_jobs=-1)\n",
    "\n",
    "\n",
    "#fitting kmeans model to the azdias_pca\n",
    "km_model.fit(azdias_pca)\n",
    "\n"
   ]
  },
  {
   "cell_type": "code",
   "execution_count": 0,
   "metadata": {
    "colab": {},
    "colab_type": "code",
    "id": "49jNO74Jtsut"
   },
   "outputs": [],
   "source": [
    "#creating dump file for model as computation was extensinve\n",
    "filename_km = '/content/drive/My Drive/data capstone/kmeans_model.sav'\n",
    "#pickle.dump(km_model, open(filename_km, 'wb'))"
   ]
  },
  {
   "cell_type": "code",
   "execution_count": 0,
   "metadata": {
    "colab": {},
    "colab_type": "code",
    "id": "JAmcJBhZt4f8"
   },
   "outputs": [],
   "source": [
    "#predicting clusters\n",
    "km_azdias = km_model.predict(azdias_pca)"
   ]
  },
  {
   "cell_type": "code",
   "execution_count": 0,
   "metadata": {
    "colab": {},
    "colab_type": "code",
    "id": "08L1dnwMhYV9"
   },
   "outputs": [],
   "source": [
    "#loading in kmeans_model\n",
    "filename_km = '/content/drive/My Drive/data capstone/kmeans_model.sav'\n",
    "loaded_km_model = pickle.load(open(filename_km, 'rb'))"
   ]
  },
  {
   "cell_type": "code",
   "execution_count": 0,
   "metadata": {
    "colab": {},
    "colab_type": "code",
    "id": "7M5otE4QClnp"
   },
   "outputs": [],
   "source": [
    "#predict based on loaded km model\n",
    "km_azdias = loaded_km_model.predict(azdias_pca)"
   ]
  },
  {
   "cell_type": "code",
   "execution_count": 0,
   "metadata": {
    "colab": {},
    "colab_type": "code",
    "id": "_s_lEhiKBlxt"
   },
   "outputs": [],
   "source": [
    "#creating silhouette_score and fitting it to predicted kmeans model\n",
    "sil_score_km = silhouette_score(azdias_pca, km_azdias)"
   ]
  },
  {
   "cell_type": "code",
   "execution_count": 0,
   "metadata": {
    "colab": {
     "base_uri": "https://localhost:8080/",
     "height": 34
    },
    "colab_type": "code",
    "id": "bMF_385wHah7",
    "outputId": "0762a3dd-b572-4fc4-809b-3392b2f95f70"
   },
   "outputs": [
    {
     "data": {
      "text/plain": [
       "0.03296471132873044"
      ]
     },
     "execution_count": 123,
     "metadata": {
      "tags": []
     },
     "output_type": "execute_result"
    }
   ],
   "source": [
    "sil_score_km"
   ]
  },
  {
   "cell_type": "markdown",
   "metadata": {
    "colab": {},
    "colab_type": "code",
    "id": "FRqIavg8L7Dj"
   },
   "source": [
    "### Apply GMM"
   ]
  },
  {
   "cell_type": "code",
   "execution_count": 0,
   "metadata": {
    "colab": {},
    "colab_type": "code",
    "id": "uCq8WaVLRBLo"
   },
   "outputs": [],
   "source": [
    "# Compute the average within-cluster distances.\n",
    "\n",
    "\n",
    "def get_gmm_score(data, center):\n",
    "    '''\n",
    "    returns the gmm score regarding SSE for points to centers\n",
    "    INPUT:\n",
    "        data - the dataset you want to fit gmm to\n",
    "        center - the number of centers you want (the component value)\n",
    "    OUTPUT:\n",
    "        score - the SSE score for the kmeans model fit to the data\n",
    "    '''\n",
    "    # instantiate gmm\n",
    "    gmm = GaussianMixture(n_components=center, random_state=42)\n",
    "\n",
    "    # Then fit the model to your data using the fit method\n",
    "    model_gmm = gmm.fit(data)\n",
    "    \n",
    "    # Obtain a score related to the model fit\n",
    "    score = np.abs(model_gmm.score(data))\n",
    "    \n",
    "    return score"
   ]
  },
  {
   "cell_type": "code",
   "execution_count": 0,
   "metadata": {
    "colab": {
     "base_uri": "https://localhost:8080/",
     "height": 34
    },
    "colab_type": "code",
    "id": "iTuwuKSHRBL8",
    "outputId": "46e3ea05-af63-486a-c79d-9a5e75cd5552"
   },
   "outputs": [
    {
     "data": {
      "text/plain": [
       "140"
      ]
     },
     "execution_count": 120,
     "metadata": {
      "tags": []
     },
     "output_type": "execute_result"
    }
   ],
   "source": [
    "gc.collect()"
   ]
  },
  {
   "cell_type": "code",
   "execution_count": 0,
   "metadata": {
    "colab": {},
    "colab_type": "code",
    "id": "68P9esgrRBMI"
   },
   "outputs": [],
   "source": [
    "# Apply the elbow method\n",
    "score_list_gmm = []\n",
    "centers = np.arange(2, 11, 1)\n",
    "\n",
    "\n",
    "for center in centers:\n",
    "    # Append score to score_list\n",
    "    score_list_gmm.append(get_gmm_score(azdias_pca, center))"
   ]
  },
  {
   "cell_type": "code",
   "execution_count": 0,
   "metadata": {
    "colab": {
     "base_uri": "https://localhost:8080/",
     "height": 635
    },
    "colab_type": "code",
    "id": "2Xq2AE4IS66v",
    "outputId": "d40fb421-8d72-4a4e-c5df-4981377b34d0"
   },
   "outputs": [
    {
     "data": {
      "image/png": "[encoded data removed]",
      "text/plain": [
       "<Figure size 864x720 with 1 Axes>"
      ]
     },
     "metadata": {
      "tags": []
     },
     "output_type": "display_data"
    }
   ],
   "source": [
    "#create a figure for visualization \n",
    "plt.figure(figsize=(12, 10)) \n",
    "plt.plot(centers, score_list_gmm, linestyle='--', marker='o', color='b');\n",
    "plt.xlabel('component', fontsize=20)\n",
    "plt.ylabel('SSE', fontsize=20)\n",
    "plt.title('SSE vs. component', fontsize=20)\n",
    "plt.show()"
   ]
  },
  {
   "cell_type": "code",
   "execution_count": 0,
   "metadata": {
    "colab": {
     "base_uri": "https://localhost:8080/",
     "height": 176
    },
    "colab_type": "code",
    "id": "FL_GdvKNo_fl",
    "outputId": "6998dab3-e76d-4ab4-978e-1e862122174a"
   },
   "outputs": [
    {
     "data": {
      "text/plain": [
       "[123.65831362844762,\n",
       " 119.28943017322273,\n",
       " 102.62361975987397,\n",
       " 102.86692567828132,\n",
       " 102.4987157552235,\n",
       " 98.96967491422197,\n",
       " 94.94350365473056,\n",
       " 89.5767014511588,\n",
       " 88.75961816820413]"
      ]
     },
     "execution_count": 126,
     "metadata": {
      "tags": []
     },
     "output_type": "execute_result"
    }
   ],
   "source": [
    "score_list_gmm"
   ]
  },
  {
   "cell_type": "markdown",
   "metadata": {
    "colab": {},
    "colab_type": "code",
    "id": "mNb_igWOL62A"
   },
   "source": [
    "#### as shown above , gmm has significantly less SSE error than the KMeans algorithim\n"
   ]
  },
  {
   "cell_type": "code",
   "execution_count": 0,
   "metadata": {
    "colab": {
     "base_uri": "https://localhost:8080/",
     "height": 87
    },
    "colab_type": "code",
    "id": "lfe-smaTmL8-",
    "outputId": "20e9be77-057f-43c6-acb9-896b57ea9ca4"
   },
   "outputs": [
    {
     "data": {
      "text/plain": [
       "GaussianMixture(covariance_type='full', init_params='kmeans', max_iter=100,\n",
       "                means_init=None, n_components=9, n_init=1, precisions_init=None,\n",
       "                random_state=42, reg_covar=1e-06, tol=0.001, verbose=0,\n",
       "                verbose_interval=10, warm_start=False, weights_init=None)"
      ]
     },
     "execution_count": 124,
     "metadata": {
      "tags": []
     },
     "output_type": "execute_result"
    }
   ],
   "source": [
    "#using elbow rule components = 9 was chosen \n",
    "\n",
    "#creating new gmm model with components =8\n",
    "gmm_model = GaussianMixture(n_components=9, random_state=42)\n",
    "\n",
    "\n",
    "#fitting kmeans model to the azdias_pca\n",
    "gmm_model.fit(azdias_pca)\n",
    "\n"
   ]
  },
  {
   "cell_type": "code",
   "execution_count": 0,
   "metadata": {
    "colab": {},
    "colab_type": "code",
    "id": "UhSQH9m_mL9W"
   },
   "outputs": [],
   "source": [
    "\n",
    "#creating dump file with\n",
    "filename_gmm = '/content/drive/My Drive/data capstone/gmm_model.sav'\n",
    "pickle.dump(gmm_model, open(filename_gmm, 'wb'))"
   ]
  },
  {
   "cell_type": "code",
   "execution_count": 0,
   "metadata": {
    "colab": {},
    "colab_type": "code",
    "id": "yG-aeJRkmL9v"
   },
   "outputs": [],
   "source": [
    "#import pickle\n",
    "#loading in kmeans_model\n",
    "#loaded_km_model = pickle.load(open(filename_km, 'rb'))"
   ]
  },
  {
   "cell_type": "code",
   "execution_count": 0,
   "metadata": {
    "colab": {},
    "colab_type": "code",
    "id": "FH2311c_mL9h"
   },
   "outputs": [],
   "source": [
    "#predicting clusters\n",
    "gmm_azdias = gmm_model.predict(azdias_pca)"
   ]
  },
  {
   "cell_type": "code",
   "execution_count": 0,
   "metadata": {
    "colab": {
     "base_uri": "https://localhost:8080/",
     "height": 34
    },
    "colab_type": "code",
    "id": "3eXC9qeOBVWH",
    "outputId": "88725e97-a8bd-4b86-8d34-9ee857cb1525"
   },
   "outputs": [
    {
     "data": {
      "text/plain": [
       "-0.012259899793620615"
      ]
     },
     "execution_count": 142,
     "metadata": {
      "tags": []
     },
     "output_type": "execute_result"
    }
   ],
   "source": [
    "sil_Score_gmm_az= silhouette_score(azdias_pca, gmm_azdias)\n",
    "sil_Score_gmm_az"
   ]
  },
  {
   "cell_type": "markdown",
   "metadata": {
    "colab": {},
    "colab_type": "code",
    "id": "tktHVi_HCM7n"
   },
   "source": [
    "##### as shown abve difference of both models doesn't exceed 0.04 in silhouette score in favor of Kmeans model \n",
    "##### therefore model with the lower SSE will be chosen(GMM)"
   ]
  },
  {
   "cell_type": "code",
   "execution_count": 0,
   "metadata": {
    "colab": {
     "base_uri": "https://localhost:8080/",
     "height": 317
    },
    "colab_type": "code",
    "id": "-pa1wtdGL6ik",
    "outputId": "9e787c61-d285-41f9-d2a4-cba2a1f78961"
   },
   "outputs": [
    {
     "data": {
      "text/html": [
       "<div>\n",
       "<style scoped>\n",
       "    .dataframe tbody tr th:only-of-type {\n",
       "        vertical-align: middle;\n",
       "    }\n",
       "\n",
       "    .dataframe tbody tr th {\n",
       "        vertical-align: top;\n",
       "    }\n",
       "\n",
       "    .dataframe thead th {\n",
       "        text-align: right;\n",
       "    }\n",
       "</style>\n",
       "<table border=\"1\" class=\"dataframe\">\n",
       "  <thead>\n",
       "    <tr style=\"text-align: right;\">\n",
       "      <th></th>\n",
       "      <th>cluster</th>\n",
       "      <th>% of data</th>\n",
       "      <th>data</th>\n",
       "    </tr>\n",
       "  </thead>\n",
       "  <tbody>\n",
       "    <tr>\n",
       "      <th>0</th>\n",
       "      <td>2</td>\n",
       "      <td>33.865698</td>\n",
       "      <td>azdias</td>\n",
       "    </tr>\n",
       "    <tr>\n",
       "      <th>1</th>\n",
       "      <td>7</td>\n",
       "      <td>12.942537</td>\n",
       "      <td>azdias</td>\n",
       "    </tr>\n",
       "    <tr>\n",
       "      <th>2</th>\n",
       "      <td>0</td>\n",
       "      <td>12.055871</td>\n",
       "      <td>azdias</td>\n",
       "    </tr>\n",
       "    <tr>\n",
       "      <th>3</th>\n",
       "      <td>4</td>\n",
       "      <td>10.536583</td>\n",
       "      <td>azdias</td>\n",
       "    </tr>\n",
       "    <tr>\n",
       "      <th>4</th>\n",
       "      <td>8</td>\n",
       "      <td>8.277452</td>\n",
       "      <td>azdias</td>\n",
       "    </tr>\n",
       "    <tr>\n",
       "      <th>5</th>\n",
       "      <td>1</td>\n",
       "      <td>7.523730</td>\n",
       "      <td>azdias</td>\n",
       "    </tr>\n",
       "    <tr>\n",
       "      <th>6</th>\n",
       "      <td>3</td>\n",
       "      <td>6.744412</td>\n",
       "      <td>azdias</td>\n",
       "    </tr>\n",
       "    <tr>\n",
       "      <th>7</th>\n",
       "      <td>6</td>\n",
       "      <td>6.415112</td>\n",
       "      <td>azdias</td>\n",
       "    </tr>\n",
       "    <tr>\n",
       "      <th>8</th>\n",
       "      <td>5</td>\n",
       "      <td>1.638605</td>\n",
       "      <td>azdias</td>\n",
       "    </tr>\n",
       "  </tbody>\n",
       "</table>\n",
       "</div>"
      ],
      "text/plain": [
       "   cluster  % of data    data\n",
       "0        2  33.865698  azdias\n",
       "1        7  12.942537  azdias\n",
       "2        0  12.055871  azdias\n",
       "3        4  10.536583  azdias\n",
       "4        8   8.277452  azdias\n",
       "5        1   7.523730  azdias\n",
       "6        3   6.744412  azdias\n",
       "7        6   6.415112  azdias\n",
       "8        5   1.638605  azdias"
      ]
     },
     "execution_count": 129,
     "metadata": {
      "tags": []
     },
     "output_type": "execute_result"
    }
   ],
   "source": [
    "#creating Dataframe analyzing percentage of population in each cluster\n",
    "\n",
    "#creating a series out of the labeled azdias gmm model\n",
    "comp_count = pd.Series(gmm_azdias).value_counts()\n",
    "\n",
    "#create a dataframe of percentage of population in each cluster \n",
    "comp_azdias = pd.DataFrame({'cluster': comp_count.index,\n",
    "                           '% of data': 100*comp_count.values/len(gmm_azdias)})\n",
    "\n",
    "#adding a new column indicating the data belongs to azdias data\n",
    "comp_azdias['data'] = 'azdias'\n",
    "\n",
    "\n",
    "comp_azdias"
   ]
  },
  {
   "cell_type": "markdown",
   "metadata": {
    "colab": {},
    "colab_type": "code",
    "id": "4P6479d5L6SG"
   },
   "source": [
    "#### as shown above , little under 60% of the population are in cluster 0,2 and 7"
   ]
  },
  {
   "cell_type": "code",
   "execution_count": 0,
   "metadata": {
    "colab": {},
    "colab_type": "code",
    "id": "ICHASszYL6By"
   },
   "outputs": [],
   "source": [
    "#attempt same steps to customers data\n",
    "gmm_customer= gmm_model.predict(customer_pca)"
   ]
  },
  {
   "cell_type": "code",
   "execution_count": 0,
   "metadata": {
    "colab": {
     "base_uri": "https://localhost:8080/",
     "height": 287
    },
    "colab_type": "code",
    "id": "CX6KFf5KJfJq",
    "outputId": "9ac3012c-7f0e-4708-c5f7-6d7f1cab8acd"
   },
   "outputs": [
    {
     "data": {
      "text/html": [
       "<div>\n",
       "<style scoped>\n",
       "    .dataframe tbody tr th:only-of-type {\n",
       "        vertical-align: middle;\n",
       "    }\n",
       "\n",
       "    .dataframe tbody tr th {\n",
       "        vertical-align: top;\n",
       "    }\n",
       "\n",
       "    .dataframe thead th {\n",
       "        text-align: right;\n",
       "    }\n",
       "</style>\n",
       "<table border=\"1\" class=\"dataframe\">\n",
       "  <thead>\n",
       "    <tr style=\"text-align: right;\">\n",
       "      <th></th>\n",
       "      <th>cluster</th>\n",
       "      <th>% of data</th>\n",
       "      <th>data</th>\n",
       "    </tr>\n",
       "  </thead>\n",
       "  <tbody>\n",
       "    <tr>\n",
       "      <th>0</th>\n",
       "      <td>0</td>\n",
       "      <td>31.077576</td>\n",
       "      <td>customers</td>\n",
       "    </tr>\n",
       "    <tr>\n",
       "      <th>1</th>\n",
       "      <td>7</td>\n",
       "      <td>17.926357</td>\n",
       "      <td>customers</td>\n",
       "    </tr>\n",
       "    <tr>\n",
       "      <th>2</th>\n",
       "      <td>3</td>\n",
       "      <td>14.391672</td>\n",
       "      <td>customers</td>\n",
       "    </tr>\n",
       "    <tr>\n",
       "      <th>3</th>\n",
       "      <td>2</td>\n",
       "      <td>10.263480</td>\n",
       "      <td>customers</td>\n",
       "    </tr>\n",
       "    <tr>\n",
       "      <th>4</th>\n",
       "      <td>4</td>\n",
       "      <td>9.741222</td>\n",
       "      <td>customers</td>\n",
       "    </tr>\n",
       "    <tr>\n",
       "      <th>5</th>\n",
       "      <td>1</td>\n",
       "      <td>9.146289</td>\n",
       "      <td>customers</td>\n",
       "    </tr>\n",
       "    <tr>\n",
       "      <th>6</th>\n",
       "      <td>6</td>\n",
       "      <td>6.104651</td>\n",
       "      <td>customers</td>\n",
       "    </tr>\n",
       "    <tr>\n",
       "      <th>7</th>\n",
       "      <td>8</td>\n",
       "      <td>1.348752</td>\n",
       "      <td>customers</td>\n",
       "    </tr>\n",
       "  </tbody>\n",
       "</table>\n",
       "</div>"
      ],
      "text/plain": [
       "   cluster  % of data       data\n",
       "0        0  31.077576  customers\n",
       "1        7  17.926357  customers\n",
       "2        3  14.391672  customers\n",
       "3        2  10.263480  customers\n",
       "4        4   9.741222  customers\n",
       "5        1   9.146289  customers\n",
       "6        6   6.104651  customers\n",
       "7        8   1.348752  customers"
      ]
     },
     "execution_count": 133,
     "metadata": {
      "tags": []
     },
     "output_type": "execute_result"
    }
   ],
   "source": [
    "#creating Dataframe analyzing percentage of customers in each cluster\n",
    "\n",
    "#creating a series out of the labeled customers gmm model\n",
    "cmp_count = pd.Series(gmm_customer).value_counts()\n",
    "\n",
    "#create a dataframe of percentage of population in each cluster \n",
    "comp_customers = pd.DataFrame({'cluster': cmp_count.index,\n",
    "                           '% of data': 100*cmp_count.values/len(gmm_customer)})\n",
    "\n",
    "#adding a new column indicating the data belongs to customers data\n",
    "comp_customers['data'] = 'customers'\n",
    "\n",
    "\n",
    "comp_customers"
   ]
  },
  {
   "cell_type": "markdown",
   "metadata": {
    "colab": {},
    "colab_type": "code",
    "id": "ZhPmiYIjJeXp"
   },
   "source": [
    "#### as shown above around 50% of customers are centered around cluster 0 and 7"
   ]
  },
  {
   "cell_type": "markdown",
   "metadata": {
    "colab": {},
    "colab_type": "code",
    "id": "25wsOf3jr-bs"
   },
   "source": [
    "### comparing customers data to general population"
   ]
  },
  {
   "cell_type": "code",
   "execution_count": 0,
   "metadata": {
    "colab": {
     "base_uri": "https://localhost:8080/",
     "height": 535
    },
    "colab_type": "code",
    "id": "FJBiBD6fr-b3",
    "outputId": "b38b07b1-866c-4836-8bdd-f5ad818e66ba"
   },
   "outputs": [
    {
     "data": {
      "image/png": "[encoded data removed]",
      "text/plain": [
       "<Figure size 1080x576 with 1 Axes>"
      ]
     },
     "metadata": {
      "tags": []
     },
     "output_type": "display_data"
    }
   ],
   "source": [
    "plt.figure(figsize=(15, 8))\n",
    "sns.barplot(x=\"cluster\", y=\"% of data\", hue=\"data\",\n",
    "            data=pd.concat([comp_customers, comp_azdias]))\n",
    "plt.xlabel('Cluster', fontsize=24)\n",
    "plt.ylabel('% of data', fontsize=24)\n",
    "plt.title('Comparing Customer Data to Demographic Data', fontsize=24)\n",
    "plt.legend(fontsize=24)\n",
    "plt.show()"
   ]
  },
  {
   "cell_type": "markdown",
   "metadata": {
    "colab": {},
    "colab_type": "code",
    "id": "p49v-tCqryye"
   },
   "source": [
    "#### as shown above, customers in  clusters 0,3 and 7 are over represented \n",
    "#### while customers in clusters 2, 8 are severely under represented \n",
    "#### cluster 5 has no customers"
   ]
  },
  {
   "cell_type": "markdown",
   "metadata": {
    "colab": {},
    "colab_type": "code",
    "id": "WoJQri0Rrzl0"
   },
   "source": [
    "##### taking a look at an example cluster that are under represented by customers, cluster 8 was chosen as an example \n",
    "##### taking a look at an example cluster that are over represented by customers, cluster 0 was chosen as an example \n",
    "##### taking a look at an example cluster that has no customers, cluster 5 was chosen"
   ]
  },
  {
   "cell_type": "code",
   "execution_count": 0,
   "metadata": {
    "colab": {
     "base_uri": "https://localhost:8080/",
     "height": 366
    },
    "colab_type": "code",
    "id": "wXkIVs7XrypG",
    "outputId": "746a1b98-3db0-46dc-cb95-044dd6d748f3"
   },
   "outputs": [
    {
     "data": {
      "text/html": [
       "<div>\n",
       "<style scoped>\n",
       "    .dataframe tbody tr th:only-of-type {\n",
       "        vertical-align: middle;\n",
       "    }\n",
       "\n",
       "    .dataframe tbody tr th {\n",
       "        vertical-align: top;\n",
       "    }\n",
       "\n",
       "    .dataframe thead th {\n",
       "        text-align: right;\n",
       "    }\n",
       "</style>\n",
       "<table border=\"1\" class=\"dataframe\">\n",
       "  <thead>\n",
       "    <tr style=\"text-align: right;\">\n",
       "      <th></th>\n",
       "      <th>AKT_DAT_KL</th>\n",
       "      <th>ALTER_HH</th>\n",
       "      <th>ANZ_HAUSHALTE_AKTIV</th>\n",
       "      <th>ANZ_HH_TITEL</th>\n",
       "      <th>ANZ_KINDER</th>\n",
       "      <th>ANZ_PERSONEN</th>\n",
       "      <th>ANZ_STATISTISCHE_HAUSHALTE</th>\n",
       "      <th>ANZ_TITEL</th>\n",
       "      <th>ARBEIT</th>\n",
       "      <th>BALLRAUM</th>\n",
       "      <th>CAMEO_DEU_2015</th>\n",
       "      <th>CAMEO_DEUG_2015</th>\n",
       "      <th>CJT_GESAMTTYP</th>\n",
       "      <th>CJT_KATALOGNUTZER</th>\n",
       "      <th>CJT_TYP_1</th>\n",
       "      <th>CJT_TYP_2</th>\n",
       "      <th>CJT_TYP_3</th>\n",
       "      <th>CJT_TYP_4</th>\n",
       "      <th>CJT_TYP_5</th>\n",
       "      <th>CJT_TYP_6</th>\n",
       "      <th>D19_BANKEN_ANZ_12</th>\n",
       "      <th>D19_BANKEN_ANZ_24</th>\n",
       "      <th>D19_BANKEN_DATUM</th>\n",
       "      <th>D19_BANKEN_DIREKT</th>\n",
       "      <th>D19_BANKEN_GROSS</th>\n",
       "      <th>D19_BANKEN_LOKAL</th>\n",
       "      <th>D19_BANKEN_OFFLINE_DATUM</th>\n",
       "      <th>D19_BANKEN_ONLINE_DATUM</th>\n",
       "      <th>D19_BANKEN_ONLINE_QUOTE_12</th>\n",
       "      <th>D19_BANKEN_REST</th>\n",
       "      <th>D19_BEKLEIDUNG_GEH</th>\n",
       "      <th>D19_BEKLEIDUNG_REST</th>\n",
       "      <th>D19_BILDUNG</th>\n",
       "      <th>D19_BIO_OEKO</th>\n",
       "      <th>D19_BUCH_CD</th>\n",
       "      <th>D19_DIGIT_SERV</th>\n",
       "      <th>D19_DROGERIEARTIKEL</th>\n",
       "      <th>D19_ENERGIE</th>\n",
       "      <th>D19_FREIZEIT</th>\n",
       "      <th>D19_GARTEN</th>\n",
       "      <th>...</th>\n",
       "      <th>RT_UEBERGROESSE</th>\n",
       "      <th>SEMIO_DOM</th>\n",
       "      <th>SEMIO_ERL</th>\n",
       "      <th>SEMIO_FAM</th>\n",
       "      <th>SEMIO_KAEM</th>\n",
       "      <th>SEMIO_KRIT</th>\n",
       "      <th>SEMIO_KULT</th>\n",
       "      <th>SEMIO_LUST</th>\n",
       "      <th>SEMIO_MAT</th>\n",
       "      <th>SEMIO_PFLICHT</th>\n",
       "      <th>SEMIO_RAT</th>\n",
       "      <th>SEMIO_REL</th>\n",
       "      <th>SEMIO_SOZ</th>\n",
       "      <th>SEMIO_TRADV</th>\n",
       "      <th>SEMIO_VERT</th>\n",
       "      <th>SHOPPER_TYP</th>\n",
       "      <th>SOHO_KZ</th>\n",
       "      <th>STRUKTURTYP</th>\n",
       "      <th>UMFELD_ALT</th>\n",
       "      <th>UMFELD_JUNG</th>\n",
       "      <th>UNGLEICHENN_FLAG</th>\n",
       "      <th>VERDICHTUNGSRAUM</th>\n",
       "      <th>VERS_TYP</th>\n",
       "      <th>VHA</th>\n",
       "      <th>VHN</th>\n",
       "      <th>VK_DHT4A</th>\n",
       "      <th>VK_DISTANZ</th>\n",
       "      <th>VK_ZG11</th>\n",
       "      <th>W_KEIT_KIND_HH</th>\n",
       "      <th>WOHNDAUER_2008</th>\n",
       "      <th>WOHNLAGE</th>\n",
       "      <th>ZABEOTYP</th>\n",
       "      <th>ANREDE_KZ</th>\n",
       "      <th>ALTERSKATEGORIE_GROB</th>\n",
       "      <th>CAMEO_INTL_2015_household</th>\n",
       "      <th>CAMEO_INTL_2015_stage</th>\n",
       "      <th>PRAEGENDE_JUGENDJAHRE_GEN</th>\n",
       "      <th>PRAEGENDE_JUGENDJAHRE_MOV</th>\n",
       "      <th>LP_LEBENSPHASE_FEIN_STAGE</th>\n",
       "      <th>LP_LEBENSPHASE_FEIN_SCALE</th>\n",
       "    </tr>\n",
       "  </thead>\n",
       "  <tbody>\n",
       "    <tr>\n",
       "      <th>0</th>\n",
       "      <td>3.239995</td>\n",
       "      <td>11.511590</td>\n",
       "      <td>5.219184</td>\n",
       "      <td>0.029858</td>\n",
       "      <td>0.153912</td>\n",
       "      <td>2.048830</td>\n",
       "      <td>4.849029</td>\n",
       "      <td>0.006685</td>\n",
       "      <td>3.061912</td>\n",
       "      <td>4.337743</td>\n",
       "      <td>20.478961</td>\n",
       "      <td>4.915605</td>\n",
       "      <td>3.394477</td>\n",
       "      <td>3.159314</td>\n",
       "      <td>2.884426</td>\n",
       "      <td>2.611295</td>\n",
       "      <td>3.713259</td>\n",
       "      <td>3.554090</td>\n",
       "      <td>3.670496</td>\n",
       "      <td>3.755854</td>\n",
       "      <td>-0.014622</td>\n",
       "      <td>-0.028378</td>\n",
       "      <td>9.921193</td>\n",
       "      <td>0.500719</td>\n",
       "      <td>0.009062</td>\n",
       "      <td>0.008708</td>\n",
       "      <td>9.996200</td>\n",
       "      <td>9.944268</td>\n",
       "      <td>0.030090</td>\n",
       "      <td>0.002082</td>\n",
       "      <td>0.962245</td>\n",
       "      <td>1.963418</td>\n",
       "      <td>1.681071</td>\n",
       "      <td>0.725752</td>\n",
       "      <td>2.776231</td>\n",
       "      <td>-0.001542</td>\n",
       "      <td>1.029851</td>\n",
       "      <td>0.481440</td>\n",
       "      <td>0.926848</td>\n",
       "      <td>0.780380</td>\n",
       "      <td>...</td>\n",
       "      <td>2.851127</td>\n",
       "      <td>4.559368</td>\n",
       "      <td>4.929650</td>\n",
       "      <td>3.773221</td>\n",
       "      <td>4.279746</td>\n",
       "      <td>4.481281</td>\n",
       "      <td>3.837141</td>\n",
       "      <td>4.768429</td>\n",
       "      <td>3.537465</td>\n",
       "      <td>3.735355</td>\n",
       "      <td>3.578668</td>\n",
       "      <td>3.532510</td>\n",
       "      <td>4.080644</td>\n",
       "      <td>3.378784</td>\n",
       "      <td>4.396261</td>\n",
       "      <td>1.633270</td>\n",
       "      <td>0.008852</td>\n",
       "      <td>2.469771</td>\n",
       "      <td>3.068231</td>\n",
       "      <td>4.212078</td>\n",
       "      <td>0.079237</td>\n",
       "      <td>4.253418</td>\n",
       "      <td>0.515215</td>\n",
       "      <td>0.977119</td>\n",
       "      <td>2.363981</td>\n",
       "      <td>4.853527</td>\n",
       "      <td>5.836817</td>\n",
       "      <td>4.408920</td>\n",
       "      <td>4.177870</td>\n",
       "      <td>8.123242</td>\n",
       "      <td>4.084731</td>\n",
       "      <td>2.938078</td>\n",
       "      <td>0.531315</td>\n",
       "      <td>3.061696</td>\n",
       "      <td>1.916482</td>\n",
       "      <td>2.164725</td>\n",
       "      <td>2.940127</td>\n",
       "      <td>0.653810</td>\n",
       "      <td>2.639425</td>\n",
       "      <td>2.256639</td>\n",
       "    </tr>\n",
       "    <tr>\n",
       "      <th>1</th>\n",
       "      <td>3.242199</td>\n",
       "      <td>14.122985</td>\n",
       "      <td>5.757289</td>\n",
       "      <td>0.020901</td>\n",
       "      <td>0.307622</td>\n",
       "      <td>2.216604</td>\n",
       "      <td>5.183109</td>\n",
       "      <td>0.004184</td>\n",
       "      <td>3.107379</td>\n",
       "      <td>4.143723</td>\n",
       "      <td>21.612174</td>\n",
       "      <td>5.173609</td>\n",
       "      <td>3.794591</td>\n",
       "      <td>2.646066</td>\n",
       "      <td>3.504850</td>\n",
       "      <td>3.258196</td>\n",
       "      <td>3.138750</td>\n",
       "      <td>2.929950</td>\n",
       "      <td>3.079211</td>\n",
       "      <td>3.165499</td>\n",
       "      <td>0.147156</td>\n",
       "      <td>0.470209</td>\n",
       "      <td>8.441618</td>\n",
       "      <td>2.313181</td>\n",
       "      <td>1.864732</td>\n",
       "      <td>0.023158</td>\n",
       "      <td>9.604396</td>\n",
       "      <td>9.142901</td>\n",
       "      <td>0.005624</td>\n",
       "      <td>1.323951</td>\n",
       "      <td>0.868987</td>\n",
       "      <td>2.160388</td>\n",
       "      <td>1.289652</td>\n",
       "      <td>-0.003864</td>\n",
       "      <td>2.757699</td>\n",
       "      <td>1.305779</td>\n",
       "      <td>1.492262</td>\n",
       "      <td>0.704076</td>\n",
       "      <td>1.339081</td>\n",
       "      <td>-0.005790</td>\n",
       "      <td>...</td>\n",
       "      <td>3.282871</td>\n",
       "      <td>4.635394</td>\n",
       "      <td>4.478428</td>\n",
       "      <td>4.121014</td>\n",
       "      <td>4.285227</td>\n",
       "      <td>4.389981</td>\n",
       "      <td>4.281051</td>\n",
       "      <td>4.154163</td>\n",
       "      <td>3.903927</td>\n",
       "      <td>4.358321</td>\n",
       "      <td>4.046890</td>\n",
       "      <td>4.120724</td>\n",
       "      <td>4.212747</td>\n",
       "      <td>3.911198</td>\n",
       "      <td>4.312651</td>\n",
       "      <td>1.531688</td>\n",
       "      <td>0.009107</td>\n",
       "      <td>2.517418</td>\n",
       "      <td>3.347757</td>\n",
       "      <td>4.095447</td>\n",
       "      <td>0.116283</td>\n",
       "      <td>4.323680</td>\n",
       "      <td>0.536050</td>\n",
       "      <td>0.931667</td>\n",
       "      <td>2.363089</td>\n",
       "      <td>4.018056</td>\n",
       "      <td>5.523231</td>\n",
       "      <td>4.690781</td>\n",
       "      <td>3.507479</td>\n",
       "      <td>7.585063</td>\n",
       "      <td>4.069335</td>\n",
       "      <td>3.196684</td>\n",
       "      <td>0.520989</td>\n",
       "      <td>2.674664</td>\n",
       "      <td>2.047270</td>\n",
       "      <td>1.942095</td>\n",
       "      <td>3.681307</td>\n",
       "      <td>0.703800</td>\n",
       "      <td>2.220169</td>\n",
       "      <td>2.093600</td>\n",
       "    </tr>\n",
       "    <tr>\n",
       "      <th>2</th>\n",
       "      <td>5.909267</td>\n",
       "      <td>7.846494</td>\n",
       "      <td>9.788798</td>\n",
       "      <td>0.042967</td>\n",
       "      <td>0.038651</td>\n",
       "      <td>1.182190</td>\n",
       "      <td>9.009959</td>\n",
       "      <td>0.003552</td>\n",
       "      <td>3.301039</td>\n",
       "      <td>4.060583</td>\n",
       "      <td>26.574222</td>\n",
       "      <td>6.160657</td>\n",
       "      <td>3.333953</td>\n",
       "      <td>3.682003</td>\n",
       "      <td>3.284916</td>\n",
       "      <td>3.131372</td>\n",
       "      <td>3.228200</td>\n",
       "      <td>3.414563</td>\n",
       "      <td>3.237794</td>\n",
       "      <td>3.431482</td>\n",
       "      <td>-0.007617</td>\n",
       "      <td>-0.018087</td>\n",
       "      <td>9.985633</td>\n",
       "      <td>-0.014008</td>\n",
       "      <td>-0.006260</td>\n",
       "      <td>0.009882</td>\n",
       "      <td>10.023149</td>\n",
       "      <td>10.002505</td>\n",
       "      <td>-0.005908</td>\n",
       "      <td>-0.001065</td>\n",
       "      <td>-0.000563</td>\n",
       "      <td>0.203324</td>\n",
       "      <td>0.096002</td>\n",
       "      <td>0.005035</td>\n",
       "      <td>0.626465</td>\n",
       "      <td>-0.002560</td>\n",
       "      <td>-0.005161</td>\n",
       "      <td>-0.015313</td>\n",
       "      <td>0.005878</td>\n",
       "      <td>0.006572</td>\n",
       "      <td>...</td>\n",
       "      <td>2.879890</td>\n",
       "      <td>4.616882</td>\n",
       "      <td>4.673567</td>\n",
       "      <td>4.158735</td>\n",
       "      <td>4.407091</td>\n",
       "      <td>4.744480</td>\n",
       "      <td>4.090373</td>\n",
       "      <td>4.361187</td>\n",
       "      <td>3.934396</td>\n",
       "      <td>4.269472</td>\n",
       "      <td>3.939787</td>\n",
       "      <td>4.077151</td>\n",
       "      <td>4.074485</td>\n",
       "      <td>3.705117</td>\n",
       "      <td>4.049490</td>\n",
       "      <td>1.515124</td>\n",
       "      <td>0.007745</td>\n",
       "      <td>2.604395</td>\n",
       "      <td>3.201048</td>\n",
       "      <td>3.866339</td>\n",
       "      <td>0.073079</td>\n",
       "      <td>4.893170</td>\n",
       "      <td>0.575174</td>\n",
       "      <td>-0.002627</td>\n",
       "      <td>2.481839</td>\n",
       "      <td>8.173418</td>\n",
       "      <td>9.870026</td>\n",
       "      <td>7.531515</td>\n",
       "      <td>4.977984</td>\n",
       "      <td>8.462574</td>\n",
       "      <td>4.009933</td>\n",
       "      <td>3.671708</td>\n",
       "      <td>0.545546</td>\n",
       "      <td>2.826653</td>\n",
       "      <td>2.624433</td>\n",
       "      <td>1.655511</td>\n",
       "      <td>3.324395</td>\n",
       "      <td>0.808655</td>\n",
       "      <td>2.619637</td>\n",
       "      <td>1.713103</td>\n",
       "    </tr>\n",
       "    <tr>\n",
       "      <th>3</th>\n",
       "      <td>2.544210</td>\n",
       "      <td>15.123013</td>\n",
       "      <td>2.641767</td>\n",
       "      <td>0.013677</td>\n",
       "      <td>0.274951</td>\n",
       "      <td>2.872210</td>\n",
       "      <td>2.418840</td>\n",
       "      <td>0.005798</td>\n",
       "      <td>2.877462</td>\n",
       "      <td>4.712120</td>\n",
       "      <td>17.072745</td>\n",
       "      <td>4.268592</td>\n",
       "      <td>3.642676</td>\n",
       "      <td>2.595695</td>\n",
       "      <td>3.196384</td>\n",
       "      <td>2.844147</td>\n",
       "      <td>3.489628</td>\n",
       "      <td>3.162886</td>\n",
       "      <td>3.437641</td>\n",
       "      <td>3.458738</td>\n",
       "      <td>0.153059</td>\n",
       "      <td>0.460613</td>\n",
       "      <td>8.333328</td>\n",
       "      <td>2.900826</td>\n",
       "      <td>1.663132</td>\n",
       "      <td>1.323034</td>\n",
       "      <td>9.493689</td>\n",
       "      <td>9.162572</td>\n",
       "      <td>-0.002086</td>\n",
       "      <td>1.953167</td>\n",
       "      <td>1.738029</td>\n",
       "      <td>3.050820</td>\n",
       "      <td>1.829370</td>\n",
       "      <td>2.127295</td>\n",
       "      <td>3.738175</td>\n",
       "      <td>0.968161</td>\n",
       "      <td>2.191589</td>\n",
       "      <td>1.041073</td>\n",
       "      <td>2.109140</td>\n",
       "      <td>1.889442</td>\n",
       "      <td>...</td>\n",
       "      <td>3.261126</td>\n",
       "      <td>4.535696</td>\n",
       "      <td>4.665930</td>\n",
       "      <td>3.896050</td>\n",
       "      <td>4.150229</td>\n",
       "      <td>4.206835</td>\n",
       "      <td>4.095003</td>\n",
       "      <td>4.420237</td>\n",
       "      <td>3.718547</td>\n",
       "      <td>4.039514</td>\n",
       "      <td>3.870655</td>\n",
       "      <td>3.816961</td>\n",
       "      <td>4.129453</td>\n",
       "      <td>3.743026</td>\n",
       "      <td>4.496033</td>\n",
       "      <td>1.538029</td>\n",
       "      <td>0.009835</td>\n",
       "      <td>2.300227</td>\n",
       "      <td>3.337283</td>\n",
       "      <td>4.298820</td>\n",
       "      <td>0.099204</td>\n",
       "      <td>3.462728</td>\n",
       "      <td>0.489947</td>\n",
       "      <td>1.087057</td>\n",
       "      <td>2.224675</td>\n",
       "      <td>3.241595</td>\n",
       "      <td>4.408351</td>\n",
       "      <td>3.658997</td>\n",
       "      <td>3.153264</td>\n",
       "      <td>8.350933</td>\n",
       "      <td>4.411699</td>\n",
       "      <td>2.640869</td>\n",
       "      <td>0.521242</td>\n",
       "      <td>2.834160</td>\n",
       "      <td>1.525187</td>\n",
       "      <td>2.254089</td>\n",
       "      <td>3.373349</td>\n",
       "      <td>0.624750</td>\n",
       "      <td>2.300144</td>\n",
       "      <td>2.445734</td>\n",
       "    </tr>\n",
       "    <tr>\n",
       "      <th>4</th>\n",
       "      <td>4.040176</td>\n",
       "      <td>12.840185</td>\n",
       "      <td>7.269376</td>\n",
       "      <td>0.031673</td>\n",
       "      <td>0.226871</td>\n",
       "      <td>1.824410</td>\n",
       "      <td>6.545381</td>\n",
       "      <td>0.003746</td>\n",
       "      <td>3.141787</td>\n",
       "      <td>3.997217</td>\n",
       "      <td>22.879789</td>\n",
       "      <td>5.424061</td>\n",
       "      <td>3.718404</td>\n",
       "      <td>2.970690</td>\n",
       "      <td>3.576900</td>\n",
       "      <td>3.397378</td>\n",
       "      <td>3.000556</td>\n",
       "      <td>2.908309</td>\n",
       "      <td>2.993746</td>\n",
       "      <td>3.144198</td>\n",
       "      <td>0.075601</td>\n",
       "      <td>0.360733</td>\n",
       "      <td>8.661529</td>\n",
       "      <td>2.343098</td>\n",
       "      <td>2.156181</td>\n",
       "      <td>0.000340</td>\n",
       "      <td>9.825433</td>\n",
       "      <td>9.149668</td>\n",
       "      <td>0.076843</td>\n",
       "      <td>1.152051</td>\n",
       "      <td>1.244793</td>\n",
       "      <td>1.705026</td>\n",
       "      <td>-0.000191</td>\n",
       "      <td>-0.005315</td>\n",
       "      <td>1.808416</td>\n",
       "      <td>-0.001752</td>\n",
       "      <td>0.964190</td>\n",
       "      <td>0.495334</td>\n",
       "      <td>1.589808</td>\n",
       "      <td>-0.005710</td>\n",
       "      <td>...</td>\n",
       "      <td>3.288087</td>\n",
       "      <td>4.535636</td>\n",
       "      <td>4.332068</td>\n",
       "      <td>4.316207</td>\n",
       "      <td>4.216650</td>\n",
       "      <td>4.442304</td>\n",
       "      <td>4.390021</td>\n",
       "      <td>4.028128</td>\n",
       "      <td>4.050237</td>\n",
       "      <td>4.430667</td>\n",
       "      <td>4.057965</td>\n",
       "      <td>4.257140</td>\n",
       "      <td>4.286867</td>\n",
       "      <td>3.985707</td>\n",
       "      <td>4.366846</td>\n",
       "      <td>1.528843</td>\n",
       "      <td>0.008460</td>\n",
       "      <td>2.603723</td>\n",
       "      <td>3.332185</td>\n",
       "      <td>4.009973</td>\n",
       "      <td>0.101776</td>\n",
       "      <td>4.732798</td>\n",
       "      <td>0.542758</td>\n",
       "      <td>0.148910</td>\n",
       "      <td>2.411708</td>\n",
       "      <td>5.150893</td>\n",
       "      <td>6.922607</td>\n",
       "      <td>5.794348</td>\n",
       "      <td>3.982353</td>\n",
       "      <td>7.129071</td>\n",
       "      <td>3.895813</td>\n",
       "      <td>3.470964</td>\n",
       "      <td>0.490258</td>\n",
       "      <td>2.626826</td>\n",
       "      <td>2.191219</td>\n",
       "      <td>1.842997</td>\n",
       "      <td>3.770535</td>\n",
       "      <td>0.733489</td>\n",
       "      <td>2.213989</td>\n",
       "      <td>1.966245</td>\n",
       "    </tr>\n",
       "    <tr>\n",
       "      <th>5</th>\n",
       "      <td>2.818800</td>\n",
       "      <td>14.563025</td>\n",
       "      <td>1.934704</td>\n",
       "      <td>-0.000915</td>\n",
       "      <td>0.489365</td>\n",
       "      <td>2.200906</td>\n",
       "      <td>1.951956</td>\n",
       "      <td>0.003948</td>\n",
       "      <td>2.792758</td>\n",
       "      <td>4.683016</td>\n",
       "      <td>15.288658</td>\n",
       "      <td>4.003921</td>\n",
       "      <td>3.915365</td>\n",
       "      <td>2.627839</td>\n",
       "      <td>3.641147</td>\n",
       "      <td>3.463857</td>\n",
       "      <td>3.112907</td>\n",
       "      <td>2.907347</td>\n",
       "      <td>3.662067</td>\n",
       "      <td>3.111247</td>\n",
       "      <td>0.453092</td>\n",
       "      <td>0.718713</td>\n",
       "      <td>7.908194</td>\n",
       "      <td>1.975886</td>\n",
       "      <td>1.308975</td>\n",
       "      <td>0.010131</td>\n",
       "      <td>9.849271</td>\n",
       "      <td>8.211450</td>\n",
       "      <td>2.035486</td>\n",
       "      <td>1.238861</td>\n",
       "      <td>1.366076</td>\n",
       "      <td>2.610321</td>\n",
       "      <td>1.319965</td>\n",
       "      <td>0.700121</td>\n",
       "      <td>2.794847</td>\n",
       "      <td>0.804502</td>\n",
       "      <td>1.860058</td>\n",
       "      <td>0.638966</td>\n",
       "      <td>1.931826</td>\n",
       "      <td>0.980708</td>\n",
       "      <td>...</td>\n",
       "      <td>3.773195</td>\n",
       "      <td>4.253090</td>\n",
       "      <td>4.451190</td>\n",
       "      <td>4.219792</td>\n",
       "      <td>4.235636</td>\n",
       "      <td>4.729248</td>\n",
       "      <td>3.816059</td>\n",
       "      <td>3.485651</td>\n",
       "      <td>4.526438</td>\n",
       "      <td>4.101484</td>\n",
       "      <td>4.195056</td>\n",
       "      <td>3.885317</td>\n",
       "      <td>3.570335</td>\n",
       "      <td>3.995962</td>\n",
       "      <td>4.879945</td>\n",
       "      <td>1.907479</td>\n",
       "      <td>0.009215</td>\n",
       "      <td>2.258407</td>\n",
       "      <td>3.743600</td>\n",
       "      <td>4.364445</td>\n",
       "      <td>0.114722</td>\n",
       "      <td>3.607377</td>\n",
       "      <td>0.327769</td>\n",
       "      <td>0.644173</td>\n",
       "      <td>2.084256</td>\n",
       "      <td>3.509775</td>\n",
       "      <td>5.286484</td>\n",
       "      <td>4.902911</td>\n",
       "      <td>2.997369</td>\n",
       "      <td>7.461903</td>\n",
       "      <td>4.366844</td>\n",
       "      <td>2.607366</td>\n",
       "      <td>0.524970</td>\n",
       "      <td>2.673177</td>\n",
       "      <td>1.357976</td>\n",
       "      <td>2.051198</td>\n",
       "      <td>3.947504</td>\n",
       "      <td>0.682314</td>\n",
       "      <td>2.178384</td>\n",
       "      <td>2.443446</td>\n",
       "    </tr>\n",
       "    <tr>\n",
       "      <th>6</th>\n",
       "      <td>2.958256</td>\n",
       "      <td>14.417556</td>\n",
       "      <td>14.063107</td>\n",
       "      <td>0.085406</td>\n",
       "      <td>0.307261</td>\n",
       "      <td>2.318077</td>\n",
       "      <td>12.777396</td>\n",
       "      <td>0.002833</td>\n",
       "      <td>3.180698</td>\n",
       "      <td>3.932395</td>\n",
       "      <td>23.699905</td>\n",
       "      <td>5.584634</td>\n",
       "      <td>3.934769</td>\n",
       "      <td>2.611935</td>\n",
       "      <td>3.555042</td>\n",
       "      <td>3.356323</td>\n",
       "      <td>2.922766</td>\n",
       "      <td>2.900833</td>\n",
       "      <td>3.002003</td>\n",
       "      <td>2.901959</td>\n",
       "      <td>1.607959</td>\n",
       "      <td>2.081487</td>\n",
       "      <td>4.466231</td>\n",
       "      <td>2.383923</td>\n",
       "      <td>1.881083</td>\n",
       "      <td>0.331332</td>\n",
       "      <td>9.864997</td>\n",
       "      <td>4.624653</td>\n",
       "      <td>7.924890</td>\n",
       "      <td>1.436314</td>\n",
       "      <td>0.938399</td>\n",
       "      <td>2.218649</td>\n",
       "      <td>0.868486</td>\n",
       "      <td>0.642871</td>\n",
       "      <td>2.699694</td>\n",
       "      <td>0.602362</td>\n",
       "      <td>1.613094</td>\n",
       "      <td>0.804587</td>\n",
       "      <td>1.407792</td>\n",
       "      <td>0.666595</td>\n",
       "      <td>...</td>\n",
       "      <td>3.224351</td>\n",
       "      <td>4.494467</td>\n",
       "      <td>4.332967</td>\n",
       "      <td>4.338836</td>\n",
       "      <td>4.180601</td>\n",
       "      <td>4.281842</td>\n",
       "      <td>4.465316</td>\n",
       "      <td>4.105246</td>\n",
       "      <td>4.020320</td>\n",
       "      <td>4.440749</td>\n",
       "      <td>4.034106</td>\n",
       "      <td>4.270535</td>\n",
       "      <td>4.402152</td>\n",
       "      <td>3.964621</td>\n",
       "      <td>4.431672</td>\n",
       "      <td>1.484657</td>\n",
       "      <td>0.009147</td>\n",
       "      <td>2.569567</td>\n",
       "      <td>3.316511</td>\n",
       "      <td>4.039292</td>\n",
       "      <td>0.103527</td>\n",
       "      <td>4.544531</td>\n",
       "      <td>0.547651</td>\n",
       "      <td>0.735179</td>\n",
       "      <td>2.356478</td>\n",
       "      <td>3.536029</td>\n",
       "      <td>5.173556</td>\n",
       "      <td>4.706792</td>\n",
       "      <td>3.467344</td>\n",
       "      <td>7.485456</td>\n",
       "      <td>4.058036</td>\n",
       "      <td>3.277493</td>\n",
       "      <td>0.480321</td>\n",
       "      <td>2.629434</td>\n",
       "      <td>2.279188</td>\n",
       "      <td>1.844742</td>\n",
       "      <td>3.755626</td>\n",
       "      <td>0.728025</td>\n",
       "      <td>2.166678</td>\n",
       "      <td>1.966016</td>\n",
       "    </tr>\n",
       "    <tr>\n",
       "      <th>7</th>\n",
       "      <td>3.879800</td>\n",
       "      <td>11.166563</td>\n",
       "      <td>6.919050</td>\n",
       "      <td>0.032017</td>\n",
       "      <td>0.163981</td>\n",
       "      <td>1.760725</td>\n",
       "      <td>6.356909</td>\n",
       "      <td>0.004419</td>\n",
       "      <td>3.151413</td>\n",
       "      <td>4.172403</td>\n",
       "      <td>22.644272</td>\n",
       "      <td>5.362958</td>\n",
       "      <td>3.436791</td>\n",
       "      <td>3.256438</td>\n",
       "      <td>3.135790</td>\n",
       "      <td>2.919719</td>\n",
       "      <td>3.433137</td>\n",
       "      <td>3.343299</td>\n",
       "      <td>3.419980</td>\n",
       "      <td>3.541949</td>\n",
       "      <td>-0.011217</td>\n",
       "      <td>-0.003796</td>\n",
       "      <td>9.879054</td>\n",
       "      <td>0.530811</td>\n",
       "      <td>-0.002876</td>\n",
       "      <td>-0.010683</td>\n",
       "      <td>10.033502</td>\n",
       "      <td>9.903959</td>\n",
       "      <td>-0.017628</td>\n",
       "      <td>-0.002877</td>\n",
       "      <td>-0.000837</td>\n",
       "      <td>1.642901</td>\n",
       "      <td>-0.001560</td>\n",
       "      <td>-0.001915</td>\n",
       "      <td>1.883318</td>\n",
       "      <td>0.002695</td>\n",
       "      <td>0.911470</td>\n",
       "      <td>0.696454</td>\n",
       "      <td>-0.005725</td>\n",
       "      <td>-0.005471</td>\n",
       "      <td>...</td>\n",
       "      <td>2.949556</td>\n",
       "      <td>4.561876</td>\n",
       "      <td>4.759416</td>\n",
       "      <td>3.957981</td>\n",
       "      <td>4.328111</td>\n",
       "      <td>4.560548</td>\n",
       "      <td>3.998581</td>\n",
       "      <td>4.496346</td>\n",
       "      <td>3.753015</td>\n",
       "      <td>3.994091</td>\n",
       "      <td>3.776067</td>\n",
       "      <td>3.795041</td>\n",
       "      <td>4.085385</td>\n",
       "      <td>3.599819</td>\n",
       "      <td>4.299891</td>\n",
       "      <td>1.598720</td>\n",
       "      <td>0.008451</td>\n",
       "      <td>2.533504</td>\n",
       "      <td>3.137186</td>\n",
       "      <td>4.085505</td>\n",
       "      <td>0.096648</td>\n",
       "      <td>4.547431</td>\n",
       "      <td>0.520949</td>\n",
       "      <td>0.567709</td>\n",
       "      <td>2.391697</td>\n",
       "      <td>5.570555</td>\n",
       "      <td>6.948890</td>\n",
       "      <td>5.475074</td>\n",
       "      <td>4.312041</td>\n",
       "      <td>7.655882</td>\n",
       "      <td>4.048569</td>\n",
       "      <td>3.336437</td>\n",
       "      <td>0.532424</td>\n",
       "      <td>2.916922</td>\n",
       "      <td>2.171457</td>\n",
       "      <td>1.976631</td>\n",
       "      <td>3.217893</td>\n",
       "      <td>0.731695</td>\n",
       "      <td>2.530879</td>\n",
       "      <td>2.035717</td>\n",
       "    </tr>\n",
       "    <tr>\n",
       "      <th>8</th>\n",
       "      <td>5.242824</td>\n",
       "      <td>9.835462</td>\n",
       "      <td>13.747328</td>\n",
       "      <td>0.075764</td>\n",
       "      <td>0.102080</td>\n",
       "      <td>1.455525</td>\n",
       "      <td>12.561944</td>\n",
       "      <td>0.002255</td>\n",
       "      <td>3.272252</td>\n",
       "      <td>4.075065</td>\n",
       "      <td>26.140037</td>\n",
       "      <td>6.071944</td>\n",
       "      <td>3.411335</td>\n",
       "      <td>3.548171</td>\n",
       "      <td>3.304317</td>\n",
       "      <td>3.172849</td>\n",
       "      <td>3.204865</td>\n",
       "      <td>3.241551</td>\n",
       "      <td>3.176182</td>\n",
       "      <td>3.403334</td>\n",
       "      <td>-0.006643</td>\n",
       "      <td>0.000731</td>\n",
       "      <td>9.882677</td>\n",
       "      <td>0.600180</td>\n",
       "      <td>0.001182</td>\n",
       "      <td>0.006464</td>\n",
       "      <td>10.017033</td>\n",
       "      <td>9.890709</td>\n",
       "      <td>-0.014020</td>\n",
       "      <td>0.001602</td>\n",
       "      <td>-0.002244</td>\n",
       "      <td>0.002608</td>\n",
       "      <td>-0.000341</td>\n",
       "      <td>-0.001912</td>\n",
       "      <td>0.945835</td>\n",
       "      <td>0.008827</td>\n",
       "      <td>0.002514</td>\n",
       "      <td>0.007525</td>\n",
       "      <td>0.000278</td>\n",
       "      <td>-0.001921</td>\n",
       "      <td>...</td>\n",
       "      <td>2.992492</td>\n",
       "      <td>4.398802</td>\n",
       "      <td>4.494956</td>\n",
       "      <td>4.358643</td>\n",
       "      <td>4.142439</td>\n",
       "      <td>4.499607</td>\n",
       "      <td>4.354791</td>\n",
       "      <td>4.249225</td>\n",
       "      <td>4.009310</td>\n",
       "      <td>4.262575</td>\n",
       "      <td>3.829121</td>\n",
       "      <td>4.143078</td>\n",
       "      <td>4.308125</td>\n",
       "      <td>3.737260</td>\n",
       "      <td>4.382545</td>\n",
       "      <td>1.524470</td>\n",
       "      <td>0.007845</td>\n",
       "      <td>2.582080</td>\n",
       "      <td>3.181396</td>\n",
       "      <td>3.933205</td>\n",
       "      <td>0.099133</td>\n",
       "      <td>4.835810</td>\n",
       "      <td>0.554682</td>\n",
       "      <td>0.444666</td>\n",
       "      <td>2.425465</td>\n",
       "      <td>7.029036</td>\n",
       "      <td>8.699460</td>\n",
       "      <td>6.789668</td>\n",
       "      <td>4.617184</td>\n",
       "      <td>7.379400</td>\n",
       "      <td>4.065546</td>\n",
       "      <td>3.798592</td>\n",
       "      <td>0.464951</td>\n",
       "      <td>2.806908</td>\n",
       "      <td>2.573889</td>\n",
       "      <td>1.731120</td>\n",
       "      <td>3.426262</td>\n",
       "      <td>0.814579</td>\n",
       "      <td>2.507453</td>\n",
       "      <td>1.770071</td>\n",
       "    </tr>\n",
       "  </tbody>\n",
       "</table>\n",
       "<p>9 rows × 352 columns</p>\n",
       "</div>"
      ],
      "text/plain": [
       "   AKT_DAT_KL   ALTER_HH  ...  LP_LEBENSPHASE_FEIN_STAGE  LP_LEBENSPHASE_FEIN_SCALE\n",
       "0    3.239995  11.511590  ...                   2.639425                   2.256639\n",
       "1    3.242199  14.122985  ...                   2.220169                   2.093600\n",
       "2    5.909267   7.846494  ...                   2.619637                   1.713103\n",
       "3    2.544210  15.123013  ...                   2.300144                   2.445734\n",
       "4    4.040176  12.840185  ...                   2.213989                   1.966245\n",
       "5    2.818800  14.563025  ...                   2.178384                   2.443446\n",
       "6    2.958256  14.417556  ...                   2.166678                   1.966016\n",
       "7    3.879800  11.166563  ...                   2.530879                   2.035717\n",
       "8    5.242824   9.835462  ...                   2.507453                   1.770071\n",
       "\n",
       "[9 rows x 352 columns]"
      ]
     },
     "execution_count": 158,
     "metadata": {
      "tags": []
     },
     "output_type": "execute_result"
    }
   ],
   "source": [
    "#creating dataframe of clusters means  after inversing their PCA and scaling\n",
    "features_means = pd.DataFrame(scaler.inverse_transform(pca.inverse_transform(gmm_model.means_)),\n",
    "                              columns=clean_customers.columns)\n",
    "features_means"
   ]
  },
  {
   "cell_type": "markdown",
   "metadata": {},
   "source": [
    "### investigating overrepresented cluster 0"
   ]
  },
  {
   "cell_type": "code",
   "execution_count": 0,
   "metadata": {
    "colab": {
     "base_uri": "https://localhost:8080/",
     "height": 123
    },
    "colab_type": "code",
    "id": "etNiOLxOtWbo",
    "outputId": "5cd642dd-4995-4366-927b-a4d870cec34e"
   },
   "outputs": [
    {
     "data": {
      "text/plain": [
       "0     2.640152\n",
       "3     2.235730\n",
       "4     0.761265\n",
       "6     0.549141\n",
       "29    0.456388\n",
       "dtype: float64"
      ]
     },
     "execution_count": 200,
     "metadata": {
      "tags": []
     },
     "output_type": "execute_result"
    }
   ],
   "source": [
    "#top 5 principal components of cluster 0\n",
    "top_pc_0 = gmm_model.means_[0]\n",
    "top_pc_0 = pd.Series(top_pc_0)\n",
    "top_pc_0.sort_values(ascending=False, inplace=True)\n",
    "top_pc_0.head(5)"
   ]
  },
  {
   "cell_type": "code",
   "execution_count": 0,
   "metadata": {
    "colab": {},
    "colab_type": "code",
    "id": "Dy1vpXGg7B-2"
   },
   "outputs": [],
   "source": [
    "# Plot thresh_feat features with the most positive and negative variance\n",
    "# for a component_num PCA component\n",
    "def pca_comp_corr(df, pca, component_num, thresh_feat, show_plot=True):\n",
    "    \n",
    "    # Build a dataframe with thresh_feat features capturing most variability\n",
    "    # for a given component number (component_num)\n",
    "    pca_comp = pd.DataFrame(np.round(pca.components_, 4), columns=df.keys()).iloc[component_num - 1]\n",
    "    pca_comp.sort_values(ascending=False, inplace=True)\n",
    "    pca_comp = pd.concat([pca_comp.head(thresh_feat), pca_comp.tail(thresh_feat)])\n",
    "    \n",
    "    if show_plot:\n",
    "        # Plot the result\n",
    "        pca_comp.plot(kind='bar', \n",
    "                  title='Most {} weighted features for PCA component {}'.format(thresh_feat*2, component_num),\n",
    "                  figsize=(12, 6))\n",
    "        plt.show()\n",
    "    \n",
    "    return pca_comp\n"
   ]
  },
  {
   "cell_type": "code",
   "execution_count": 0,
   "metadata": {
    "colab": {
     "base_uri": "https://localhost:8080/",
     "height": 680
    },
    "colab_type": "code",
    "id": "74VZqjjqtWBd",
    "outputId": "98d0af01-b8b3-45ad-e1e6-d5a549a4fc80"
   },
   "outputs": [
    {
     "data": {
      "image/png": "[encoded data removed]",
      "text/plain": [
       "<Figure size 864x432 with 1 Axes>"
      ]
     },
     "metadata": {
      "tags": []
     },
     "output_type": "display_data"
    },
    {
     "data": {
      "text/plain": [
       "D19_BANKEN_LOKAL    0.6226\n",
       "KBA05_KRSZUL        0.1458\n",
       "KBA05_ZUL4          0.1330\n",
       "WOHNLAGE            0.1325\n",
       "KBA05_MAXAH         0.1113\n",
       "KBA05_ZUL2         -0.1217\n",
       "RT_SCHNAEPPCHEN    -0.1226\n",
       "KBA13_HALTER_20    -0.1771\n",
       "KBA13_BMW          -0.1773\n",
       "SHOPPER_TYP        -0.2712\n",
       "Name: 89, dtype: float64"
      ]
     },
     "execution_count": 201,
     "metadata": {
      "tags": []
     },
     "output_type": "execute_result"
    }
   ],
   "source": [
    "# investigate first top principal components for cluster 0\n",
    "\n",
    "pca_comp_corr(clean_customers, pca, 0, 5, True)"
   ]
  },
  {
   "cell_type": "code",
   "execution_count": 0,
   "metadata": {
    "colab": {
     "base_uri": "https://localhost:8080/",
     "height": 710
    },
    "colab_type": "code",
    "id": "VBT03L_TtV0V",
    "outputId": "79377a9b-4423-4bdf-eac3-e56534d70f99"
   },
   "outputs": [
    {
     "data": {
      "image/png": "[encoded data removed]",
      "text/plain": [
       "<Figure size 864x432 with 1 Axes>"
      ]
     },
     "metadata": {
      "tags": []
     },
     "output_type": "display_data"
    },
    {
     "data": {
      "text/plain": [
       "MIN_GEBAEUDEJAHR        0.2691\n",
       "KBA13_SITZE_5           0.1766\n",
       "KBA13_KMH_140_210       0.1518\n",
       "KBA13_HALTER_20         0.1022\n",
       "KBA13_KW_50             0.0963\n",
       "KBA05_HERST1           -0.1922\n",
       "KBA13_HERST_BMW_BENZ   -0.2050\n",
       "KBA13_SEG_SPORTWAGEN   -0.2392\n",
       "KBA13_KMH_250          -0.2402\n",
       "KBA13_KMH_211          -0.2435\n",
       "Name: 2, dtype: float64"
      ]
     },
     "execution_count": 202,
     "metadata": {
      "tags": []
     },
     "output_type": "execute_result"
    }
   ],
   "source": [
    "# investigate second top principal components for cluster 0\n",
    "\n",
    "pca_comp_corr(clean_customers, pca, 3, 5, True)"
   ]
  },
  {
   "cell_type": "code",
   "execution_count": 0,
   "metadata": {
    "colab": {
     "base_uri": "https://localhost:8080/",
     "height": 742
    },
    "colab_type": "code",
    "id": "b1rYl_set5UV",
    "outputId": "df7e4455-0e02-4a35-f9a1-5ef650f20d6f"
   },
   "outputs": [
    {
     "data": {
      "image/png": "[encoded data removed]",
      "text/plain": [
       "<Figure size 864x432 with 1 Axes>"
      ]
     },
     "metadata": {
      "tags": []
     },
     "output_type": "display_data"
    },
    {
     "data": {
      "text/plain": [
       "D19_LOTTO                     0.3206\n",
       "D19_REISEN                    0.2686\n",
       "D19_KOSMETIK                  0.2286\n",
       "D19_BANKEN_DATUM              0.1955\n",
       "D19_BANKEN_ONLINE_DATUM       0.1890\n",
       "D19_BANKEN_DIREKT            -0.1047\n",
       "KBA13_KMH_250                -0.1110\n",
       "KBA13_KMH_211                -0.1120\n",
       "D19_BANKEN_ONLINE_QUOTE_12   -0.2471\n",
       "MIN_GEBAEUDEJAHR             -0.3457\n",
       "Name: 3, dtype: float64"
      ]
     },
     "execution_count": 203,
     "metadata": {
      "tags": []
     },
     "output_type": "execute_result"
    }
   ],
   "source": [
    "# investigate third top principal components for cluster 0\n",
    "\n",
    "pca_comp_corr(clean_customers, pca, 4, 5, True)"
   ]
  },
  {
   "cell_type": "markdown",
   "metadata": {
    "colab": {},
    "colab_type": "code",
    "id": "Am8bDjp9t5JA"
   },
   "source": [
    "### observation for over represented cluster\n",
    "#### people in the under represented cluster have the following features\n",
    "\n",
    "##### 'D19_BANKEN_LOKALKBA05_KRSZUL', \n",
    "##### 'KBA05_ZUL4',\n",
    "##### 'WOHNLAGE',\n",
    "##### 'KBA05_MAXAH',\n",
    "##### 'MIN_GEBAEUDEJAHR',\n",
    "##### 'KBA13_SITZE_5',\n",
    "##### 'KBA13_KMH_140_210',\n",
    "##### 'KBA13_HALTER_20',\n",
    "##### 'KBA13_KW_50',\n",
    "##### 'D19_LOTTO',\n",
    "##### 'D19_REISEN',\n",
    "##### 'D19_KOSMETIK',\n",
    "##### 'D19_BANKEN_DATUM',\n",
    "##### 'D19_BANKEN_ONLINE_DATUM'\n"
   ]
  },
  {
   "cell_type": "code",
   "execution_count": 0,
   "metadata": {
    "colab": {
     "base_uri": "https://localhost:8080/",
     "height": 123
    },
    "colab_type": "code",
    "id": "-pbbLCMGojyv",
    "outputId": "9c696365-ecc8-4d87-dac8-3e49fbfcc4d1"
   },
   "outputs": [
    {
     "data": {
      "text/plain": [
       "7     1.250155\n",
       "2     0.542815\n",
       "24    0.322386\n",
       "64    0.267544\n",
       "13    0.249298\n",
       "dtype: float64"
      ]
     },
     "execution_count": 192,
     "metadata": {
      "tags": []
     },
     "output_type": "execute_result"
    }
   ],
   "source": [
    "#investigating underrepresented cluster 8\n",
    "\n",
    "#top 5 principal components of cluster 8\n",
    "top_pc_8 = gmm_model.means_[8]\n",
    "top_pc_8 = pd.Series(top_pc_8)\n",
    "top_pc_8.sort_values(ascending=False, inplace=True)\n",
    "top_pc_8.head(5)"
   ]
  },
  {
   "cell_type": "code",
   "execution_count": 0,
   "metadata": {
    "colab": {
     "base_uri": "https://localhost:8080/",
     "height": 736
    },
    "colab_type": "code",
    "id": "mafZ7VPGojio",
    "outputId": "7371adc9-1b6e-4a18-ab43-0d118d936d21"
   },
   "outputs": [
    {
     "data": {
      "image/png": "[encoded data removed]",
      "text/plain": [
       "<Figure size 864x432 with 1 Axes>"
      ]
     },
     "metadata": {
      "tags": []
     },
     "output_type": "display_data"
    },
    {
     "data": {
      "text/plain": [
       "ANZ_STATISTISCHE_HAUSHALTE    0.3702\n",
       "ANZ_HAUSHALTE_AKTIV           0.3524\n",
       "D19_HAUS_DEKO                 0.1596\n",
       "KBA13_CCM_1401_2500           0.1092\n",
       "KBA13_BJ_2008                 0.1065\n",
       "D19_VERSAND_OFFLINE_DATUM    -0.1531\n",
       "D19_GESAMT_OFFLINE_DATUM     -0.1621\n",
       "KBA13_KW_50                  -0.1655\n",
       "D19_KOSMETIK                 -0.1988\n",
       "D19_LOTTO                    -0.4121\n",
       "Name: 6, dtype: float64"
      ]
     },
     "execution_count": 195,
     "metadata": {
      "tags": []
     },
     "output_type": "execute_result"
    }
   ],
   "source": [
    "# investigate first top principal components for cluster 8\n",
    "\n",
    "pca_comp_corr(clean_customers, pca, 7, 5, True)"
   ]
  },
  {
   "cell_type": "code",
   "execution_count": 0,
   "metadata": {
    "colab": {
     "base_uri": "https://localhost:8080/",
     "height": 742
    },
    "colab_type": "code",
    "id": "Hpx9uFvZpzzk",
    "outputId": "f9eeef56-27b1-4ca3-afdd-30d58fa2240e"
   },
   "outputs": [
    {
     "data": {
      "image/png": "[encoded data removed]",
      "text/plain": [
       "<Figure size 864x432 with 1 Axes>"
      ]
     },
     "metadata": {
      "tags": []
     },
     "output_type": "display_data"
    },
    {
     "data": {
      "text/plain": [
       "D19_BANKEN_ONLINE_QUOTE_12    0.1902\n",
       "ANZ_HAUSHALTE_AKTIV           0.1896\n",
       "ANZ_STATISTISCHE_HAUSHALTE    0.1894\n",
       "KBA13_ANTG3                   0.1648\n",
       "D19_BANKEN_DIREKT             0.1579\n",
       "PLZ8_ANTG1                   -0.1507\n",
       "KBA13_AUTOQUOTE              -0.1612\n",
       "D19_BANKEN_ONLINE_DATUM      -0.1621\n",
       "MIN_GEBAEUDEJAHR             -0.1778\n",
       "D19_BANKEN_DATUM             -0.1846\n",
       "Name: 1, dtype: float64"
      ]
     },
     "execution_count": 196,
     "metadata": {
      "tags": []
     },
     "output_type": "execute_result"
    }
   ],
   "source": [
    "# investigate second top principal components for cluster 8\n",
    "pca_comp_corr(clean_customers, pca, 2, 5, True)"
   ]
  },
  {
   "cell_type": "code",
   "execution_count": 0,
   "metadata": {
    "colab": {
     "base_uri": "https://localhost:8080/",
     "height": 696
    },
    "colab_type": "code",
    "id": "RpXks5-s7Bz-",
    "outputId": "37ecbb83-6479-46c2-c999-48b7097db24e"
   },
   "outputs": [
    {
     "data": {
      "image/png": "[encoded data removed]",
      "text/plain": [
       "<Figure size 864x432 with 1 Axes>"
      ]
     },
     "metadata": {
      "tags": []
     },
     "output_type": "display_data"
    },
    {
     "data": {
      "text/plain": [
       "D19_HAUS_DEKO          0.3279\n",
       "D19_SAMMELARTIKEL      0.2561\n",
       "D19_BEKLEIDUNG_REST    0.2217\n",
       "D19_BILDUNG            0.1787\n",
       "D19_RATGEBER           0.1711\n",
       "D19_FREIZEIT          -0.1805\n",
       "D19_DROGERIEARTIKEL   -0.2540\n",
       "D19_VERSI_DATUM       -0.2830\n",
       "WOHNDAUER_2008        -0.3313\n",
       "D19_VERSAND_REST      -0.4346\n",
       "Name: 23, dtype: float64"
      ]
     },
     "execution_count": 197,
     "metadata": {
      "tags": []
     },
     "output_type": "execute_result"
    }
   ],
   "source": [
    "# investigate third top principal components for cluster 8\n",
    "pca_comp_corr(clean_customers, pca, 24, 5, True)"
   ]
  },
  {
   "cell_type": "markdown",
   "metadata": {
    "colab": {},
    "colab_type": "code",
    "id": "cIyDpgPa7Bhh"
   },
   "source": [
    "### most important features for under represented cluster\n",
    "#### people in the under represented cluster have the following features\n",
    "##### 'ANZ_STATISTISCHE_HAUSHALTE',\n",
    "##### 'ANZ_HAUSHALTE_AKTIV',\n",
    "##### 'KBA13_CCM_1401_2500',\n",
    "##### 'KBA13_BJ_2008',\n",
    "##### 'D19_BANKEN_ONLINE_QUOTE_12',\n",
    "##### 'KBA13_ANTG3',\n",
    "##### 'D19_BANKEN_DIREKT',\n",
    "##### 'D19_HAUS_DEKO',\n",
    "##### 'D19_SAMMELARTIKEL',\n",
    "##### 'D19_BEKLEIDUNG_REST',\n",
    "##### 'D19_BILDUNG',\n",
    "##### 'D19_RATGEBER'\n",
    "\n"
   ]
  },
  {
   "cell_type": "code",
   "execution_count": 0,
   "metadata": {
    "colab": {
     "base_uri": "https://localhost:8080/",
     "height": 123
    },
    "colab_type": "code",
    "id": "yVZjQU0Vt42q",
    "outputId": "cf82d072-cab4-4595-a1cf-94b6d0e107df"
   },
   "outputs": [
    {
     "data": {
      "text/plain": [
       "4    7.946779\n",
       "0    7.623601\n",
       "5    4.281092\n",
       "2    3.984800\n",
       "9    1.291436\n",
       "dtype: float64"
      ]
     },
     "execution_count": 206,
     "metadata": {
      "tags": []
     },
     "output_type": "execute_result"
    }
   ],
   "source": [
    "#investigating cluster with no customer representation\n",
    "\n",
    "\n",
    "#top 5 principal components of cluster 5\n",
    "top_pc_5 = gmm_model.means_[5]\n",
    "top_pc_5 = pd.Series(top_pc_5)\n",
    "top_pc_5.sort_values(ascending=False, inplace=True)\n",
    "top_pc_5.head(5)"
   ]
  },
  {
   "cell_type": "code",
   "execution_count": 0,
   "metadata": {
    "colab": {
     "base_uri": "https://localhost:8080/",
     "height": 742
    },
    "colab_type": "code",
    "id": "GWJSsbtY7BRV",
    "outputId": "4d18f585-db9b-4923-9c9f-dab6622de6fa"
   },
   "outputs": [
    {
     "data": {
      "image/png": "[encoded data removed]",
      "text/plain": [
       "<Figure size 864x432 with 1 Axes>"
      ]
     },
     "metadata": {
      "tags": []
     },
     "output_type": "display_data"
    },
    {
     "data": {
      "text/plain": [
       "D19_LOTTO                     0.3206\n",
       "D19_REISEN                    0.2686\n",
       "D19_KOSMETIK                  0.2286\n",
       "D19_BANKEN_DATUM              0.1955\n",
       "D19_BANKEN_ONLINE_DATUM       0.1890\n",
       "D19_BANKEN_DIREKT            -0.1047\n",
       "KBA13_KMH_250                -0.1110\n",
       "KBA13_KMH_211                -0.1120\n",
       "D19_BANKEN_ONLINE_QUOTE_12   -0.2471\n",
       "MIN_GEBAEUDEJAHR             -0.3457\n",
       "Name: 3, dtype: float64"
      ]
     },
     "execution_count": 207,
     "metadata": {
      "tags": []
     },
     "output_type": "execute_result"
    }
   ],
   "source": [
    "# investigate first top principal components for cluster 5\n",
    "pca_comp_corr(clean_customers, pca, 4, 5, True)"
   ]
  },
  {
   "cell_type": "code",
   "execution_count": 0,
   "metadata": {
    "colab": {
     "base_uri": "https://localhost:8080/",
     "height": 680
    },
    "colab_type": "code",
    "id": "S_iy6TzItBB2",
    "outputId": "fc464d61-7bcd-44be-973e-5657c38d308f"
   },
   "outputs": [
    {
     "data": {
      "image/png": "[encoded data removed]",
      "text/plain": [
       "<Figure size 864x432 with 1 Axes>"
      ]
     },
     "metadata": {
      "tags": []
     },
     "output_type": "display_data"
    },
    {
     "data": {
      "text/plain": [
       "D19_BANKEN_LOKAL    0.6226\n",
       "KBA05_KRSZUL        0.1458\n",
       "KBA05_ZUL4          0.1330\n",
       "WOHNLAGE            0.1325\n",
       "KBA05_MAXAH         0.1113\n",
       "KBA05_ZUL2         -0.1217\n",
       "RT_SCHNAEPPCHEN    -0.1226\n",
       "KBA13_HALTER_20    -0.1771\n",
       "KBA13_BMW          -0.1773\n",
       "SHOPPER_TYP        -0.2712\n",
       "Name: 89, dtype: float64"
      ]
     },
     "execution_count": 208,
     "metadata": {
      "tags": []
     },
     "output_type": "execute_result"
    }
   ],
   "source": [
    "# investigate second top principal components for cluster 5\n",
    "pca_comp_corr(clean_customers, pca, 0 , 5, True)"
   ]
  },
  {
   "cell_type": "code",
   "execution_count": 0,
   "metadata": {
    "colab": {
     "base_uri": "https://localhost:8080/",
     "height": 742
    },
    "colab_type": "code",
    "id": "_vpNaHNGtAye",
    "outputId": "16ccc18d-0ebb-4c51-82a7-af0dd9393438"
   },
   "outputs": [
    {
     "data": {
      "image/png": "[encoded data removed]",
      "text/plain": [
       "<Figure size 864x432 with 1 Axes>"
      ]
     },
     "metadata": {
      "tags": []
     },
     "output_type": "display_data"
    },
    {
     "data": {
      "text/plain": [
       "MIN_GEBAEUDEJAHR              0.6870\n",
       "D19_BANKEN_DATUM              0.2410\n",
       "D19_BANKEN_ONLINE_DATUM       0.2386\n",
       "KBA05_HERSTTEMP               0.1403\n",
       "D19_BEKLEIDUNG_REST           0.1336\n",
       "D19_BANKEN_GROSS             -0.0780\n",
       "MOBI_REGIO                   -0.0796\n",
       "D19_BANKEN_DIREKT            -0.0819\n",
       "D19_BANKEN_ANZ_24            -0.0939\n",
       "D19_BANKEN_ONLINE_QUOTE_12   -0.3466\n",
       "Name: 4, dtype: float64"
      ]
     },
     "execution_count": 209,
     "metadata": {
      "tags": []
     },
     "output_type": "execute_result"
    }
   ],
   "source": [
    "# investigate third  top principal components for cluster 5\n",
    "pca_comp_corr(clean_customers, pca, 5, 5, True)"
   ]
  },
  {
   "cell_type": "markdown",
   "metadata": {
    "colab": {},
    "colab_type": "code",
    "id": "auX-cJX1tAi1"
   },
   "source": [
    "### observation for cluster with no customers\n",
    "#### people in cluster with no customerss have the following features\n",
    "##### 'D19_LOTTO',\n",
    "##### 'D19_REISEN',\n",
    "##### 'D19_KOSMETIK',\n",
    "##### 'D19_BANKEN_LOKAL',\n",
    "##### 'KBA05_KRSZUL',\n",
    "##### 'KBA05_ZUL4',\n",
    "##### 'WOHNLAGE',\n",
    "##### 'KBA05_MAXAH',\n",
    "##### 'MIN_GEBAEUDEJAHR',\n",
    "##### 'D19_BANKEN_DATU',\n",
    "##### 'D19_BANKEN_ONLINE_DATUM',\n",
    "##### 'KBA05_HERSTTEMP',\n",
    "##### 'D19_BEKLEIDUNG_REST']"
   ]
  },
  {
   "cell_type": "markdown",
   "metadata": {
    "colab_type": "text",
    "id": "Wex91u2tgtsG"
   },
   "source": [
    "## Part 2: Supervised Learning Model\n",
    "\n",
    "Now that you've found which parts of the population are more likely to be customers of the mail-order company, it's time to build a prediction model. Each of the rows in the \"MAILOUT\" data files represents an individual that was targeted for a mailout campaign. Ideally, we should be able to use the demographic information from each individual to decide whether or not it will be worth it to include that person in the campaign.\n",
    "\n",
    "The \"MAILOUT\" data has been split into two approximately equal parts, each with almost 43 000 data rows. In this part, you can verify your model with the \"TRAIN\" partition, which includes a column, \"RESPONSE\", that states whether or not a person became a customer of the company following the campaign. In the next part, you'll need to create predictions on the \"TEST\" partition, where the \"RESPONSE\" column has been withheld."
   ]
  },
  {
   "cell_type": "code",
   "execution_count": 0,
   "metadata": {
    "colab": {},
    "colab_type": "code",
    "id": "Y7aoS9wYgtsL"
   },
   "outputs": [],
   "source": [
    "#Reading in data\n",
    "train = pd.read_csv('/content/drive/My Drive/data capstone/Udacity_MAILOUT_052018_TRAIN.csv', sep=';', low_memory=False)"
   ]
  },
  {
   "cell_type": "code",
   "execution_count": 0,
   "metadata": {
    "colab": {
     "base_uri": "https://localhost:8080/",
     "height": 246
    },
    "colab_type": "code",
    "id": "iIHkY4jmgtsc",
    "outputId": "106db2c5-8133-4d14-8773-4c3228cfa21d"
   },
   "outputs": [
    {
     "data": {
      "text/html": [
       "<div>\n",
       "<style scoped>\n",
       "    .dataframe tbody tr th:only-of-type {\n",
       "        vertical-align: middle;\n",
       "    }\n",
       "\n",
       "    .dataframe tbody tr th {\n",
       "        vertical-align: top;\n",
       "    }\n",
       "\n",
       "    .dataframe thead th {\n",
       "        text-align: right;\n",
       "    }\n",
       "</style>\n",
       "<table border=\"1\" class=\"dataframe\">\n",
       "  <thead>\n",
       "    <tr style=\"text-align: right;\">\n",
       "      <th></th>\n",
       "      <th>LNR</th>\n",
       "      <th>AGER_TYP</th>\n",
       "      <th>AKT_DAT_KL</th>\n",
       "      <th>ALTER_HH</th>\n",
       "      <th>ALTER_KIND1</th>\n",
       "      <th>ALTER_KIND2</th>\n",
       "      <th>ALTER_KIND3</th>\n",
       "      <th>ALTER_KIND4</th>\n",
       "      <th>ALTERSKATEGORIE_FEIN</th>\n",
       "      <th>ANZ_HAUSHALTE_AKTIV</th>\n",
       "      <th>ANZ_HH_TITEL</th>\n",
       "      <th>ANZ_KINDER</th>\n",
       "      <th>ANZ_PERSONEN</th>\n",
       "      <th>ANZ_STATISTISCHE_HAUSHALTE</th>\n",
       "      <th>ANZ_TITEL</th>\n",
       "      <th>ARBEIT</th>\n",
       "      <th>BALLRAUM</th>\n",
       "      <th>CAMEO_DEU_2015</th>\n",
       "      <th>CAMEO_DEUG_2015</th>\n",
       "      <th>CAMEO_INTL_2015</th>\n",
       "      <th>CJT_GESAMTTYP</th>\n",
       "      <th>CJT_KATALOGNUTZER</th>\n",
       "      <th>CJT_TYP_1</th>\n",
       "      <th>CJT_TYP_2</th>\n",
       "      <th>CJT_TYP_3</th>\n",
       "      <th>CJT_TYP_4</th>\n",
       "      <th>CJT_TYP_5</th>\n",
       "      <th>CJT_TYP_6</th>\n",
       "      <th>D19_BANKEN_ANZ_12</th>\n",
       "      <th>D19_BANKEN_ANZ_24</th>\n",
       "      <th>D19_BANKEN_DATUM</th>\n",
       "      <th>D19_BANKEN_DIREKT</th>\n",
       "      <th>D19_BANKEN_GROSS</th>\n",
       "      <th>D19_BANKEN_LOKAL</th>\n",
       "      <th>D19_BANKEN_OFFLINE_DATUM</th>\n",
       "      <th>D19_BANKEN_ONLINE_DATUM</th>\n",
       "      <th>D19_BANKEN_ONLINE_QUOTE_12</th>\n",
       "      <th>D19_BANKEN_REST</th>\n",
       "      <th>D19_BEKLEIDUNG_GEH</th>\n",
       "      <th>D19_BEKLEIDUNG_REST</th>\n",
       "      <th>...</th>\n",
       "      <th>RELAT_AB</th>\n",
       "      <th>RETOURTYP_BK_S</th>\n",
       "      <th>RT_KEIN_ANREIZ</th>\n",
       "      <th>RT_SCHNAEPPCHEN</th>\n",
       "      <th>RT_UEBERGROESSE</th>\n",
       "      <th>SEMIO_DOM</th>\n",
       "      <th>SEMIO_ERL</th>\n",
       "      <th>SEMIO_FAM</th>\n",
       "      <th>SEMIO_KAEM</th>\n",
       "      <th>SEMIO_KRIT</th>\n",
       "      <th>SEMIO_KULT</th>\n",
       "      <th>SEMIO_LUST</th>\n",
       "      <th>SEMIO_MAT</th>\n",
       "      <th>SEMIO_PFLICHT</th>\n",
       "      <th>SEMIO_RAT</th>\n",
       "      <th>SEMIO_REL</th>\n",
       "      <th>SEMIO_SOZ</th>\n",
       "      <th>SEMIO_TRADV</th>\n",
       "      <th>SEMIO_VERT</th>\n",
       "      <th>SHOPPER_TYP</th>\n",
       "      <th>SOHO_KZ</th>\n",
       "      <th>STRUKTURTYP</th>\n",
       "      <th>TITEL_KZ</th>\n",
       "      <th>UMFELD_ALT</th>\n",
       "      <th>UMFELD_JUNG</th>\n",
       "      <th>UNGLEICHENN_FLAG</th>\n",
       "      <th>VERDICHTUNGSRAUM</th>\n",
       "      <th>VERS_TYP</th>\n",
       "      <th>VHA</th>\n",
       "      <th>VHN</th>\n",
       "      <th>VK_DHT4A</th>\n",
       "      <th>VK_DISTANZ</th>\n",
       "      <th>VK_ZG11</th>\n",
       "      <th>W_KEIT_KIND_HH</th>\n",
       "      <th>WOHNDAUER_2008</th>\n",
       "      <th>WOHNLAGE</th>\n",
       "      <th>ZABEOTYP</th>\n",
       "      <th>RESPONSE</th>\n",
       "      <th>ANREDE_KZ</th>\n",
       "      <th>ALTERSKATEGORIE_GROB</th>\n",
       "    </tr>\n",
       "  </thead>\n",
       "  <tbody>\n",
       "    <tr>\n",
       "      <th>0</th>\n",
       "      <td>1763</td>\n",
       "      <td>2</td>\n",
       "      <td>1.0</td>\n",
       "      <td>8.0</td>\n",
       "      <td>NaN</td>\n",
       "      <td>NaN</td>\n",
       "      <td>NaN</td>\n",
       "      <td>NaN</td>\n",
       "      <td>8.0</td>\n",
       "      <td>15.0</td>\n",
       "      <td>0.0</td>\n",
       "      <td>0.0</td>\n",
       "      <td>1.0</td>\n",
       "      <td>13.0</td>\n",
       "      <td>0.0</td>\n",
       "      <td>3.0</td>\n",
       "      <td>5.0</td>\n",
       "      <td>5D</td>\n",
       "      <td>5</td>\n",
       "      <td>34</td>\n",
       "      <td>2.0</td>\n",
       "      <td>5.0</td>\n",
       "      <td>2.0</td>\n",
       "      <td>2.0</td>\n",
       "      <td>5.0</td>\n",
       "      <td>5.0</td>\n",
       "      <td>5.0</td>\n",
       "      <td>5.0</td>\n",
       "      <td>0</td>\n",
       "      <td>0</td>\n",
       "      <td>10</td>\n",
       "      <td>0</td>\n",
       "      <td>0</td>\n",
       "      <td>0</td>\n",
       "      <td>10</td>\n",
       "      <td>10</td>\n",
       "      <td>0.0</td>\n",
       "      <td>0</td>\n",
       "      <td>0</td>\n",
       "      <td>0</td>\n",
       "      <td>...</td>\n",
       "      <td>5.0</td>\n",
       "      <td>5.0</td>\n",
       "      <td>2.0</td>\n",
       "      <td>5.0</td>\n",
       "      <td>1.0</td>\n",
       "      <td>6</td>\n",
       "      <td>7</td>\n",
       "      <td>2</td>\n",
       "      <td>6</td>\n",
       "      <td>6</td>\n",
       "      <td>1</td>\n",
       "      <td>7</td>\n",
       "      <td>1</td>\n",
       "      <td>3</td>\n",
       "      <td>2</td>\n",
       "      <td>1</td>\n",
       "      <td>5</td>\n",
       "      <td>1</td>\n",
       "      <td>3</td>\n",
       "      <td>3</td>\n",
       "      <td>0.0</td>\n",
       "      <td>3.0</td>\n",
       "      <td>0.0</td>\n",
       "      <td>2.0</td>\n",
       "      <td>4.0</td>\n",
       "      <td>0.0</td>\n",
       "      <td>4.0</td>\n",
       "      <td>2</td>\n",
       "      <td>1.0</td>\n",
       "      <td>2.0</td>\n",
       "      <td>5.0</td>\n",
       "      <td>2.0</td>\n",
       "      <td>1.0</td>\n",
       "      <td>6.0</td>\n",
       "      <td>9.0</td>\n",
       "      <td>3.0</td>\n",
       "      <td>3</td>\n",
       "      <td>0</td>\n",
       "      <td>2</td>\n",
       "      <td>4</td>\n",
       "    </tr>\n",
       "    <tr>\n",
       "      <th>1</th>\n",
       "      <td>1771</td>\n",
       "      <td>1</td>\n",
       "      <td>4.0</td>\n",
       "      <td>13.0</td>\n",
       "      <td>NaN</td>\n",
       "      <td>NaN</td>\n",
       "      <td>NaN</td>\n",
       "      <td>NaN</td>\n",
       "      <td>13.0</td>\n",
       "      <td>1.0</td>\n",
       "      <td>0.0</td>\n",
       "      <td>0.0</td>\n",
       "      <td>2.0</td>\n",
       "      <td>1.0</td>\n",
       "      <td>0.0</td>\n",
       "      <td>2.0</td>\n",
       "      <td>5.0</td>\n",
       "      <td>5B</td>\n",
       "      <td>5</td>\n",
       "      <td>32</td>\n",
       "      <td>2.0</td>\n",
       "      <td>2.0</td>\n",
       "      <td>2.0</td>\n",
       "      <td>2.0</td>\n",
       "      <td>4.0</td>\n",
       "      <td>3.0</td>\n",
       "      <td>5.0</td>\n",
       "      <td>4.0</td>\n",
       "      <td>1</td>\n",
       "      <td>1</td>\n",
       "      <td>5</td>\n",
       "      <td>0</td>\n",
       "      <td>0</td>\n",
       "      <td>3</td>\n",
       "      <td>10</td>\n",
       "      <td>10</td>\n",
       "      <td>0.0</td>\n",
       "      <td>0</td>\n",
       "      <td>0</td>\n",
       "      <td>6</td>\n",
       "      <td>...</td>\n",
       "      <td>1.0</td>\n",
       "      <td>2.0</td>\n",
       "      <td>3.0</td>\n",
       "      <td>1.0</td>\n",
       "      <td>3.0</td>\n",
       "      <td>6</td>\n",
       "      <td>6</td>\n",
       "      <td>1</td>\n",
       "      <td>5</td>\n",
       "      <td>6</td>\n",
       "      <td>3</td>\n",
       "      <td>6</td>\n",
       "      <td>5</td>\n",
       "      <td>5</td>\n",
       "      <td>4</td>\n",
       "      <td>3</td>\n",
       "      <td>1</td>\n",
       "      <td>3</td>\n",
       "      <td>4</td>\n",
       "      <td>2</td>\n",
       "      <td>0.0</td>\n",
       "      <td>1.0</td>\n",
       "      <td>0.0</td>\n",
       "      <td>2.0</td>\n",
       "      <td>5.0</td>\n",
       "      <td>0.0</td>\n",
       "      <td>0.0</td>\n",
       "      <td>1</td>\n",
       "      <td>1.0</td>\n",
       "      <td>3.0</td>\n",
       "      <td>1.0</td>\n",
       "      <td>2.0</td>\n",
       "      <td>1.0</td>\n",
       "      <td>4.0</td>\n",
       "      <td>9.0</td>\n",
       "      <td>7.0</td>\n",
       "      <td>1</td>\n",
       "      <td>0</td>\n",
       "      <td>2</td>\n",
       "      <td>3</td>\n",
       "    </tr>\n",
       "    <tr>\n",
       "      <th>2</th>\n",
       "      <td>1776</td>\n",
       "      <td>1</td>\n",
       "      <td>1.0</td>\n",
       "      <td>9.0</td>\n",
       "      <td>NaN</td>\n",
       "      <td>NaN</td>\n",
       "      <td>NaN</td>\n",
       "      <td>NaN</td>\n",
       "      <td>7.0</td>\n",
       "      <td>0.0</td>\n",
       "      <td>NaN</td>\n",
       "      <td>0.0</td>\n",
       "      <td>0.0</td>\n",
       "      <td>1.0</td>\n",
       "      <td>0.0</td>\n",
       "      <td>4.0</td>\n",
       "      <td>1.0</td>\n",
       "      <td>2D</td>\n",
       "      <td>2</td>\n",
       "      <td>14</td>\n",
       "      <td>4.0</td>\n",
       "      <td>5.0</td>\n",
       "      <td>1.0</td>\n",
       "      <td>1.0</td>\n",
       "      <td>5.0</td>\n",
       "      <td>5.0</td>\n",
       "      <td>5.0</td>\n",
       "      <td>5.0</td>\n",
       "      <td>0</td>\n",
       "      <td>1</td>\n",
       "      <td>7</td>\n",
       "      <td>0</td>\n",
       "      <td>0</td>\n",
       "      <td>0</td>\n",
       "      <td>10</td>\n",
       "      <td>7</td>\n",
       "      <td>0.0</td>\n",
       "      <td>5</td>\n",
       "      <td>0</td>\n",
       "      <td>0</td>\n",
       "      <td>...</td>\n",
       "      <td>4.0</td>\n",
       "      <td>3.0</td>\n",
       "      <td>1.0</td>\n",
       "      <td>5.0</td>\n",
       "      <td>2.0</td>\n",
       "      <td>3</td>\n",
       "      <td>3</td>\n",
       "      <td>4</td>\n",
       "      <td>1</td>\n",
       "      <td>3</td>\n",
       "      <td>4</td>\n",
       "      <td>7</td>\n",
       "      <td>6</td>\n",
       "      <td>1</td>\n",
       "      <td>1</td>\n",
       "      <td>5</td>\n",
       "      <td>3</td>\n",
       "      <td>1</td>\n",
       "      <td>7</td>\n",
       "      <td>3</td>\n",
       "      <td>0.0</td>\n",
       "      <td>3.0</td>\n",
       "      <td>0.0</td>\n",
       "      <td>1.0</td>\n",
       "      <td>5.0</td>\n",
       "      <td>0.0</td>\n",
       "      <td>10.0</td>\n",
       "      <td>1</td>\n",
       "      <td>4.0</td>\n",
       "      <td>1.0</td>\n",
       "      <td>6.0</td>\n",
       "      <td>4.0</td>\n",
       "      <td>2.0</td>\n",
       "      <td>NaN</td>\n",
       "      <td>9.0</td>\n",
       "      <td>2.0</td>\n",
       "      <td>3</td>\n",
       "      <td>0</td>\n",
       "      <td>1</td>\n",
       "      <td>4</td>\n",
       "    </tr>\n",
       "    <tr>\n",
       "      <th>3</th>\n",
       "      <td>1460</td>\n",
       "      <td>2</td>\n",
       "      <td>1.0</td>\n",
       "      <td>6.0</td>\n",
       "      <td>NaN</td>\n",
       "      <td>NaN</td>\n",
       "      <td>NaN</td>\n",
       "      <td>NaN</td>\n",
       "      <td>6.0</td>\n",
       "      <td>4.0</td>\n",
       "      <td>0.0</td>\n",
       "      <td>0.0</td>\n",
       "      <td>2.0</td>\n",
       "      <td>4.0</td>\n",
       "      <td>0.0</td>\n",
       "      <td>4.0</td>\n",
       "      <td>2.0</td>\n",
       "      <td>2D</td>\n",
       "      <td>2</td>\n",
       "      <td>14</td>\n",
       "      <td>2.0</td>\n",
       "      <td>5.0</td>\n",
       "      <td>2.0</td>\n",
       "      <td>2.0</td>\n",
       "      <td>5.0</td>\n",
       "      <td>5.0</td>\n",
       "      <td>5.0</td>\n",
       "      <td>4.0</td>\n",
       "      <td>0</td>\n",
       "      <td>0</td>\n",
       "      <td>10</td>\n",
       "      <td>0</td>\n",
       "      <td>0</td>\n",
       "      <td>0</td>\n",
       "      <td>10</td>\n",
       "      <td>10</td>\n",
       "      <td>0.0</td>\n",
       "      <td>0</td>\n",
       "      <td>0</td>\n",
       "      <td>6</td>\n",
       "      <td>...</td>\n",
       "      <td>3.0</td>\n",
       "      <td>5.0</td>\n",
       "      <td>2.0</td>\n",
       "      <td>5.0</td>\n",
       "      <td>1.0</td>\n",
       "      <td>5</td>\n",
       "      <td>7</td>\n",
       "      <td>1</td>\n",
       "      <td>6</td>\n",
       "      <td>7</td>\n",
       "      <td>1</td>\n",
       "      <td>7</td>\n",
       "      <td>1</td>\n",
       "      <td>4</td>\n",
       "      <td>2</td>\n",
       "      <td>2</td>\n",
       "      <td>5</td>\n",
       "      <td>3</td>\n",
       "      <td>2</td>\n",
       "      <td>1</td>\n",
       "      <td>0.0</td>\n",
       "      <td>3.0</td>\n",
       "      <td>0.0</td>\n",
       "      <td>3.0</td>\n",
       "      <td>5.0</td>\n",
       "      <td>0.0</td>\n",
       "      <td>5.0</td>\n",
       "      <td>2</td>\n",
       "      <td>1.0</td>\n",
       "      <td>4.0</td>\n",
       "      <td>8.0</td>\n",
       "      <td>11.0</td>\n",
       "      <td>11.0</td>\n",
       "      <td>6.0</td>\n",
       "      <td>9.0</td>\n",
       "      <td>1.0</td>\n",
       "      <td>3</td>\n",
       "      <td>0</td>\n",
       "      <td>2</td>\n",
       "      <td>4</td>\n",
       "    </tr>\n",
       "    <tr>\n",
       "      <th>4</th>\n",
       "      <td>1783</td>\n",
       "      <td>2</td>\n",
       "      <td>1.0</td>\n",
       "      <td>9.0</td>\n",
       "      <td>NaN</td>\n",
       "      <td>NaN</td>\n",
       "      <td>NaN</td>\n",
       "      <td>NaN</td>\n",
       "      <td>9.0</td>\n",
       "      <td>53.0</td>\n",
       "      <td>0.0</td>\n",
       "      <td>0.0</td>\n",
       "      <td>1.0</td>\n",
       "      <td>44.0</td>\n",
       "      <td>0.0</td>\n",
       "      <td>3.0</td>\n",
       "      <td>4.0</td>\n",
       "      <td>7B</td>\n",
       "      <td>7</td>\n",
       "      <td>41</td>\n",
       "      <td>6.0</td>\n",
       "      <td>5.0</td>\n",
       "      <td>1.0</td>\n",
       "      <td>2.0</td>\n",
       "      <td>5.0</td>\n",
       "      <td>5.0</td>\n",
       "      <td>5.0</td>\n",
       "      <td>5.0</td>\n",
       "      <td>0</td>\n",
       "      <td>0</td>\n",
       "      <td>10</td>\n",
       "      <td>0</td>\n",
       "      <td>0</td>\n",
       "      <td>0</td>\n",
       "      <td>10</td>\n",
       "      <td>10</td>\n",
       "      <td>0.0</td>\n",
       "      <td>0</td>\n",
       "      <td>5</td>\n",
       "      <td>0</td>\n",
       "      <td>...</td>\n",
       "      <td>3.0</td>\n",
       "      <td>5.0</td>\n",
       "      <td>1.0</td>\n",
       "      <td>5.0</td>\n",
       "      <td>1.0</td>\n",
       "      <td>5</td>\n",
       "      <td>4</td>\n",
       "      <td>6</td>\n",
       "      <td>2</td>\n",
       "      <td>5</td>\n",
       "      <td>5</td>\n",
       "      <td>6</td>\n",
       "      <td>6</td>\n",
       "      <td>4</td>\n",
       "      <td>5</td>\n",
       "      <td>4</td>\n",
       "      <td>6</td>\n",
       "      <td>2</td>\n",
       "      <td>7</td>\n",
       "      <td>1</td>\n",
       "      <td>0.0</td>\n",
       "      <td>3.0</td>\n",
       "      <td>0.0</td>\n",
       "      <td>2.0</td>\n",
       "      <td>5.0</td>\n",
       "      <td>0.0</td>\n",
       "      <td>4.0</td>\n",
       "      <td>1</td>\n",
       "      <td>0.0</td>\n",
       "      <td>4.0</td>\n",
       "      <td>2.0</td>\n",
       "      <td>2.0</td>\n",
       "      <td>1.0</td>\n",
       "      <td>6.0</td>\n",
       "      <td>9.0</td>\n",
       "      <td>3.0</td>\n",
       "      <td>3</td>\n",
       "      <td>0</td>\n",
       "      <td>1</td>\n",
       "      <td>3</td>\n",
       "    </tr>\n",
       "  </tbody>\n",
       "</table>\n",
       "<p>5 rows × 367 columns</p>\n",
       "</div>"
      ],
      "text/plain": [
       "    LNR  AGER_TYP  AKT_DAT_KL  ...  RESPONSE  ANREDE_KZ  ALTERSKATEGORIE_GROB\n",
       "0  1763         2         1.0  ...         0          2                     4\n",
       "1  1771         1         4.0  ...         0          2                     3\n",
       "2  1776         1         1.0  ...         0          1                     4\n",
       "3  1460         2         1.0  ...         0          2                     4\n",
       "4  1783         2         1.0  ...         0          1                     3\n",
       "\n",
       "[5 rows x 367 columns]"
      ]
     },
     "execution_count": 127,
     "metadata": {
      "tags": []
     },
     "output_type": "execute_result"
    }
   ],
   "source": [
    "train.head()"
   ]
  },
  {
   "cell_type": "code",
   "execution_count": 0,
   "metadata": {
    "colab": {
     "base_uri": "https://localhost:8080/",
     "height": 34
    },
    "colab_type": "code",
    "id": "uStkObQBo1TL",
    "outputId": "64983c23-1b74-4209-b494-28e073a9ce49"
   },
   "outputs": [
    {
     "data": {
      "text/plain": [
       "(42962, 367)"
      ]
     },
     "execution_count": 128,
     "metadata": {
      "tags": []
     },
     "output_type": "execute_result"
    }
   ],
   "source": [
    "train.shape"
   ]
  },
  {
   "cell_type": "code",
   "execution_count": 0,
   "metadata": {
    "colab": {
     "base_uri": "https://localhost:8080/",
     "height": 70
    },
    "colab_type": "code",
    "id": "FSBGgUzPgtst",
    "outputId": "f40d0199-62f2-49f0-e0f6-8bcff3f2dd21"
   },
   "outputs": [
    {
     "data": {
      "text/plain": [
       "0    42430\n",
       "1      532\n",
       "Name: RESPONSE, dtype: int64"
      ]
     },
     "execution_count": 129,
     "metadata": {
      "tags": []
     },
     "output_type": "execute_result"
    }
   ],
   "source": [
    "train['RESPONSE'].value_counts()"
   ]
  },
  {
   "cell_type": "code",
   "execution_count": 0,
   "metadata": {
    "colab": {
     "base_uri": "https://localhost:8080/",
     "height": 52
    },
    "colab_type": "code",
    "id": "ytd2ZaU8gttT",
    "outputId": "f05a9f93-550f-4799-b5e5-d4cf011deee4"
   },
   "outputs": [
    {
     "name": "stdout",
     "output_type": "stream",
     "text": [
      "customers responded = 1.253829837379213 %\n",
      "customers ignored = 98.74617016262079 %\n"
     ]
    }
   ],
   "source": [
    "#calculating reponse rate\n",
    "responded_percentage = train['RESPONSE'].value_counts()[1]/train['RESPONSE'].value_counts()[0] *100 \n",
    "print('customers responded =',responded_percentage , '%')\n",
    "print('customers ignored =', 100 - responded_percentage , '%')"
   ]
  },
  {
   "cell_type": "markdown",
   "metadata": {
    "colab": {},
    "colab_type": "code",
    "id": "tMDffhuJlXW0"
   },
   "source": [
    "#### as shown above , response classes are highly unbalanced  with only 1.25% reponse rate\n",
    "#### therefore will set the class balance to ''balanced'' in estimators whenever possible"
   ]
  },
  {
   "cell_type": "code",
   "execution_count": 0,
   "metadata": {
    "colab": {},
    "colab_type": "code",
    "id": "677fQSFhoIyt"
   },
   "outputs": [],
   "source": [
    "#checking to see if same columns will be dropped \n",
    "train = replace_unknown_with_nan(train, feat_info, 'Attribute', 'Value')"
   ]
  },
  {
   "cell_type": "code",
   "execution_count": 0,
   "metadata": {
    "colab": {},
    "colab_type": "code",
    "id": "27x_Np0moo4Q"
   },
   "outputs": [],
   "source": [
    "#creating dataframe of missing values percentages for columns\n",
    "total_train = train.isnull().sum().sort_values(ascending=False)\n",
    "percent_train = (train.isnull().sum()/train.isnull().count()).sort_values(ascending=False)\n",
    "missing_data_train = pd.concat([total_train, percent_train], axis=1, keys=['Total', 'Percent'])"
   ]
  },
  {
   "cell_type": "code",
   "execution_count": 0,
   "metadata": {
    "colab": {
     "base_uri": "https://localhost:8080/",
     "height": 347
    },
    "colab_type": "code",
    "id": "pxDtgJ8Boobh",
    "outputId": "c5a5721e-42c3-4379-ed00-bd8848cef979"
   },
   "outputs": [
    {
     "data": {
      "text/html": [
       "<div>\n",
       "<style scoped>\n",
       "    .dataframe tbody tr th:only-of-type {\n",
       "        vertical-align: middle;\n",
       "    }\n",
       "\n",
       "    .dataframe tbody tr th {\n",
       "        vertical-align: top;\n",
       "    }\n",
       "\n",
       "    .dataframe thead th {\n",
       "        text-align: right;\n",
       "    }\n",
       "</style>\n",
       "<table border=\"1\" class=\"dataframe\">\n",
       "  <thead>\n",
       "    <tr style=\"text-align: right;\">\n",
       "      <th></th>\n",
       "      <th>Total</th>\n",
       "      <th>Percent</th>\n",
       "    </tr>\n",
       "  </thead>\n",
       "  <tbody>\n",
       "    <tr>\n",
       "      <th>ALTER_KIND4</th>\n",
       "      <td>42921</td>\n",
       "      <td>0.999046</td>\n",
       "    </tr>\n",
       "    <tr>\n",
       "      <th>ALTER_KIND3</th>\n",
       "      <td>42788</td>\n",
       "      <td>0.995950</td>\n",
       "    </tr>\n",
       "    <tr>\n",
       "      <th>TITEL_KZ</th>\n",
       "      <td>42749</td>\n",
       "      <td>0.995042</td>\n",
       "    </tr>\n",
       "    <tr>\n",
       "      <th>ALTER_KIND2</th>\n",
       "      <td>42206</td>\n",
       "      <td>0.982403</td>\n",
       "    </tr>\n",
       "    <tr>\n",
       "      <th>ALTER_KIND1</th>\n",
       "      <td>40974</td>\n",
       "      <td>0.953727</td>\n",
       "    </tr>\n",
       "    <tr>\n",
       "      <th>KK_KUNDENTYP</th>\n",
       "      <td>25316</td>\n",
       "      <td>0.589265</td>\n",
       "    </tr>\n",
       "    <tr>\n",
       "      <th>KBA05_BAUMAX</th>\n",
       "      <td>22980</td>\n",
       "      <td>0.534891</td>\n",
       "    </tr>\n",
       "    <tr>\n",
       "      <th>AGER_TYP</th>\n",
       "      <td>17963</td>\n",
       "      <td>0.418114</td>\n",
       "    </tr>\n",
       "    <tr>\n",
       "      <th>EXTSEL992</th>\n",
       "      <td>15948</td>\n",
       "      <td>0.371212</td>\n",
       "    </tr>\n",
       "    <tr>\n",
       "      <th>W_KEIT_KIND_HH</th>\n",
       "      <td>10417</td>\n",
       "      <td>0.242470</td>\n",
       "    </tr>\n",
       "  </tbody>\n",
       "</table>\n",
       "</div>"
      ],
      "text/plain": [
       "                Total   Percent\n",
       "ALTER_KIND4     42921  0.999046\n",
       "ALTER_KIND3     42788  0.995950\n",
       "TITEL_KZ        42749  0.995042\n",
       "ALTER_KIND2     42206  0.982403\n",
       "ALTER_KIND1     40974  0.953727\n",
       "KK_KUNDENTYP    25316  0.589265\n",
       "KBA05_BAUMAX    22980  0.534891\n",
       "AGER_TYP        17963  0.418114\n",
       "EXTSEL992       15948  0.371212\n",
       "W_KEIT_KIND_HH  10417  0.242470"
      ]
     },
     "execution_count": 134,
     "metadata": {
      "tags": []
     },
     "output_type": "execute_result"
    }
   ],
   "source": [
    "missing_data_train.head(10)"
   ]
  },
  {
   "cell_type": "markdown",
   "metadata": {},
   "source": [
    "### cleaning train data\n",
    "#### setting drop_rows to False as response classes are highly unbalanced and cannot afford to lose positive reponse observations"
   ]
  },
  {
   "cell_type": "code",
   "execution_count": 0,
   "metadata": {
    "colab": {
     "base_uri": "https://localhost:8080/",
     "height": 34
    },
    "colab_type": "code",
    "id": "Mpg9IeDamAxk",
    "outputId": "38fa4716-df6a-442e-9a80-382961f951c5"
   },
   "outputs": [
    {
     "data": {
      "text/plain": [
       "(42962, 353)"
      ]
     },
     "execution_count": 135,
     "metadata": {
      "tags": []
     },
     "output_type": "execute_result"
    }
   ],
   "source": [
    "#cleaning training date\n",
    "clean_train = clean_data(train, feat_info, False)\n",
    "clean_train.shape"
   ]
  },
  {
   "cell_type": "code",
   "execution_count": 0,
   "metadata": {
    "colab": {},
    "colab_type": "code",
    "id": "tY_TjO-7mAow"
   },
   "outputs": [],
   "source": [
    "#saving and removing the response column\n",
    "response = clean_train['RESPONSE']\n",
    "\n",
    "clean_train.drop(['RESPONSE'], axis=1, inplace=True)"
   ]
  },
  {
   "cell_type": "code",
   "execution_count": 0,
   "metadata": {
    "colab": {
     "base_uri": "https://localhost:8080/",
     "height": 34
    },
    "colab_type": "code",
    "id": "oQOpcolrmAVK",
    "outputId": "066b5915-238e-443a-b599-a777cec59b8b"
   },
   "outputs": [
    {
     "data": {
      "text/plain": [
       "(42962, 352)"
      ]
     },
     "execution_count": 137,
     "metadata": {
      "tags": []
     },
     "output_type": "execute_result"
    }
   ],
   "source": [
    "clean_train.shape"
   ]
  },
  {
   "cell_type": "code",
   "execution_count": 0,
   "metadata": {
    "colab": {
     "base_uri": "https://localhost:8080/",
     "height": 230
    },
    "colab_type": "code",
    "id": "AzJiLDPLvmyn",
    "outputId": "3115c13f-1178-4c26-bf96-a23ff416e1fb"
   },
   "outputs": [
    {
     "data": {
      "text/plain": [
       "AKT_DAT_KL                   0\n",
       "ALTER_HH                     0\n",
       "ANZ_HAUSHALTE_AKTIV          0\n",
       "ANZ_HH_TITEL                 0\n",
       "ANZ_KINDER                   0\n",
       "                            ..\n",
       "CAMEO_INTL_2015_stage        0\n",
       "PRAEGENDE_JUGENDJAHRE_GEN    0\n",
       "PRAEGENDE_JUGENDJAHRE_MOV    0\n",
       "LP_LEBENSPHASE_FEIN_STAGE    0\n",
       "LP_LEBENSPHASE_FEIN_SCALE    0\n",
       "Length: 352, dtype: int64"
      ]
     },
     "execution_count": 138,
     "metadata": {
      "tags": []
     },
     "output_type": "execute_result"
    }
   ],
   "source": [
    "clean_train.isnull().sum()"
   ]
  },
  {
   "cell_type": "code",
   "execution_count": 0,
   "metadata": {
    "colab": {},
    "colab_type": "code",
    "id": "B0Hz0GMPmAMJ"
   },
   "outputs": [],
   "source": [
    "#scale train data\n",
    "scaled_train = pd.DataFrame((scaler.fit_transform(clean_train.values)), columns=clean_train.columns)"
   ]
  },
  {
   "cell_type": "markdown",
   "metadata": {
    "colab": {},
    "colab_type": "code",
    "id": "79I90aCTJd_s"
   },
   "source": [
    "### Creating Machine Learning models "
   ]
  },
  {
   "cell_type": "code",
   "execution_count": 0,
   "metadata": {
    "colab": {},
    "colab_type": "code",
    "id": "DwJJ4o7eG-en"
   },
   "outputs": [],
   "source": [
    "#create a gridsearchCV function to test models and their score and return AUC-ROC score\n",
    "def model_grid(model, param, X_train=scaled_train, y_train=response):\n",
    "    \"\"\"\n",
    "    Fits a model to its training data and prints its ROC AUC score.\n",
    "    \n",
    "    INPUT:\n",
    "    - model: model to fit\n",
    "    - param (dict): classifier parameters used with GridSearchCV\n",
    "    - X_train (DataFrame): training input\n",
    "    - y_train (DataFrame): training output\n",
    "            \n",
    "    OUTPUT:\n",
    "    - model: input model fitted to the training data\n",
    "    \"\"\"\n",
    "    \n",
    "    # cv uses StratifiedKFold\n",
    "    # scoring roc_auc available as parameter\n",
    "    grid = GridSearchCV(estimator=model, param_grid=param, scoring='roc_auc', cv=5)\n",
    "    grid.fit(X_train, y_train)\n",
    "    print(grid.best_score_)\n",
    "    \n",
    "    return grid.best_estimator_"
   ]
  },
  {
   "cell_type": "code",
   "execution_count": 0,
   "metadata": {
    "colab": {
     "base_uri": "https://localhost:8080/",
     "height": 158
    },
    "colab_type": "code",
    "id": "Z1VE-x-Bl_nI",
    "outputId": "469e1bbf-a2de-434c-8421-ed76b4e96977"
   },
   "outputs": [
    {
     "name": "stdout",
     "output_type": "stream",
     "text": [
      "0.7048612968021268\n"
     ]
    },
    {
     "data": {
      "text/plain": [
       "RandomForestRegressor(bootstrap=True, ccp_alpha=0.0, criterion='mse',\n",
       "                      max_depth=None, max_features='auto', max_leaf_nodes=None,\n",
       "                      max_samples=None, min_impurity_decrease=0.0,\n",
       "                      min_impurity_split=None, min_samples_leaf=1,\n",
       "                      min_samples_split=2, min_weight_fraction_leaf=0.0,\n",
       "                      n_estimators=100, n_jobs=None, oob_score=False,\n",
       "                      random_state=42, verbose=0, warm_start=False)"
      ]
     },
     "execution_count": 64,
     "metadata": {
      "tags": []
     },
     "output_type": "execute_result"
    }
   ],
   "source": [
    "rf = RandomForestRegressor(random_state=42)\n",
    "model_grid(rf,{})"
   ]
  },
  {
   "cell_type": "code",
   "execution_count": 0,
   "metadata": {
    "colab": {
     "base_uri": "https://localhost:8080/",
     "height": 158
    },
    "colab_type": "code",
    "id": "xGhGTP7fl_w4",
    "outputId": "875ccac5-2fba-4d05-df19-8b0b6e58fc58"
   },
   "outputs": [
    {
     "name": "stdout",
     "output_type": "stream",
     "text": [
      "0.7572387214697314\n"
     ]
    },
    {
     "data": {
      "text/plain": [
       "XGBRegressor(base_score=0.5, booster='gbtree', colsample_bylevel=1,\n",
       "             colsample_bynode=1, colsample_bytree=1, gamma=0,\n",
       "             importance_type='gain', learning_rate=0.1, max_delta_step=0,\n",
       "             max_depth=3, min_child_weight=1, missing=None, n_estimators=100,\n",
       "             n_jobs=1, nthread=None, objective='binary:logistic',\n",
       "             random_state=42, reg_alpha=0, reg_lambda=1, scale_pos_weight=1,\n",
       "             seed=None, silent=None, subsample=1, verbosity=1)"
      ]
     },
     "execution_count": 68,
     "metadata": {
      "tags": []
     },
     "output_type": "execute_result"
    }
   ],
   "source": [
    "xgb = XGBRegressor(objective='binary:logistic', random_state=42)\n",
    "model_grid(xgb,{})"
   ]
  },
  {
   "cell_type": "code",
   "execution_count": 0,
   "metadata": {
    "colab": {
     "base_uri": "https://localhost:8080/",
     "height": 194
    },
    "colab_type": "code",
    "id": "udMnIYZ8l_KT",
    "outputId": "52020003-723f-4749-b868-d2bb80fb8fe7"
   },
   "outputs": [
    {
     "name": "stdout",
     "output_type": "stream",
     "text": [
      "0.7535573144172779\n"
     ]
    },
    {
     "data": {
      "text/plain": [
       "GradientBoostingRegressor(alpha=0.9, ccp_alpha=0.0, criterion='friedman_mse',\n",
       "                          init=None, learning_rate=0.1, loss='ls', max_depth=3,\n",
       "                          max_features=None, max_leaf_nodes=None,\n",
       "                          min_impurity_decrease=0.0, min_impurity_split=None,\n",
       "                          min_samples_leaf=1, min_samples_split=2,\n",
       "                          min_weight_fraction_leaf=0.0, n_estimators=100,\n",
       "                          n_iter_no_change=None, presort='deprecated',\n",
       "                          random_state=42, subsample=1.0, tol=0.0001,\n",
       "                          validation_fraction=0.1, verbose=0, warm_start=False)"
      ]
     },
     "execution_count": 66,
     "metadata": {
      "tags": []
     },
     "output_type": "execute_result"
    }
   ],
   "source": [
    "gb = GradientBoostingRegressor(random_state=42)\n",
    "model_grid(gb,{})"
   ]
  },
  {
   "cell_type": "code",
   "execution_count": 0,
   "metadata": {
    "colab": {
     "base_uri": "https://localhost:8080/",
     "height": 158
    },
    "colab_type": "code",
    "id": "XbvpllggIn8Y",
    "outputId": "ac9f7e78-1ca0-4099-eedd-4d86ffee38d3"
   },
   "outputs": [
    {
     "name": "stdout",
     "output_type": "stream",
     "text": [
      "0.7011015726712928\n"
     ]
    },
    {
     "data": {
      "text/plain": [
       "LGBMClassifier(application='binary', boosting_type='gbdt', class_weight=None,\n",
       "               colsample_bytree=1.0, importance_type='split', learning_rate=0.1,\n",
       "               max_depth=-1, min_child_samples=20, min_child_weight=0.001,\n",
       "               min_split_gain=0.0, n_estimators=100, n_jobs=-1, num_leaves=31,\n",
       "               objective=None, random_state=42, reg_alpha=0.0, reg_lambda=0.0,\n",
       "               silent=True, subsample=1.0, subsample_for_bin=200000,\n",
       "               subsample_freq=0)"
      ]
     },
     "execution_count": 142,
     "metadata": {
      "tags": []
     },
     "output_type": "execute_result"
    }
   ],
   "source": [
    "lgbc = lgb.LGBMClassifier(application='binary', random_state=42)\n",
    "\n",
    "model_grid(lgbc,{})"
   ]
  },
  {
   "cell_type": "code",
   "execution_count": 0,
   "metadata": {
    "colab": {},
    "colab_type": "code",
    "id": "iYDYnj3OrhTB"
   },
   "outputs": [],
   "source": [
    "#splitting data to test data and train data\n",
    "X_train, X_test, y_train, y_test = train_test_split(scaled_train, response, stratify=response, test_size=0.2, random_state=42)"
   ]
  },
  {
   "cell_type": "markdown",
   "metadata": {},
   "source": [
    "### Hyper Parameter Tuning\n",
    "#### #RnadomizedSearchCv was chosen as it's faster in finding optimal estimator parameters"
   ]
  },
  {
   "cell_type": "code",
   "execution_count": 0,
   "metadata": {
    "colab": {},
    "colab_type": "code",
    "id": "cGPcAGuXan_f"
   },
   "outputs": [],
   "source": [
    "#creating random search Function that tests parameters for models and returns model parameters with best score\n",
    "\n",
    "\n",
    "def random_search(pipeline, parameters, X_train, y_train, X_test, y_test, n_iter=None):\n",
    "    \n",
    "    start = time.time() \n",
    "    \n",
    "\n",
    "    grid_obj = RandomizedSearchCV(estimator=pipeline,\n",
    "                            param_distributions=parameters,\n",
    "                            cv=5,\n",
    "                            n_iter=n_iter,\n",
    "                            refit=True,\n",
    "                            return_train_score=False,\n",
    "                            scoring = 'roc_auc',\n",
    "                            random_state=1)\n",
    "    grid_obj.fit(X_train, y_train,)\n",
    "    \n",
    "\n",
    "    estimator = grid_obj.best_estimator_\n",
    "    cvs = cross_val_score(estimator, X_train, y_train,scoring = 'roc_auc', cv=5)\n",
    "    results = pd.DataFrame(grid_obj.cv_results_)\n",
    "    \n",
    "    print(\"##### Results\")\n",
    "    print(\"Score best parameters: \", grid_obj.best_score_)\n",
    "    print(\"Best parameters: \", grid_obj.best_params_)\n",
    "    print(\"Cross-validation Score: \", cvs.mean())\n",
    "    print(\"Test Score: \", estimator.score(X_test, y_test))\n",
    "    print(\"Time elapsed: \", time.time() - start)\n",
    "    print(\"Parameter combinations evaluated: \",results.shape[0])\n",
    "    \n",
    "    return results, estimator"
   ]
  },
  {
   "cell_type": "code",
   "execution_count": 0,
   "metadata": {
    "colab": {},
    "colab_type": "code",
    "id": "JbeqH4J3an3e"
   },
   "outputs": [],
   "source": [
    "#storing parameters to be tested for XGB And LGB Models\n",
    "\n",
    "\n",
    "\n",
    "pipe_lgb = pipeline.Pipeline([\n",
    "    ('clf', lgb.LGBMClassifier(application='binary',\n",
    "        metric='auc',\n",
    "        n_jobs=-1,\n",
    "        verbose=0))\n",
    "    ])\n",
    "\n",
    "\n",
    "pipe_xgb = pipeline.Pipeline([\n",
    "    ('clf', XGBRegressor(objective = 'binary:logistic',\n",
    "        eval_metric ='auc',\n",
    "        n_jobs=-1))\n",
    "    ])\n",
    "\n",
    "\n",
    "\n",
    "\n",
    "\n",
    "param_xgb = {\n",
    "        'clf__learning_rate':  list(np.logspace(np.log(0.01), np.log(1), num = 500, base=3)),\n",
    "        'clf__max_depth': list(range(1, 15,2)),\n",
    "        'clf__min_child_weight': (1, 10),\n",
    "        'clf__gamma': (0.0, 1.0),\n",
    "        'clf__subsample': (0.5, 1.0),\n",
    "        'clf__colsample_bytree': list(np.linspace(0.5, 1, 500)),\n",
    "        'clf__reg_alpha': (1e-9, 1.0),\n",
    "        'clf__reg_lambda': list(np.linspace(0, 1, 500)),\n",
    "\n",
    "        'clf__n_estimators': list(range(50, 500,50)),\n",
    "        'clf__scale_pos_weight': (1,90),\n",
    "  \n",
    "        'clf__max_delta_step' : (0, 10),\n",
    "        'clf__colsample_bylevel': (0.01, 1.0),\n",
    "        'clf__reg_lambda': (1e-9, 100),\n",
    "        'clf__scale_pos_weight': (1, 90)\n",
    "    }\n",
    "\n",
    "\n",
    "param_lgb = {\n",
    "    'clf__learning_rate': list(np.logspace(np.log(0.01), np.log(1), num = 500, base=3)),\n",
    "    'clf__max_depth': list(range(5, 15)),\n",
    "    'clf__n_estimators': list(range(5, 35)),\n",
    "    'clf__num_leaves': list(range(5, 50)),\n",
    "    'clf__boosting_type': ['gbdt', 'dart'],\n",
    "    'clf__colsample_bytree': list(np.linspace(0.6, 1, 500)),\n",
    "    'clf__reg_lambda': list(np.linspace(0, 1, 500)),\n",
    "}\n"
   ]
  },
  {
   "cell_type": "code",
   "execution_count": 0,
   "metadata": {
    "colab": {
     "base_uri": "https://localhost:8080/",
     "height": 161
    },
    "colab_type": "code",
    "id": "qUpkDgS7KnVQ",
    "outputId": "a2d3bbd3-e08b-4b0d-89e9-1560a333adc4"
   },
   "outputs": [
    {
     "name": "stdout",
     "output_type": "stream",
     "text": [
      "##### Results\n",
      "Score best parameters:  0.768775981694969\n",
      "Best parameters:  {'clf__reg_lambda': 0.10420841683366733, 'clf__num_leaves': 23, 'clf__n_estimators': 18, 'clf__max_depth': 14, 'clf__learning_rate': 0.029955290770426184, 'clf__colsample_bytree': 0.6977955911823647, 'clf__boosting_type': 'dart'}\n",
      "Cross-validation Score:  0.768775981694969\n",
      "Test Score:  0.9876643779820784\n",
      "Time elapsed:  497.4775016307831\n",
      "Parameter combinations evaluated:  100\n"
     ]
    }
   ],
   "source": [
    "#testing for best Lgb parammters and setting number of evaluations to 100\n",
    "num_eval =100\n",
    "results_random, estimator_random = random_search(pipe_lgb, param_lgb, X_train, y_train, X_test, y_test, num_eval)"
   ]
  },
  {
   "cell_type": "markdown",
   "metadata": {},
   "source": [
    "### as shown above hyperparameter tuned lgbm model has reach 0.768 auc score"
   ]
  },
  {
   "cell_type": "code",
   "execution_count": 0,
   "metadata": {
    "colab": {
     "base_uri": "https://localhost:8080/",
     "height": 301
    },
    "colab_type": "code",
    "id": "2fyOcFu4OXwD",
    "outputId": "a83c0324-c7c6-4c87-b798-6bab825ed0f8"
   },
   "outputs": [
    {
     "data": {
      "text/plain": [
       "Pipeline(memory=None,\n",
       "         steps=[('clf',\n",
       "                 LGBMClassifier(application='binary', boosting_type='dart',\n",
       "                                class_weight=None,\n",
       "                                colsample_bytree=0.6977955911823647,\n",
       "                                importance_type='split',\n",
       "                                learning_rate=0.029955290770426184,\n",
       "                                max_depth=14, metric='auc',\n",
       "                                min_child_samples=20, min_child_weight=0.001,\n",
       "                                min_split_gain=0.0, n_estimators=18, n_jobs=-1,\n",
       "                                num_leaves=23, objective=None,\n",
       "                                random_state=None, reg_alpha=0.0,\n",
       "                                reg_lambda=0.10420841683366733, silent=True,\n",
       "                                subsample=1.0, subsample_for_bin=200000,\n",
       "                                subsample_freq=0, verbose=0))],\n",
       "         verbose=False)"
      ]
     },
     "execution_count": 151,
     "metadata": {
      "tags": []
     },
     "output_type": "execute_result"
    }
   ],
   "source": [
    "#show best parameters for estimator\n",
    "estimator_random"
   ]
  },
  {
   "cell_type": "code",
   "execution_count": 0,
   "metadata": {
    "colab": {
     "base_uri": "https://localhost:8080/"
    },
    "colab_type": "code",
    "id": "ihh_xBQgQFtE",
    "outputId": "15615b91-1275-473b-f775-2ef16e71eeea"
   },
   "outputs": [
    {
     "name": "stdout",
     "output_type": "stream",
     "text": [
      "##### Results\n",
      "Score best parameters:  0.7650300808938446\n",
      "Best parameters:  {'clf__subsample': 1.0, 'clf__min_child_weight': 10, 'clf__max_depth': 3, 'clf__learning_rate': 0.09045413130659352, 'clf__gamma': 1.0, 'clf__colsample_bytree': 0.6412825651302605}\n",
      "Cross-validation Score:  0.7650300808938446\n",
      "Test Score:  0.011127136571474017\n",
      "Time elapsed:  4897.51881480217\n",
      "Parameter combinations evaluated:  75\n"
     ]
    }
   ],
   "source": [
    "##testing for best xgboost parammters and setting number of evaluations to 100\n",
    "num_eval =75\n",
    "results_random2, estimator_random2 = random_search(pipe_xgb, param_xgb, X_train, y_train, X_test, y_test, num_eval)"
   ]
  },
  {
   "cell_type": "markdown",
   "metadata": {},
   "source": [
    "#### as shown above hyperparameter tuned xgb model has reach  0.765 auc score"
   ]
  },
  {
   "cell_type": "code",
   "execution_count": 0,
   "metadata": {
    "colab": {
     "base_uri": "https://localhost:8080/"
    },
    "colab_type": "code",
    "id": "n55EldhaQK2L",
    "outputId": "6fe01d84-cd73-4bb9-9480-7a68e3a408a5"
   },
   "outputs": [
    {
     "data": {
      "text/plain": [
       "Pipeline(memory=None,\n",
       "         steps=[('clf',\n",
       "                 XGBRegressor(base_score=0.5, booster='gbtree',\n",
       "                              colsample_bylevel=1, colsample_bynode=1,\n",
       "                              colsample_bytree=0.6412825651302605,\n",
       "                              eval_metric='auc', gamma=1.0,\n",
       "                              importance_type='gain',\n",
       "                              learning_rate=0.09045413130659352,\n",
       "                              max_delta_step=0, max_depth=3,\n",
       "                              min_child_weight=10, missing=None,\n",
       "                              n_estimators=100, n_jobs=-1, nthread=None,\n",
       "                              objective='binary:logistic', random_state=0,\n",
       "                              reg_alpha=0, reg_lambda=1, scale_pos_weight=1,\n",
       "                              seed=None, silent=None, subsample=1.0,\n",
       "                              verbosity=1))],\n",
       "         verbose=False)"
      ]
     },
     "execution_count": 156,
     "metadata": {
      "tags": []
     },
     "output_type": "execute_result"
    }
   ],
   "source": [
    "#show best params for xgboost estimator\n",
    "estimator_random2"
   ]
  },
  {
   "cell_type": "markdown",
   "metadata": {
    "colab": {},
    "colab_type": "code",
    "id": "HHAa5W_dax3t"
   },
   "source": [
    "#### as difference in auc score is almost negliible , XGBOOST model will be used"
   ]
  },
  {
   "cell_type": "code",
   "execution_count": 0,
   "metadata": {
    "colab": {},
    "colab_type": "code",
    "id": "5WJHYTiKPZW0"
   },
   "outputs": [],
   "source": [
    "#setting XGBREGRESSOR as our final model with hyper parameter tuned\n",
    "model = XGBRegressor(base_score=0.5, booster='gbtree',\n",
    "                              colsample_bylevel=1, colsample_bynode=1,\n",
    "                              colsample_bytree=0.6412825651302605,\n",
    "                              eval_metric='auc', gamma=1.0,\n",
    "                              importance_type='gain',\n",
    "                              learning_rate=0.09045413130659352,\n",
    "                              max_delta_step=0, max_depth=3,\n",
    "                              min_child_weight=10, missing=None,\n",
    "                              n_estimators=100, n_jobs=-1, nthread=None,\n",
    "                              objective='binary:logistic', random_state=0,\n",
    "                              reg_alpha=0, reg_lambda=1, scale_pos_weight=1,\n",
    "                              seed=None, silent=None, subsample=1.0,\n",
    "                              verbosity=1)"
   ]
  },
  {
   "cell_type": "code",
   "execution_count": 160,
   "metadata": {
    "colab": {
     "base_uri": "https://localhost:8080/",
     "height": 158
    },
    "colab_type": "code",
    "id": "sp3-enFMmd6A",
    "outputId": "f590fece-7670-4edb-d9b7-d978597e245d"
   },
   "outputs": [
    {
     "data": {
      "text/plain": [
       "XGBRegressor(base_score=0.5, booster='gbtree', colsample_bylevel=1,\n",
       "             colsample_bynode=1, colsample_bytree=0.6412825651302605,\n",
       "             eval_metric='auc', gamma=1.0, importance_type='gain',\n",
       "             learning_rate=0.09045413130659352, max_delta_step=0, max_depth=3,\n",
       "             min_child_weight=10, missing=None, n_estimators=100, n_jobs=-1,\n",
       "             nthread=None, objective='binary:logistic', random_state=0,\n",
       "             reg_alpha=0, reg_lambda=1, scale_pos_weight=1, seed=None,\n",
       "             silent=None, subsample=1.0, verbosity=1)"
      ]
     },
     "execution_count": 160,
     "metadata": {
      "tags": []
     },
     "output_type": "execute_result"
    }
   ],
   "source": [
    "#fitting the model on scaled_train and response column and setting evaluation metric to auc\n",
    "model.fit(scaled_train, response, eval_metric='auc')"
   ]
  },
  {
   "cell_type": "code",
   "execution_count": 0,
   "metadata": {
    "colab": {},
    "colab_type": "code",
    "id": "jsfKjEh_A5X9"
   },
   "outputs": [],
   "source": [
    "#create pickle file to store model\n",
    "#filename_xgb = '/content/drive/My Drive/data capstone/xbg_model.sav'\n",
    "\n",
    "#pickle.dump(model , open(filename_xgb, 'wb'))"
   ]
  },
  {
   "cell_type": "code",
   "execution_count": 0,
   "metadata": {
    "colab": {},
    "colab_type": "code",
    "id": "2-MYO9OPmdyO"
   },
   "outputs": [],
   "source": [
    "# storing important features for model\n",
    "important_features = pd.Series(model.feature_importances_,\n",
    "                     index=scaled_train.columns).sort_values(ascending=False)\n",
    "                    "
   ]
  },
  {
   "cell_type": "code",
   "execution_count": 0,
   "metadata": {
    "colab": {
     "base_uri": "https://localhost:8080/",
     "height": 436
    },
    "colab_type": "code",
    "id": "vIa-Z1HVmdpb",
    "outputId": "ef25120a-024d-4095-eeb3-06b5b4182a04"
   },
   "outputs": [
    {
     "data": {
      "image/png": "[encoded data removed]",
      "text/plain": [
       "<Figure size 432x288 with 1 Axes>"
      ]
     },
     "metadata": {
      "tags": []
     },
     "output_type": "display_data"
    }
   ],
   "source": [
    "# plot 10 most important features\n",
    "fig = plt.figure()\n",
    "important_features.iloc[:10].plot(kind='bar')\n",
    "plt.xlabel('Features', fontsize=12)\n",
    "plt.ylabel('Weight', fontsize=12)\n",
    "plt.title(' Most Important features', fontsize=10)\n",
    "plt.show()"
   ]
  },
  {
   "cell_type": "markdown",
   "metadata": {
    "colab": {},
    "colab_type": "code",
    "id": "Y6gJ_7RTmdhJ"
   },
   "source": [
    "#### as shows above the 10 most important features in predicting cutomer response and top 2 features are 'D19_SOZIALES' AND 'D19_RATGEBER'"
   ]
  },
  {
   "cell_type": "markdown",
   "metadata": {
    "colab_type": "text",
    "id": "w2LvmJcrgtvT"
   },
   "source": [
    "## Part 3: Kaggle Competition\n",
    "\n",
    "Now that you've created a model to predict which individuals are most likely to respond to a mailout campaign, it's time to test that model in competition through Kaggle. If you click on the link [here](http://www.kaggle.com/t/21e6d45d4c574c7fa2d868f0e8c83140), you'll be taken to the competition page where, if you have a Kaggle account, you can enter. If you're one of the top performers, you may have the chance to be contacted by a hiring manager from Arvato or Bertelsmann for an interview!\n",
    "\n",
    "Your entry to the competition should be a CSV file with two columns. The first column should be a copy of \"LNR\", which acts as an ID number for each individual in the \"TEST\" partition. The second column, \"RESPONSE\", should be some measure of how likely each individual became a customer – this might not be a straightforward probability. As you should have found in Part 2, there is a large output class imbalance, where most individuals did not respond to the mailout. Thus, predicting individual classes and using accuracy does not seem to be an appropriate performance evaluation method. Instead, the competition will be using AUC to evaluate performance. The exact values of the \"RESPONSE\" column do not matter as much: only that the higher values try to capture as many of the actual customers as possible, early in the ROC curve sweep."
   ]
  },
  {
   "cell_type": "code",
   "execution_count": 0,
   "metadata": {
    "colab": {},
    "colab_type": "code",
    "id": "ylPA1LCzgtvY"
   },
   "outputs": [],
   "source": [
    "#reading in test data\n",
    "test = pd.read_csv('/content/drive/My Drive/data capstone/Udacity_MAILOUT_052018_TEST.csv', sep=';', low_memory=False)"
   ]
  },
  {
   "cell_type": "code",
   "execution_count": 162,
   "metadata": {
    "colab": {
     "base_uri": "https://localhost:8080/",
     "height": 246
    },
    "colab_type": "code",
    "id": "ZYgiBv7fgtvn",
    "outputId": "d850474b-b851-4053-90ee-99ba3f2646e3"
   },
   "outputs": [
    {
     "data": {
      "text/html": [
       "<div>\n",
       "<style scoped>\n",
       "    .dataframe tbody tr th:only-of-type {\n",
       "        vertical-align: middle;\n",
       "    }\n",
       "\n",
       "    .dataframe tbody tr th {\n",
       "        vertical-align: top;\n",
       "    }\n",
       "\n",
       "    .dataframe thead th {\n",
       "        text-align: right;\n",
       "    }\n",
       "</style>\n",
       "<table border=\"1\" class=\"dataframe\">\n",
       "  <thead>\n",
       "    <tr style=\"text-align: right;\">\n",
       "      <th></th>\n",
       "      <th>LNR</th>\n",
       "      <th>AGER_TYP</th>\n",
       "      <th>AKT_DAT_KL</th>\n",
       "      <th>ALTER_HH</th>\n",
       "      <th>ALTER_KIND1</th>\n",
       "      <th>ALTER_KIND2</th>\n",
       "      <th>ALTER_KIND3</th>\n",
       "      <th>ALTER_KIND4</th>\n",
       "      <th>ALTERSKATEGORIE_FEIN</th>\n",
       "      <th>ANZ_HAUSHALTE_AKTIV</th>\n",
       "      <th>ANZ_HH_TITEL</th>\n",
       "      <th>ANZ_KINDER</th>\n",
       "      <th>ANZ_PERSONEN</th>\n",
       "      <th>ANZ_STATISTISCHE_HAUSHALTE</th>\n",
       "      <th>ANZ_TITEL</th>\n",
       "      <th>ARBEIT</th>\n",
       "      <th>BALLRAUM</th>\n",
       "      <th>CAMEO_DEU_2015</th>\n",
       "      <th>CAMEO_DEUG_2015</th>\n",
       "      <th>CAMEO_INTL_2015</th>\n",
       "      <th>CJT_GESAMTTYP</th>\n",
       "      <th>CJT_KATALOGNUTZER</th>\n",
       "      <th>CJT_TYP_1</th>\n",
       "      <th>CJT_TYP_2</th>\n",
       "      <th>CJT_TYP_3</th>\n",
       "      <th>CJT_TYP_4</th>\n",
       "      <th>CJT_TYP_5</th>\n",
       "      <th>CJT_TYP_6</th>\n",
       "      <th>D19_BANKEN_ANZ_12</th>\n",
       "      <th>D19_BANKEN_ANZ_24</th>\n",
       "      <th>D19_BANKEN_DATUM</th>\n",
       "      <th>D19_BANKEN_DIREKT</th>\n",
       "      <th>D19_BANKEN_GROSS</th>\n",
       "      <th>D19_BANKEN_LOKAL</th>\n",
       "      <th>D19_BANKEN_OFFLINE_DATUM</th>\n",
       "      <th>D19_BANKEN_ONLINE_DATUM</th>\n",
       "      <th>D19_BANKEN_ONLINE_QUOTE_12</th>\n",
       "      <th>D19_BANKEN_REST</th>\n",
       "      <th>D19_BEKLEIDUNG_GEH</th>\n",
       "      <th>D19_BEKLEIDUNG_REST</th>\n",
       "      <th>...</th>\n",
       "      <th>REGIOTYP</th>\n",
       "      <th>RELAT_AB</th>\n",
       "      <th>RETOURTYP_BK_S</th>\n",
       "      <th>RT_KEIN_ANREIZ</th>\n",
       "      <th>RT_SCHNAEPPCHEN</th>\n",
       "      <th>RT_UEBERGROESSE</th>\n",
       "      <th>SEMIO_DOM</th>\n",
       "      <th>SEMIO_ERL</th>\n",
       "      <th>SEMIO_FAM</th>\n",
       "      <th>SEMIO_KAEM</th>\n",
       "      <th>SEMIO_KRIT</th>\n",
       "      <th>SEMIO_KULT</th>\n",
       "      <th>SEMIO_LUST</th>\n",
       "      <th>SEMIO_MAT</th>\n",
       "      <th>SEMIO_PFLICHT</th>\n",
       "      <th>SEMIO_RAT</th>\n",
       "      <th>SEMIO_REL</th>\n",
       "      <th>SEMIO_SOZ</th>\n",
       "      <th>SEMIO_TRADV</th>\n",
       "      <th>SEMIO_VERT</th>\n",
       "      <th>SHOPPER_TYP</th>\n",
       "      <th>SOHO_KZ</th>\n",
       "      <th>STRUKTURTYP</th>\n",
       "      <th>TITEL_KZ</th>\n",
       "      <th>UMFELD_ALT</th>\n",
       "      <th>UMFELD_JUNG</th>\n",
       "      <th>UNGLEICHENN_FLAG</th>\n",
       "      <th>VERDICHTUNGSRAUM</th>\n",
       "      <th>VERS_TYP</th>\n",
       "      <th>VHA</th>\n",
       "      <th>VHN</th>\n",
       "      <th>VK_DHT4A</th>\n",
       "      <th>VK_DISTANZ</th>\n",
       "      <th>VK_ZG11</th>\n",
       "      <th>W_KEIT_KIND_HH</th>\n",
       "      <th>WOHNDAUER_2008</th>\n",
       "      <th>WOHNLAGE</th>\n",
       "      <th>ZABEOTYP</th>\n",
       "      <th>ANREDE_KZ</th>\n",
       "      <th>ALTERSKATEGORIE_GROB</th>\n",
       "    </tr>\n",
       "  </thead>\n",
       "  <tbody>\n",
       "    <tr>\n",
       "      <th>0</th>\n",
       "      <td>1754</td>\n",
       "      <td>2</td>\n",
       "      <td>1.0</td>\n",
       "      <td>7.0</td>\n",
       "      <td>NaN</td>\n",
       "      <td>NaN</td>\n",
       "      <td>NaN</td>\n",
       "      <td>NaN</td>\n",
       "      <td>6.0</td>\n",
       "      <td>2.0</td>\n",
       "      <td>0.0</td>\n",
       "      <td>0.0</td>\n",
       "      <td>2.0</td>\n",
       "      <td>2.0</td>\n",
       "      <td>0.0</td>\n",
       "      <td>3.0</td>\n",
       "      <td>6.0</td>\n",
       "      <td>2B</td>\n",
       "      <td>2</td>\n",
       "      <td>13</td>\n",
       "      <td>5.0</td>\n",
       "      <td>5.0</td>\n",
       "      <td>1.0</td>\n",
       "      <td>2.0</td>\n",
       "      <td>5.0</td>\n",
       "      <td>5.0</td>\n",
       "      <td>5.0</td>\n",
       "      <td>5.0</td>\n",
       "      <td>0</td>\n",
       "      <td>0</td>\n",
       "      <td>10</td>\n",
       "      <td>0</td>\n",
       "      <td>0</td>\n",
       "      <td>0</td>\n",
       "      <td>10</td>\n",
       "      <td>10</td>\n",
       "      <td>0.0</td>\n",
       "      <td>0</td>\n",
       "      <td>3</td>\n",
       "      <td>6</td>\n",
       "      <td>...</td>\n",
       "      <td>3.0</td>\n",
       "      <td>4.0</td>\n",
       "      <td>5.0</td>\n",
       "      <td>2.0</td>\n",
       "      <td>5.0</td>\n",
       "      <td>1.0</td>\n",
       "      <td>3</td>\n",
       "      <td>3</td>\n",
       "      <td>4</td>\n",
       "      <td>2</td>\n",
       "      <td>3</td>\n",
       "      <td>6</td>\n",
       "      <td>7</td>\n",
       "      <td>1</td>\n",
       "      <td>1</td>\n",
       "      <td>1</td>\n",
       "      <td>2</td>\n",
       "      <td>6</td>\n",
       "      <td>1</td>\n",
       "      <td>7</td>\n",
       "      <td>3</td>\n",
       "      <td>0.0</td>\n",
       "      <td>3.0</td>\n",
       "      <td>0.0</td>\n",
       "      <td>2.0</td>\n",
       "      <td>5.0</td>\n",
       "      <td>0.0</td>\n",
       "      <td>23.0</td>\n",
       "      <td>1</td>\n",
       "      <td>1.0</td>\n",
       "      <td>4.0</td>\n",
       "      <td>5.0</td>\n",
       "      <td>6.0</td>\n",
       "      <td>3.0</td>\n",
       "      <td>6.0</td>\n",
       "      <td>9.0</td>\n",
       "      <td>3.0</td>\n",
       "      <td>3</td>\n",
       "      <td>1</td>\n",
       "      <td>4</td>\n",
       "    </tr>\n",
       "    <tr>\n",
       "      <th>1</th>\n",
       "      <td>1770</td>\n",
       "      <td>-1</td>\n",
       "      <td>1.0</td>\n",
       "      <td>0.0</td>\n",
       "      <td>NaN</td>\n",
       "      <td>NaN</td>\n",
       "      <td>NaN</td>\n",
       "      <td>NaN</td>\n",
       "      <td>0.0</td>\n",
       "      <td>20.0</td>\n",
       "      <td>0.0</td>\n",
       "      <td>0.0</td>\n",
       "      <td>1.0</td>\n",
       "      <td>21.0</td>\n",
       "      <td>0.0</td>\n",
       "      <td>4.0</td>\n",
       "      <td>7.0</td>\n",
       "      <td>5A</td>\n",
       "      <td>5</td>\n",
       "      <td>31</td>\n",
       "      <td>1.0</td>\n",
       "      <td>5.0</td>\n",
       "      <td>2.0</td>\n",
       "      <td>2.0</td>\n",
       "      <td>5.0</td>\n",
       "      <td>5.0</td>\n",
       "      <td>4.0</td>\n",
       "      <td>5.0</td>\n",
       "      <td>0</td>\n",
       "      <td>0</td>\n",
       "      <td>10</td>\n",
       "      <td>0</td>\n",
       "      <td>0</td>\n",
       "      <td>0</td>\n",
       "      <td>10</td>\n",
       "      <td>10</td>\n",
       "      <td>0.0</td>\n",
       "      <td>0</td>\n",
       "      <td>0</td>\n",
       "      <td>6</td>\n",
       "      <td>...</td>\n",
       "      <td>4.0</td>\n",
       "      <td>5.0</td>\n",
       "      <td>5.0</td>\n",
       "      <td>1.0</td>\n",
       "      <td>5.0</td>\n",
       "      <td>1.0</td>\n",
       "      <td>3</td>\n",
       "      <td>7</td>\n",
       "      <td>4</td>\n",
       "      <td>3</td>\n",
       "      <td>3</td>\n",
       "      <td>4</td>\n",
       "      <td>5</td>\n",
       "      <td>4</td>\n",
       "      <td>3</td>\n",
       "      <td>3</td>\n",
       "      <td>3</td>\n",
       "      <td>6</td>\n",
       "      <td>1</td>\n",
       "      <td>6</td>\n",
       "      <td>2</td>\n",
       "      <td>0.0</td>\n",
       "      <td>3.0</td>\n",
       "      <td>0.0</td>\n",
       "      <td>4.0</td>\n",
       "      <td>3.0</td>\n",
       "      <td>0.0</td>\n",
       "      <td>0.0</td>\n",
       "      <td>1</td>\n",
       "      <td>1.0</td>\n",
       "      <td>1.0</td>\n",
       "      <td>5.0</td>\n",
       "      <td>2.0</td>\n",
       "      <td>1.0</td>\n",
       "      <td>6.0</td>\n",
       "      <td>9.0</td>\n",
       "      <td>5.0</td>\n",
       "      <td>3</td>\n",
       "      <td>1</td>\n",
       "      <td>4</td>\n",
       "    </tr>\n",
       "    <tr>\n",
       "      <th>2</th>\n",
       "      <td>1465</td>\n",
       "      <td>2</td>\n",
       "      <td>9.0</td>\n",
       "      <td>16.0</td>\n",
       "      <td>NaN</td>\n",
       "      <td>NaN</td>\n",
       "      <td>NaN</td>\n",
       "      <td>NaN</td>\n",
       "      <td>11.0</td>\n",
       "      <td>2.0</td>\n",
       "      <td>0.0</td>\n",
       "      <td>0.0</td>\n",
       "      <td>4.0</td>\n",
       "      <td>2.0</td>\n",
       "      <td>0.0</td>\n",
       "      <td>4.0</td>\n",
       "      <td>1.0</td>\n",
       "      <td>7A</td>\n",
       "      <td>7</td>\n",
       "      <td>41</td>\n",
       "      <td>2.0</td>\n",
       "      <td>5.0</td>\n",
       "      <td>2.0</td>\n",
       "      <td>2.0</td>\n",
       "      <td>5.0</td>\n",
       "      <td>5.0</td>\n",
       "      <td>5.0</td>\n",
       "      <td>5.0</td>\n",
       "      <td>0</td>\n",
       "      <td>0</td>\n",
       "      <td>10</td>\n",
       "      <td>0</td>\n",
       "      <td>0</td>\n",
       "      <td>0</td>\n",
       "      <td>10</td>\n",
       "      <td>10</td>\n",
       "      <td>0.0</td>\n",
       "      <td>0</td>\n",
       "      <td>0</td>\n",
       "      <td>0</td>\n",
       "      <td>...</td>\n",
       "      <td>6.0</td>\n",
       "      <td>5.0</td>\n",
       "      <td>5.0</td>\n",
       "      <td>2.0</td>\n",
       "      <td>5.0</td>\n",
       "      <td>1.0</td>\n",
       "      <td>5</td>\n",
       "      <td>7</td>\n",
       "      <td>1</td>\n",
       "      <td>6</td>\n",
       "      <td>4</td>\n",
       "      <td>2</td>\n",
       "      <td>7</td>\n",
       "      <td>1</td>\n",
       "      <td>4</td>\n",
       "      <td>3</td>\n",
       "      <td>1</td>\n",
       "      <td>4</td>\n",
       "      <td>3</td>\n",
       "      <td>3</td>\n",
       "      <td>3</td>\n",
       "      <td>0.0</td>\n",
       "      <td>3.0</td>\n",
       "      <td>0.0</td>\n",
       "      <td>1.0</td>\n",
       "      <td>5.0</td>\n",
       "      <td>1.0</td>\n",
       "      <td>15.0</td>\n",
       "      <td>1</td>\n",
       "      <td>1.0</td>\n",
       "      <td>3.0</td>\n",
       "      <td>9.0</td>\n",
       "      <td>6.0</td>\n",
       "      <td>3.0</td>\n",
       "      <td>2.0</td>\n",
       "      <td>9.0</td>\n",
       "      <td>4.0</td>\n",
       "      <td>3</td>\n",
       "      <td>2</td>\n",
       "      <td>4</td>\n",
       "    </tr>\n",
       "    <tr>\n",
       "      <th>3</th>\n",
       "      <td>1470</td>\n",
       "      <td>-1</td>\n",
       "      <td>7.0</td>\n",
       "      <td>0.0</td>\n",
       "      <td>NaN</td>\n",
       "      <td>NaN</td>\n",
       "      <td>NaN</td>\n",
       "      <td>NaN</td>\n",
       "      <td>0.0</td>\n",
       "      <td>1.0</td>\n",
       "      <td>0.0</td>\n",
       "      <td>0.0</td>\n",
       "      <td>0.0</td>\n",
       "      <td>1.0</td>\n",
       "      <td>0.0</td>\n",
       "      <td>4.0</td>\n",
       "      <td>1.0</td>\n",
       "      <td>2B</td>\n",
       "      <td>2</td>\n",
       "      <td>13</td>\n",
       "      <td>4.0</td>\n",
       "      <td>5.0</td>\n",
       "      <td>2.0</td>\n",
       "      <td>1.0</td>\n",
       "      <td>5.0</td>\n",
       "      <td>5.0</td>\n",
       "      <td>5.0</td>\n",
       "      <td>5.0</td>\n",
       "      <td>0</td>\n",
       "      <td>0</td>\n",
       "      <td>10</td>\n",
       "      <td>0</td>\n",
       "      <td>0</td>\n",
       "      <td>0</td>\n",
       "      <td>10</td>\n",
       "      <td>10</td>\n",
       "      <td>0.0</td>\n",
       "      <td>0</td>\n",
       "      <td>0</td>\n",
       "      <td>0</td>\n",
       "      <td>...</td>\n",
       "      <td>5.0</td>\n",
       "      <td>4.0</td>\n",
       "      <td>5.0</td>\n",
       "      <td>1.0</td>\n",
       "      <td>3.0</td>\n",
       "      <td>1.0</td>\n",
       "      <td>5</td>\n",
       "      <td>7</td>\n",
       "      <td>1</td>\n",
       "      <td>6</td>\n",
       "      <td>7</td>\n",
       "      <td>2</td>\n",
       "      <td>7</td>\n",
       "      <td>2</td>\n",
       "      <td>2</td>\n",
       "      <td>3</td>\n",
       "      <td>2</td>\n",
       "      <td>3</td>\n",
       "      <td>3</td>\n",
       "      <td>2</td>\n",
       "      <td>3</td>\n",
       "      <td>0.0</td>\n",
       "      <td>3.0</td>\n",
       "      <td>0.0</td>\n",
       "      <td>2.0</td>\n",
       "      <td>5.0</td>\n",
       "      <td>0.0</td>\n",
       "      <td>10.0</td>\n",
       "      <td>2</td>\n",
       "      <td>1.0</td>\n",
       "      <td>2.0</td>\n",
       "      <td>6.0</td>\n",
       "      <td>6.0</td>\n",
       "      <td>3.0</td>\n",
       "      <td>NaN</td>\n",
       "      <td>9.0</td>\n",
       "      <td>2.0</td>\n",
       "      <td>3</td>\n",
       "      <td>2</td>\n",
       "      <td>4</td>\n",
       "    </tr>\n",
       "    <tr>\n",
       "      <th>4</th>\n",
       "      <td>1478</td>\n",
       "      <td>1</td>\n",
       "      <td>1.0</td>\n",
       "      <td>21.0</td>\n",
       "      <td>NaN</td>\n",
       "      <td>NaN</td>\n",
       "      <td>NaN</td>\n",
       "      <td>NaN</td>\n",
       "      <td>13.0</td>\n",
       "      <td>1.0</td>\n",
       "      <td>0.0</td>\n",
       "      <td>0.0</td>\n",
       "      <td>4.0</td>\n",
       "      <td>1.0</td>\n",
       "      <td>0.0</td>\n",
       "      <td>3.0</td>\n",
       "      <td>6.0</td>\n",
       "      <td>5A</td>\n",
       "      <td>5</td>\n",
       "      <td>31</td>\n",
       "      <td>6.0</td>\n",
       "      <td>1.0</td>\n",
       "      <td>3.0</td>\n",
       "      <td>2.0</td>\n",
       "      <td>4.0</td>\n",
       "      <td>4.0</td>\n",
       "      <td>4.0</td>\n",
       "      <td>3.0</td>\n",
       "      <td>3</td>\n",
       "      <td>4</td>\n",
       "      <td>2</td>\n",
       "      <td>2</td>\n",
       "      <td>2</td>\n",
       "      <td>0</td>\n",
       "      <td>8</td>\n",
       "      <td>2</td>\n",
       "      <td>10.0</td>\n",
       "      <td>6</td>\n",
       "      <td>6</td>\n",
       "      <td>6</td>\n",
       "      <td>...</td>\n",
       "      <td>4.0</td>\n",
       "      <td>2.0</td>\n",
       "      <td>3.0</td>\n",
       "      <td>3.0</td>\n",
       "      <td>2.0</td>\n",
       "      <td>3.0</td>\n",
       "      <td>6</td>\n",
       "      <td>7</td>\n",
       "      <td>2</td>\n",
       "      <td>5</td>\n",
       "      <td>4</td>\n",
       "      <td>2</td>\n",
       "      <td>5</td>\n",
       "      <td>2</td>\n",
       "      <td>3</td>\n",
       "      <td>3</td>\n",
       "      <td>2</td>\n",
       "      <td>5</td>\n",
       "      <td>3</td>\n",
       "      <td>3</td>\n",
       "      <td>3</td>\n",
       "      <td>0.0</td>\n",
       "      <td>2.0</td>\n",
       "      <td>0.0</td>\n",
       "      <td>5.0</td>\n",
       "      <td>5.0</td>\n",
       "      <td>0.0</td>\n",
       "      <td>0.0</td>\n",
       "      <td>1</td>\n",
       "      <td>1.0</td>\n",
       "      <td>1.0</td>\n",
       "      <td>2.0</td>\n",
       "      <td>4.0</td>\n",
       "      <td>3.0</td>\n",
       "      <td>3.0</td>\n",
       "      <td>9.0</td>\n",
       "      <td>7.0</td>\n",
       "      <td>4</td>\n",
       "      <td>2</td>\n",
       "      <td>4</td>\n",
       "    </tr>\n",
       "  </tbody>\n",
       "</table>\n",
       "<p>5 rows × 366 columns</p>\n",
       "</div>"
      ],
      "text/plain": [
       "    LNR  AGER_TYP  AKT_DAT_KL  ...  ZABEOTYP  ANREDE_KZ  ALTERSKATEGORIE_GROB\n",
       "0  1754         2         1.0  ...         3          1                     4\n",
       "1  1770        -1         1.0  ...         3          1                     4\n",
       "2  1465         2         9.0  ...         3          2                     4\n",
       "3  1470        -1         7.0  ...         3          2                     4\n",
       "4  1478         1         1.0  ...         4          2                     4\n",
       "\n",
       "[5 rows x 366 columns]"
      ]
     },
     "execution_count": 162,
     "metadata": {
      "tags": []
     },
     "output_type": "execute_result"
    }
   ],
   "source": [
    "test.head()"
   ]
  },
  {
   "cell_type": "code",
   "execution_count": 163,
   "metadata": {
    "colab": {
     "base_uri": "https://localhost:8080/",
     "height": 34
    },
    "colab_type": "code",
    "id": "jqoLO6z7972B",
    "outputId": "17dd48e1-692c-4ca4-825f-a942606f295e"
   },
   "outputs": [
    {
     "data": {
      "text/plain": [
       "(42833, 366)"
      ]
     },
     "execution_count": 163,
     "metadata": {
      "tags": []
     },
     "output_type": "execute_result"
    }
   ],
   "source": [
    "test.shape"
   ]
  },
  {
   "cell_type": "code",
   "execution_count": 0,
   "metadata": {
    "colab": {},
    "colab_type": "code",
    "id": "eUFVB0WQ-OiZ"
   },
   "outputs": [],
   "source": [
    "#storing in LNR column as will be needed later to map it with predictions to submit results to Kaggle\n",
    "lnr = test['LNR']"
   ]
  },
  {
   "cell_type": "code",
   "execution_count": 165,
   "metadata": {
    "colab": {
     "base_uri": "https://localhost:8080/",
     "height": 34
    },
    "colab_type": "code",
    "id": "XoYJCNF-99TY",
    "outputId": "726d3ee7-b4b3-4ab3-ce73-a521b20f03ca"
   },
   "outputs": [
    {
     "data": {
      "text/plain": [
       "(42833, 352)"
      ]
     },
     "execution_count": 165,
     "metadata": {
      "tags": []
     },
     "output_type": "execute_result"
    }
   ],
   "source": [
    "#clean test data\n",
    "clean_test = clean_data(test, feat_info, False)\n",
    "clean_test.shape"
   ]
  },
  {
   "cell_type": "code",
   "execution_count": 0,
   "metadata": {
    "colab": {},
    "colab_type": "code",
    "id": "NX2CudOQ-H32"
   },
   "outputs": [],
   "source": [
    "#scale data\n",
    "scaled_test = pd.DataFrame(scaler.transform(clean_test.values),\n",
    "                        columns= clean_test.columns)"
   ]
  },
  {
   "cell_type": "code",
   "execution_count": 0,
   "metadata": {
    "colab": {},
    "colab_type": "code",
    "id": "k9xgl38-SJJ-"
   },
   "outputs": [],
   "source": [
    "#re-aligning columns to be in line with scaled_train columns\n",
    "scaled_test = scaled_test[scaled_train.columns]"
   ]
  },
  {
   "cell_type": "code",
   "execution_count": 0,
   "metadata": {
    "colab": {},
    "colab_type": "code",
    "id": "qkivuqGNC86M"
   },
   "outputs": [],
   "source": [
    "#loaded_xgb_model = pickle.load(open(filename_xgb, 'rb'))"
   ]
  },
  {
   "cell_type": "code",
   "execution_count": 0,
   "metadata": {
    "colab": {},
    "colab_type": "code",
    "id": "iZPR-s_S-6XB"
   },
   "outputs": [],
   "source": [
    "#create predictions\n",
    "predictions = model.predict(scaled_test)"
   ]
  },
  {
   "cell_type": "code",
   "execution_count": 169,
   "metadata": {
    "colab": {
     "base_uri": "https://localhost:8080/",
     "height": 227
    },
    "colab_type": "code",
    "id": "6xX5G05a_dl2",
    "outputId": "b5f25459-f6e5-4f88-bb7f-5d47b2dfc99d"
   },
   "outputs": [
    {
     "data": {
      "text/html": [
       "<div>\n",
       "<style scoped>\n",
       "    .dataframe tbody tr th:only-of-type {\n",
       "        vertical-align: middle;\n",
       "    }\n",
       "\n",
       "    .dataframe tbody tr th {\n",
       "        vertical-align: top;\n",
       "    }\n",
       "\n",
       "    .dataframe thead th {\n",
       "        text-align: right;\n",
       "    }\n",
       "</style>\n",
       "<table border=\"1\" class=\"dataframe\">\n",
       "  <thead>\n",
       "    <tr style=\"text-align: right;\">\n",
       "      <th></th>\n",
       "      <th>RESPONSE</th>\n",
       "    </tr>\n",
       "    <tr>\n",
       "      <th>LNR</th>\n",
       "      <th></th>\n",
       "    </tr>\n",
       "  </thead>\n",
       "  <tbody>\n",
       "    <tr>\n",
       "      <th>1754</th>\n",
       "      <td>0.040057</td>\n",
       "    </tr>\n",
       "    <tr>\n",
       "      <th>1770</th>\n",
       "      <td>0.033246</td>\n",
       "    </tr>\n",
       "    <tr>\n",
       "      <th>1465</th>\n",
       "      <td>0.003641</td>\n",
       "    </tr>\n",
       "    <tr>\n",
       "      <th>1470</th>\n",
       "      <td>0.003396</td>\n",
       "    </tr>\n",
       "    <tr>\n",
       "      <th>1478</th>\n",
       "      <td>0.004667</td>\n",
       "    </tr>\n",
       "  </tbody>\n",
       "</table>\n",
       "</div>"
      ],
      "text/plain": [
       "      RESPONSE\n",
       "LNR           \n",
       "1754  0.040057\n",
       "1770  0.033246\n",
       "1465  0.003641\n",
       "1470  0.003396\n",
       "1478  0.004667"
      ]
     },
     "execution_count": 169,
     "metadata": {
      "tags": []
     },
     "output_type": "execute_result"
    }
   ],
   "source": [
    "#finally create competetion submission\n",
    "\n",
    "comp_sub = pd.DataFrame(predictions, index=lnr.astype('int32'),\n",
    "                          columns=[\"RESPONSE\"])\n",
    "\n",
    "comp_sub.head()"
   ]
  },
  {
   "cell_type": "code",
   "execution_count": 0,
   "metadata": {
    "colab": {},
    "colab_type": "code",
    "id": "k1KfzJdy_dWm"
   },
   "outputs": [],
   "source": [
    "comp_sub.to_csv('/content/drive/My Drive/data capstone/comp_sub.csv', sep=',')"
   ]
  }
 ],
 "metadata": {
  "colab": {
   "collapsed_sections": [],
   "machine_shape": "hm",
   "name": "Arvato_Project_Workbook.ipynb",
   "provenance": []
  },
  "kernelspec": {
   "display_name": "Python 3",
   "language": "python",
   "name": "python3"
  },
  "language_info": {
   "codemirror_mode": {
    "name": "ipython",
    "version": 3
   },
   "file_extension": ".py",
   "mimetype": "text/x-python",
   "name": "python",
   "nbconvert_exporter": "python",
   "pygments_lexer": "ipython3",
   "version": "3.7.3"
  }
 },
 "nbformat": 4,
 "nbformat_minor": 1
}

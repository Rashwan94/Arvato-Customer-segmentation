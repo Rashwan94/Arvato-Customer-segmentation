{
 "cells": [
  {
   "cell_type": "markdown",
   "metadata": {},
   "source": [
    "# Bertelsmann Arvato Project\n",
    "\n",
    "This project was designed to create a customer segmentation Report for Arvato Financial Services, In order to increase efficiency in the customer acquisition process of a mail-order company.\n",
    "\n",
    "\n",
    "\n",
    "##  Installations\n",
    "\n",
    "This project requires **Python 3.x** and the following Python libraries installed:\n",
    "\n",
    "- [Numpy](https://www.numpy.org/)\n",
    "- [Matplotlib](https://matplotlib.org/)\n",
    "- [Seaborn]\n",
    "- [Pandas](http://pandas.pydata.org)\n",
    "- [scikit-learn](http://scikit-learn.org/stable/)\n",
    "- [xgboost](https://xgboost.readthedocs.io/en/latest/python/python_intro.html)\n",
    "- [LGBMCLASSIFIER]\n",
    "- [lightgbm]\n",
    "\n",
    "\n",
    "\n",
    "## Summary:\n",
    "Arvato Financial Solutions which is a Bertelsmann subsidiary provided the data and outline of this project for the second term of  Udacity Data Science Nanodegree Program. The ending goal of the project is to increase the efficiency of the customer acquisition process of a mail-order company.\n",
    "\n",
    "There are three significant parts of the project:\n",
    "\n",
    "- 1.**Customer Segmentation Report**:  In this section, I used unsupervised  learning technics to identify clusters in the German population and see how customers of a mail-order company map to them to identify potential customers of the company in Germany.\n",
    "- 2.**Supervised Learning Model**:  In this section, I  used data from targets of a mail order campaign to build a machine learning model that predicts whether or not an individual will respond to an advertising campaign of the company.\n",
    "- 3.**Kaggle Competition** : Once I've chosen a model, I use it to make predictions on the campaign data as part of a Kaggle Competition.\n",
    "\n",
    "\n",
    "\n",
    "\n",
    "## Data\n",
    "\n",
    "- `Udacity_AZDIAS_052018.csv`: Demographics data for the general population of Germany; 891 211 persons (rows) x 366 features (columns).\n",
    "- `Udacity_CUSTOMERS_052018.csv`: Demographics data for customers of a mail-order company; 191 652 persons (rows) x 369 features (columns).\n",
    "- `Udacity_MAILOUT_052018_TRAIN.csv`: Demographics data for individuals who were targets of a marketing campaign; 42 982 persons (rows) x 367 (columns).\n",
    "- `Udacity_MAILOUT_052018_TEST.csv`: Demographics data for individuals who were targets of a marketing campaign; 42 833 persons (rows) x 366 (columns).\n",
    "\n",
    "We are not allowed to publish the data provided by Arvato Financial Services due to the terms and conditions.\n",
    "\n",
    "## Author\n",
    "\n",
    "-   **Abdelrahman Rashwan**\n",
    "\n",
    "\n",
    "## License\n",
    "\n",
    "This project is licensed under the MIT License - see the [LICENSE](LICENSE.txt) file for details.\n",
    "\n",
    "## Acknowledgments\n",
    "\n",
    "I would like to thank [Udacity](https://eu.udacity.com/) for this amazing project, and [Arvato](https://www.arvato.com/)  for providing the data."
   ]
  }
 ],
 "metadata": {
  "kernelspec": {
   "display_name": "Python 3",
   "language": "python",
   "name": "python3"
  },
  "language_info": {
   "codemirror_mode": {
    "name": "ipython",
    "version": 3
   },
   "file_extension": ".py",
   "mimetype": "text/x-python",
   "name": "python",
   "nbconvert_exporter": "python",
   "pygments_lexer": "ipython3",
   "version": "3.7.3"
  }
 },
 "nbformat": 4,
 "nbformat_minor": 2
}
